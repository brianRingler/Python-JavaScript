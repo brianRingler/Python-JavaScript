{
 "cells": [
  {
   "cell_type": "markdown",
   "metadata": {},
   "source": [
    "***\n",
    "# Numbers & Strings \n",
    "***"
   ]
  },
  {
   "cell_type": "markdown",
   "metadata": {},
   "source": [
    "## Convert Number to String \n",
    "**Python**\n",
    "* str()\n",
    "\n",
    "\n",
    "**JavaScript**\n",
    "* .toString()"
   ]
  },
  {
   "cell_type": "markdown",
   "metadata": {},
   "source": [
    "With Python we can call the string function to convert an integer to a string. "
   ]
  },
  {
   "cell_type": "code",
   "execution_count": 4,
   "metadata": {},
   "outputs": [
    {
     "name": "stdout",
     "output_type": "stream",
     "text": [
      "<class 'int'>\n",
      "10\n",
      "---------------------------------------------\n",
      "<class 'str'>\n",
      "10\n"
     ]
    }
   ],
   "source": [
    "number = 10\n",
    "# print the type\n",
    "print(type(number))\n",
    "print(number)\n",
    "print('-'*45)\n",
    "\n",
    "# conver and check type\n",
    "number_as_string = str(number)\n",
    "print(type(number_as_string))\n",
    "print(number_as_string)"
   ]
  },
  {
   "cell_type": "markdown",
   "metadata": {},
   "source": [
    "Here we assign the integer (number) to the variable 20 and then use `typeof` to return the variable type. We can see from the result it is a number. We then convert the variable to a string with `toString()`. "
   ]
  },
  {
   "cell_type": "code",
   "execution_count": 6,
   "metadata": {},
   "outputs": [
    {
     "data": {
      "application/javascript": [
       "let num = 20\n",
       "element.text(typeof num)\n"
      ],
      "text/plain": [
       "<IPython.core.display.Javascript object>"
      ]
     },
     "metadata": {},
     "output_type": "display_data"
    }
   ],
   "source": [
    "%%js\n",
    "let num = 20\n",
    "element.text(typeof num)"
   ]
  },
  {
   "cell_type": "code",
   "execution_count": 17,
   "metadata": {},
   "outputs": [
    {
     "data": {
      "application/javascript": [
       "let num = 20\n",
       "let numAsString = num.toString()\n",
       "element.text(typeof numAsString)\n"
      ],
      "text/plain": [
       "<IPython.core.display.Javascript object>"
      ]
     },
     "metadata": {},
     "output_type": "display_data"
    }
   ],
   "source": [
    "%%js\n",
    "let num = 20\n",
    "let numAsString = num.toString()\n",
    "element.text(typeof numAsString)"
   ]
  },
  {
   "cell_type": "markdown",
   "metadata": {},
   "source": [
    "## Convert String to Number\n",
    "When programming we will be collecting information from users from forms, prompts, inputs are pulling data from websites. A lot of times the values that look like numbers are actually strings. We will need to modify that format and if not careful this can cause problems and unexpected results. \n",
    "\n",
    "**Python**\n",
    "* int()\n",
    "* float()\n",
    "* Float value will have a decimal at end (e.g., 100.00)\n",
    "\n",
    "\n",
    "**JavaScript**\n",
    "* Number.`parseInt`(string, [radix])\n",
    "* Number.`parseFloat`(string, [radix])\n",
    "* `radix` is optional. Enter an integer between 2 and 36 that represents the radix (the base in mathematical numeral systems) of the string. **`Be careful—this does not default to 10`**!"
   ]
  },
  {
   "cell_type": "markdown",
   "metadata": {},
   "source": [
    "Below we are converting the string `'100'` to an integer and a float. When converted to a float Python adds `.0` to the end. Try changing `'100'` to `'100.555'`. Why are you receiving the below error message now? \n",
    "\n",
    "> ValueError: invalid literal for int() with base 10: '100.555'\n",
    "\n",
    "This error is caused because Python is not able to convert a string value of a float to an integer. You could receive the same error if you tried converting any non value. E.g., try 'abc'. \n",
    "\n",
    "Even if you comment out the this line`num_as_int = int(num_as_str)` you will receive the same error:\n",
    "\n",
    "> ValueError: invalid literal for int() with base 10: 'abc'"
   ]
  },
  {
   "cell_type": "code",
   "execution_count": 29,
   "metadata": {},
   "outputs": [
    {
     "ename": "ValueError",
     "evalue": "could not convert string to float: 'abc'",
     "output_type": "error",
     "traceback": [
      "\u001b[1;31m---------------------------------------------------------------------------\u001b[0m",
      "\u001b[1;31mValueError\u001b[0m                                Traceback (most recent call last)",
      "\u001b[1;32m<ipython-input-29-510a47636031>\u001b[0m in \u001b[0;36m<module>\u001b[1;34m\u001b[0m\n\u001b[0;32m      3\u001b[0m \u001b[0mnum_as_str\u001b[0m \u001b[1;33m=\u001b[0m \u001b[1;34m'abc'\u001b[0m\u001b[1;33m\u001b[0m\u001b[1;33m\u001b[0m\u001b[0m\n\u001b[0;32m      4\u001b[0m \u001b[1;31m#num_as_int = int(num_as_str)\u001b[0m\u001b[1;33m\u001b[0m\u001b[1;33m\u001b[0m\u001b[1;33m\u001b[0m\u001b[0m\n\u001b[1;32m----> 5\u001b[1;33m \u001b[0mnum_as_float\u001b[0m \u001b[1;33m=\u001b[0m \u001b[0mfloat\u001b[0m\u001b[1;33m(\u001b[0m\u001b[0mnum_as_str\u001b[0m\u001b[1;33m)\u001b[0m\u001b[1;33m\u001b[0m\u001b[1;33m\u001b[0m\u001b[0m\n\u001b[0m\u001b[0;32m      6\u001b[0m \u001b[0mprint\u001b[0m\u001b[1;33m(\u001b[0m\u001b[1;34mf'Numbers as INT: {num_as_int}'\u001b[0m\u001b[1;33m)\u001b[0m\u001b[1;33m\u001b[0m\u001b[1;33m\u001b[0m\u001b[0m\n\u001b[0;32m      7\u001b[0m \u001b[0mprint\u001b[0m\u001b[1;33m(\u001b[0m\u001b[1;34mf'Numbers as FLOAT: {num_as_float}'\u001b[0m\u001b[1;33m)\u001b[0m \u001b[1;31m# notice how this has .0 at end\u001b[0m\u001b[1;33m\u001b[0m\u001b[1;33m\u001b[0m\u001b[0m\n",
      "\u001b[1;31mValueError\u001b[0m: could not convert string to float: 'abc'"
     ]
    }
   ],
   "source": [
    "# Python convert value to an integer and a float\n",
    "# craete a variable that is a string\n",
    "num_as_str = 'abc'\n",
    "num_as_int = int(num_as_str)\n",
    "num_as_float = float(num_as_str)\n",
    "print(f'Numbers as INT: {num_as_int}')\n",
    "print(f'Numbers as FLOAT: {num_as_float}') # notice how this has .0 at end"
   ]
  },
  {
   "cell_type": "code",
   "execution_count": 20,
   "metadata": {},
   "outputs": [
    {
     "data": {
      "application/javascript": [
       "let numAsString = '100.555'\n",
       "let converted = Number.parseInt(numAsString, 10)\n",
       "// converted to a number\n",
       "element.text(converted)\n"
      ],
      "text/plain": [
       "<IPython.core.display.Javascript object>"
      ]
     },
     "metadata": {},
     "output_type": "display_data"
    }
   ],
   "source": [
    "%%js\n",
    "let numAsString = '100.555'\n",
    "let converted = Number.parseInt(numAsString, 10)\n",
    "// converted to a number\n",
    "element.text(converted)"
   ]
  },
  {
   "cell_type": "code",
   "execution_count": 22,
   "metadata": {},
   "outputs": [
    {
     "data": {
      "application/javascript": [
       "// parseFloat\n",
       "let numAsString = '100.555'\n",
       "let converted = Number.parseFloat(numAsString, 10)\n",
       "// converted to a number\n",
       "element.text(converted)\n"
      ],
      "text/plain": [
       "<IPython.core.display.Javascript object>"
      ]
     },
     "metadata": {},
     "output_type": "display_data"
    }
   ],
   "source": [
    "%%js\n",
    "// parseFloat\n",
    "let numAsString = '100.555'\n",
    "let converted = Number.parseFloat(numAsString, 10)\n",
    "// converted to a number\n",
    "element.text(converted)"
   ]
  },
  {
   "cell_type": "code",
   "execution_count": 15,
   "metadata": {},
   "outputs": [
    {
     "data": {
      "application/javascript": [
       "let numAsString = '100'\n",
       "let converted = Number.parseInt(numAsString)\n",
       "// confirm the type using typeof\n",
       "element.text(typeof converted)\n"
      ],
      "text/plain": [
       "<IPython.core.display.Javascript object>"
      ]
     },
     "metadata": {},
     "output_type": "display_data"
    }
   ],
   "source": [
    "%%js\n",
    "let numAsString = '100'\n",
    "let converted = Number.parseInt(numAsString)\n",
    "// confirm the type using typeof\n",
    "element.text(typeof converted)"
   ]
  },
  {
   "cell_type": "code",
   "execution_count": null,
   "metadata": {},
   "outputs": [],
   "source": []
  },
  {
   "cell_type": "code",
   "execution_count": null,
   "metadata": {},
   "outputs": [],
   "source": []
  },
  {
   "cell_type": "code",
   "execution_count": null,
   "metadata": {},
   "outputs": [],
   "source": []
  }
 ],
 "metadata": {
  "hide_input": false,
  "kernelspec": {
   "display_name": "Python 3",
   "language": "python",
   "name": "python3"
  },
  "language_info": {
   "codemirror_mode": {
    "name": "ipython",
    "version": 3
   },
   "file_extension": ".py",
   "mimetype": "text/x-python",
   "name": "python",
   "nbconvert_exporter": "python",
   "pygments_lexer": "ipython3",
   "version": "3.7.7"
  },
  "latex_envs": {
   "LaTeX_envs_menu_present": true,
   "autoclose": false,
   "autocomplete": true,
   "bibliofile": "biblio.bib",
   "cite_by": "apalike",
   "current_citInitial": 1,
   "eqLabelWithNumbers": true,
   "eqNumInitial": 1,
   "hotkeys": {
    "equation": "Ctrl-E",
    "itemize": "Ctrl-I"
   },
   "labels_anchors": false,
   "latex_user_defs": false,
   "report_style_numbering": false,
   "user_envs_cfg": false
  },
  "toc": {
   "base_numbering": 1,
   "nav_menu": {},
   "number_sections": true,
   "sideBar": true,
   "skip_h1_title": false,
   "title_cell": "Table of Contents",
   "title_sidebar": "Contents",
   "toc_cell": false,
   "toc_position": {},
   "toc_section_display": true,
   "toc_window_display": false
  },
  "varInspector": {
   "cols": {
    "lenName": 16,
    "lenType": 16,
    "lenVar": 40
   },
   "kernels_config": {
    "python": {
     "delete_cmd_postfix": "",
     "delete_cmd_prefix": "del ",
     "library": "var_list.py",
     "varRefreshCmd": "print(var_dic_list())"
    },
    "r": {
     "delete_cmd_postfix": ") ",
     "delete_cmd_prefix": "rm(",
     "library": "var_list.r",
     "varRefreshCmd": "cat(var_dic_list()) "
    }
   },
   "types_to_exclude": [
    "module",
    "function",
    "builtin_function_or_method",
    "instance",
    "_Feature"
   ],
   "window_display": false
  }
 },
 "nbformat": 4,
 "nbformat_minor": 4
}
