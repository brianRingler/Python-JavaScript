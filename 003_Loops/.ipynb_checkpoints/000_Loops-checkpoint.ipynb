{
 "cells": [
  {
   "cell_type": "markdown",
   "metadata": {},
   "source": [
    "***\n",
    "# Loops\n",
    "***"
   ]
  },
  {
   "cell_type": "markdown",
   "metadata": {},
   "source": [
    "## JavaScript \n",
    "First, lets take a quick look at JavaScript for loops and understand the differences between them. Then use them in some examples and compare with Python. \n",
    "\n",
    "**Array of Digits**\n",
    "> const digits = [0, 1, 2, 3, 4, 5, 6, 7, 8, 9]\n",
    "\n",
    "\n",
    "**Classic For Loop**\n",
    "This loop defines a counter `let i = 0`; sets the exit condition where it continues until `i is greater than the length of the digits array` and finally the indexer `i++` which increases by 1 each iteration.\n",
    "* Downside of this loop is keeping track of the counter and exit condition.\n",
    "```\n",
    "for (let i = 0; i < digits.length; i++) {\n",
    "  console.log(digits[i]);\n",
    "};\n",
    "```\n",
    "\n",
    "**For...in Loop**\n",
    "This loop improves on the `For...loop` by eliminating the counting logic and the exit condition.  Here we simply let the function know that index is a variable `const index` and then the loop iterates over the digits array until the end.  To return the value of array we have to use the index, `digits[index]`.  \n",
    "* Downside of this is we still have to use an index to access each element of array. \n",
    "\n",
    "```\n",
    "for (const index in digits) {\n",
    "  console.log(digits[index]);\n",
    "}'\n",
    "```\n",
    "\n",
    "**For...of Loop**\n",
    "This loop improves on the for...in loop by not requiring an index to be used. With this loop we simply return digit which will be the value of the element as its iterated over. Just like the the in...loop only we do not need to use *digits* when accessing the the individual element value. \n",
    "`Note:` This loop was part of the `ES6` JS release.\n",
    "\n",
    "```\n",
    "for (const digit of digits) {\n",
    "  console.log(digit);\n",
    "};\n",
    "```"
   ]
  },
  {
   "cell_type": "markdown",
   "metadata": {},
   "source": [
    "## For Loop\n",
    "\n",
    "**JavaScript**\n",
    "\n",
    "```\n",
    "for (begin; condition; step) {\n",
    "  // ... loop body ...\n",
    "}\n",
    "```\n",
    "\n",
    "**Python**\n",
    "\n",
    "```\n",
    "for var in some_range:\n",
    "    # do something \n",
    "```"
   ]
  },
  {
   "cell_type": "code",
   "execution_count": 2,
   "metadata": {},
   "outputs": [
    {
     "data": {
      "application/javascript": [
       "let counter = 0;\n",
       "for (let i =0; i < 20; i++){\n",
       "  counter += 1  \n",
       "};\n",
       "element.text(`The counter is at ${counter}.`)\n"
      ],
      "text/plain": [
       "<IPython.core.display.Javascript object>"
      ]
     },
     "metadata": {},
     "output_type": "display_data"
    }
   ],
   "source": [
    "%%js\n",
    "let counter = 0;\n",
    "for (let i =0; i < 20; i++){\n",
    "  counter += 1  \n",
    "};\n",
    "element.text(`The counter is at ${counter}.`)"
   ]
  },
  {
   "cell_type": "code",
   "execution_count": 3,
   "metadata": {},
   "outputs": [
    {
     "name": "stdout",
     "output_type": "stream",
     "text": [
      "The counter is at 20\n"
     ]
    }
   ],
   "source": [
    "# Python for loop\n",
    "counter = 0\n",
    "for i in range(20):\n",
    "    counter += 1\n",
    "print(f\"The counter is at {counter}\")"
   ]
  },
  {
   "cell_type": "markdown",
   "metadata": {},
   "source": [
    "## The crazy While Loop\n",
    "\n",
    "When using a *While* or a *Do While* loop always remember to ensure that there will be a condition that will happen to exit the loop. For example, with the simple examples below we are checking to see if the variable `i` is greater than `counter`. If False, then do again while this condition is false. If we do not index the value of `i` then we would always be at 0 and always less than counter. \n",
    "\n",
    "**JavaScript**\n",
    "\n",
    "`\n",
    "while (condition) {\n",
    "  // code\n",
    "  // so-called \"loop body\"\n",
    "}\n",
    "`\n",
    "\n",
    "**Python**\n",
    "\n",
    "`\n",
    "while condition True:\n",
    "    # Code...do something\n",
    "    # body of loop\n",
    "`"
   ]
  },
  {
   "cell_type": "code",
   "execution_count": 5,
   "metadata": {},
   "outputs": [
    {
     "data": {
      "application/javascript": [
       "const counter = 10\n",
       "let i = 0\n",
       "while (i > 10){\n",
       "    element.text('Less than 10')\n",
       "    i += 1 // Do not forget to index i or you will be stuck in a loop\n",
       "}\n"
      ],
      "text/plain": [
       "<IPython.core.display.Javascript object>"
      ]
     },
     "metadata": {},
     "output_type": "display_data"
    }
   ],
   "source": [
    "%%js\n",
    "const counter = 5\n",
    "let i = 0\n",
    "while (i > counter){\n",
    "    element.text('Less than 5')\n",
    "    i += 1 // Do not forget to index i or you will be stuck in a loop\n",
    "}"
   ]
  },
  {
   "cell_type": "code",
   "execution_count": 9,
   "metadata": {},
   "outputs": [
    {
     "name": "stdout",
     "output_type": "stream",
     "text": [
      "Counter is still less than 5\n",
      "Counter is still less than 5\n",
      "Counter is still less than 5\n",
      "Counter is still less than 5\n",
      "Counter is still less than 5\n"
     ]
    }
   ],
   "source": [
    "counter = 5\n",
    "i = 0\n",
    "while i < counter:\n",
    "    print(\"Counter is still less than 5\")\n",
    "    i += 1 # Do not forget to add or you will be stuck in a loop"
   ]
  },
  {
   "cell_type": "code",
   "execution_count": null,
   "metadata": {},
   "outputs": [],
   "source": []
  },
  {
   "cell_type": "markdown",
   "metadata": {},
   "source": [
    "# Nestet Loop"
   ]
  },
  {
   "cell_type": "code",
   "execution_count": null,
   "metadata": {},
   "outputs": [],
   "source": [
    "%%jss\n",
    "const numbers = [\n",
    "            [243, 12, 23, 12, 45, 45, 78, 66, 223, 3],\n",
    "            [34, 2, 1, 553, 23, 4, 66, 23, 4, 55],\n",
    "            [67, 56, 45, 553, 44, 55, 5, 428, 452, 3],\n",
    "            [12, 31, 55, 445, 79, 44, 674, 224, 4, 21],\n",
    "            [4, 2, 3, 52, 13, 51, 44, 1, 67, 5],\n",
    "            [5, 65, 4, 5, 5, 6, 5, 43, 23, 4424],\n",
    "            [74, 532, 6, 7, 35, 17, 89, 43, 43, 66],\n",
    "            [53, 6, 89, 10, 23, 52, 111, 44, 109, 80],\n",
    "            [67, 6, 53, 537, 2, 168, 16, 2, 1, 8],\n",
    "            [76, 7, 9, 6, 3, 73, 77, 100, 56, 100]\n",
    "          ];\n",
    "\n",
    "for (let row = 0; row < numbers.length; row++){\n",
    "    for (let col = 0; col < numbers[row].length; col++) {\n",
    "        if (numbers[row][col] % 2 === 0){\n",
    "            numbers[row][col] = 'odd';\n",
    "        } else {\n",
    "            numbers[row][col] = 'even';\n",
    "        };\n",
    "    };\n",
    "         \n",
    "    element.text(numbers)\n",
    "};"
   ]
  },
  {
   "cell_type": "markdown",
   "metadata": {},
   "source": [
    "The same task with Python but introducing the built-in method ***enumerate()***\n",
    "\n",
    "**enumerate() Parameters**\n",
    "* enumerate() method takes two parameters:\n",
    "\n",
    "* `iterable` - a sequence, an iterator, or objects that supports iteration\n",
    "* `start` (optional) - enumerate() starts counting from this number. If `start` is omitted, `0` is taken as `start`."
   ]
  },
  {
   "cell_type": "code",
   "execution_count": null,
   "metadata": {},
   "outputs": [],
   "source": [
    "numbers = [\n",
    "            [243, 12, 23, 12, 45, 45, 78, 66, 223, 3],\n",
    "            [34, 2, 1, 553, 23, 4, 66, 23, 4, 55],\n",
    "            [67, 56, 45, 553, 44, 55, 5, 428, 452, 3],\n",
    "            [12, 31, 55, 445, 79, 44, 674, 224, 4, 21],\n",
    "            [4, 2, 3, 52, 13, 51, 44, 1, 67, 5],\n",
    "            [5, 65, 4, 5, 5, 6, 5, 43, 23, 4424],\n",
    "            [74, 532, 6, 7, 35, 17, 89, 43, 43, 66],\n",
    "            [53, 6, 89, 10, 23, 52, 111, 44, 109, 80],\n",
    "            [67, 6, 53, 537, 2, 168, 16, 2, 1, 8],\n",
    "            [76, 7, 9, 6, 3, 73, 77, 100, 56, 100]\n",
    "          ];\n",
    "\n",
    "for r_idx, row in enumerate(numbers):\n",
    "    for c_idx, col in enumerate(numbers[r_idx]):\n",
    "        if col % 2 == 1:\n",
    "            numbers[r_idx][c_idx] = 'odd'\n",
    "        else:\n",
    "            numbers[r_idx][c_idx] = 'even'\n",
    "        \n",
    "print(numbers)"
   ]
  },
  {
   "cell_type": "code",
   "execution_count": null,
   "metadata": {},
   "outputs": [],
   "source": []
  },
  {
   "cell_type": "code",
   "execution_count": null,
   "metadata": {},
   "outputs": [],
   "source": []
  },
  {
   "cell_type": "code",
   "execution_count": null,
   "metadata": {},
   "outputs": [],
   "source": []
  }
 ],
 "metadata": {
  "hide_input": false,
  "kernelspec": {
   "display_name": "Python 3.7.7 64-bit",
   "language": "python",
   "name": "python37764bit1d134cf81e544cb99a618dd9a5cd6a6b"
  },
  "language_info": {
   "codemirror_mode": {
    "name": "ipython",
    "version": 3
   },
   "file_extension": ".py",
   "mimetype": "text/x-python",
   "name": "python",
   "nbconvert_exporter": "python",
   "pygments_lexer": "ipython3",
   "version": "3.7.7"
  },
  "latex_envs": {
   "LaTeX_envs_menu_present": true,
   "autoclose": false,
   "autocomplete": true,
   "bibliofile": "biblio.bib",
   "cite_by": "apalike",
   "current_citInitial": 1,
   "eqLabelWithNumbers": true,
   "eqNumInitial": 1,
   "hotkeys": {
    "equation": "Ctrl-E",
    "itemize": "Ctrl-I"
   },
   "labels_anchors": false,
   "latex_user_defs": false,
   "report_style_numbering": false,
   "user_envs_cfg": false
  },
  "toc": {
   "base_numbering": 1,
   "nav_menu": {},
   "number_sections": true,
   "sideBar": true,
   "skip_h1_title": false,
   "title_cell": "Table of Contents",
   "title_sidebar": "Contents",
   "toc_cell": false,
   "toc_position": {},
   "toc_section_display": true,
   "toc_window_display": false
  },
  "varInspector": {
   "cols": {
    "lenName": 16,
    "lenType": 16,
    "lenVar": 40
   },
   "kernels_config": {
    "python": {
     "delete_cmd_postfix": "",
     "delete_cmd_prefix": "del ",
     "library": "var_list.py",
     "varRefreshCmd": "print(var_dic_list())"
    },
    "r": {
     "delete_cmd_postfix": ") ",
     "delete_cmd_prefix": "rm(",
     "library": "var_list.r",
     "varRefreshCmd": "cat(var_dic_list()) "
    }
   },
   "types_to_exclude": [
    "module",
    "function",
    "builtin_function_or_method",
    "instance",
    "_Feature"
   ],
   "window_display": false
  }
 },
 "nbformat": 4,
 "nbformat_minor": 4
}
