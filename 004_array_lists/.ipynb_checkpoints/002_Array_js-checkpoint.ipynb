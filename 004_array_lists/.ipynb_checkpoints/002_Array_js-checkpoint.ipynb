{
 "cells": [
  {
   "cell_type": "markdown",
   "metadata": {},
   "source": [
    "***\n",
    "# JavaScript Arrays and Popular Methods\n",
    "***\n",
    "\n",
    "* `.filter(callback)` \n",
    "* `.includes(element)` \n",
    "* `.join()` \n",
    "* `.split(string)` \n",
    "* `.map(callback)`  \n"
   ]
  },
  {
   "cell_type": "markdown",
   "metadata": {},
   "source": [
    "# Popular Methods\n",
    "Note, when reading JS documentation you will see the word `callback`. I spent hours waiting by my phone until I finally learned the actual meaning. When you see callback it means the function will be called for every item. Thus, there should be a function in-place of callback.   \n",
    "\n",
    "**JavaScript**\n",
    "* `.filter(callback)` is used to filter an array based on a condition. It returns an array of elements\n",
    "* `.includes(element)` returns true when the array includes the element and false, if not\n",
    "* `.join()` will convert the array into a string, sticking the elements with the string provided\n",
    "* `.split(string)` will split a string into an array based on the string provided \n",
    "* `.map(callback)` allows you to transform an array into another one. For example you can double the numbers in an array. \n",
    "\n",
    "**Python**\n",
    "* `filter(function, sequence)` provide a function that tests each element of the sequence provided. The sequence can be a set, list...any iterator. Filter returns an iterator that is filtered. \n",
    "* `in` Using the Python keyword **`in`** allows us to check a list for an object returning True if there and False, otherwise \n",
    "* `.join(iterable)` the Python join method takes an iterable and returns a string concatenated with elements in the iterable. \n",
    "* `.split()` will convert a string into a list.\n",
    "* `.map(function, iterable)` takes a function and iterable applying the function to each element. "
   ]
  },
  {
   "cell_type": "markdown",
   "metadata": {},
   "source": [
    "## The Map Method\n",
    "\n",
    "Using forEach() will not be useful if you want to `permanently modify` the `original array`. forEach() always returns undefined. However, creating a new array from an existing array is simple with the `powerful map()` method.\n",
    "\n",
    "The map() method in JavaScript creates an array by calling a specific function on each element present in the parent array. It is a non-mutating method. Generally map() method is used to iterate over an array and calling function on every element of array.\n",
    "* `array.map(function(currentValue, index, arr), thisValue)`\n",
    "\n",
    "Parameters: This method accepts two parameters as mentioned above and described below:\n",
    "\n",
    "* function(currentValue, index, arr): It is required parameter and it runs on each element of array. It contains three parameters which are listed below:\n",
    "  * currentValue: It is required parameter and it holds the value of current element.\n",
    "  * index: It is optional parameter and it holds the index of current element.\n",
    "  * arr: It is optional parameter and it holds the array.\n",
    "* thisValue: It is optional parameter and used to hold the value of passed to the function.\n",
    "\n",
    "**Return Value**: It returns a new array and elements of arrays are result of callback function."
   ]
  },
  {
   "cell_type": "code",
   "execution_count": 11,
   "metadata": {},
   "outputs": [
    {
     "name": "stdout",
     "output_type": "stream",
     "text": [
      "[ 'JELLY DONUT HOLE', 'CHOCOLATE DONUT HOLE', 'GLAZED DONUT HOLE' ]\n"
     ]
    },
    {
     "data": {
      "text/plain": [
       "undefined"
      ]
     },
     "execution_count": 11,
     "metadata": {},
     "output_type": "execute_result"
    }
   ],
   "source": [
    "let donuts = [\"jelly donut\", \"chocolate donut\", \"glazed donut\"];\n",
    "let improvedDonuts = donuts.map(myFunction)\n",
    "\n",
    "function myFunction(donut) {\n",
    "  donut += \" hole\";\n",
    "  donut = donut.toUpperCase();\n",
    "  return donut;\n",
    "};\n",
    "\n",
    "console.log(improvedDonuts)"
   ]
  },
  {
   "cell_type": "code",
   "execution_count": null,
   "metadata": {},
   "outputs": [],
   "source": []
  }
 ],
 "metadata": {
  "kernelspec": {
   "display_name": "Javascript (Node.js)",
   "language": "javascript",
   "name": "javascript"
  },
  "language_info": {
   "file_extension": ".js",
   "mimetype": "application/javascript",
   "name": "javascript",
   "version": "12.18.0"
  }
 },
 "nbformat": 4,
 "nbformat_minor": 4
}
