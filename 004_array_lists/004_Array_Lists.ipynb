{
 "cells": [
  {
   "cell_type": "markdown",
   "metadata": {},
   "source": [
    "\n",
    "***\n",
    "# Python Lists, NumPy Array and JavaScript Arrays\n",
    "***\n",
    "In Python a **`list`** is like an **`array`** object in JavaScript.  Both are one dimensional and can contain multiple data types.  It is also very common to see developers import NumPy and use its array which only allows a single data type.  However, it has a lot of advantages which is mainly speed. "
   ]
  },
  {
   "cell_type": "code",
   "execution_count": 1,
   "metadata": {},
   "outputs": [],
   "source": [
    "# How to import NumPy \n",
    "import numpy as np"
   ]
  },
  {
   "cell_type": "markdown",
   "metadata": {},
   "source": [
    "Create a couple lists in Python and JavaScript. Note, for JavaScript running in a notebook with a Python kernel the values are not stored for use in later cells.  "
   ]
  },
  {
   "cell_type": "code",
   "execution_count": 2,
   "metadata": {},
   "outputs": [],
   "source": [
    "# create an empyt list\n",
    "py_l1 = []\n",
    "\n",
    "# Create a mixed list\n",
    "py_l2 = ['Teddy', 23, 'Milk', 'eggs', 45, '26', 'Hello World']\n",
    "\n",
    "# create list all integers\n",
    "py_l3 = [10, 25.5, 35, 45, 55.5, 65, 75.5, 85, 95, 105]"
   ]
  },
  {
   "cell_type": "markdown",
   "metadata": {},
   "source": [
    "Create a couple lists in JavaScript"
   ]
  },
  {
   "cell_type": "code",
   "execution_count": 3,
   "metadata": {},
   "outputs": [
    {
     "data": {
      "application/javascript": [
       "// create an empyt list\n",
       "let js_l1 = new Array();\n",
       "\n",
       "// Create a mixed list\n",
       "let js_l2 = ['Teddy', 23, 'Milk', 'eggs', 45, '26', 'Hello World']\n",
       "\n",
       "// create an array all integers and floats\n",
       "let js_l3 = new Array(10, 25.5, 35, 45, 55.5, 65, 75.5, 85, 95, 105)\n"
      ],
      "text/plain": [
       "<IPython.core.display.Javascript object>"
      ]
     },
     "metadata": {},
     "output_type": "display_data"
    }
   ],
   "source": [
    "%%javascript\n",
    "// create an empyt list\n",
    "let js_l1 = new Array();\n",
    "\n",
    "// Create a mixed list\n",
    "let js_l2 = ['Teddy', 23, 'Milk', 'eggs', 45, '26', 'Hello World']\n",
    "\n",
    "// create an array all integers and floats\n",
    "let js_l3 = new Array(10, 25.5, 35, 45, 55.5, 65, 75.5, 85, 95, 105)"
   ]
  },
  {
   "cell_type": "markdown",
   "metadata": {},
   "source": [
    "Above, we are using **let** to define the JS array. However, we could easily do the same with *cosnt*. As you recall from variable review `const` is used when the variable value cannot be changed. However, we were able to push new data into it. That's because `const` means you can only assign the variable once when it's defined. But it doesn't mean the variable is immutable. Its content can change."
   ]
  },
  {
   "cell_type": "code",
   "execution_count": 4,
   "metadata": {},
   "outputs": [
    {
     "name": "stdout",
     "output_type": "stream",
     "text": [
      "0\n",
      "7\n",
      "10\n"
     ]
    }
   ],
   "source": [
    "# lenght of list 1\n",
    "length_list_1 = len(py_l1)\n",
    "\n",
    "# lenght of list 2\n",
    "length_list_2 = len(py_l2)\n",
    "\n",
    "# lenght of list 3\n",
    "length_list_3 = len(py_l3)\n",
    "print(length_list_1)\n",
    "print(length_list_2)\n",
    "print(length_list_3)"
   ]
  },
  {
   "cell_type": "code",
   "execution_count": 5,
   "metadata": {},
   "outputs": [
    {
     "data": {
      "application/javascript": [
       "let js_l1 = new Array();\n",
       "element.text(js_l1.length)\n"
      ],
      "text/plain": [
       "<IPython.core.display.Javascript object>"
      ]
     },
     "metadata": {},
     "output_type": "display_data"
    }
   ],
   "source": [
    "%%javascript\n",
    "let js_l1 = new Array();\n",
    "element.text(js_l1.length)"
   ]
  },
  {
   "cell_type": "code",
   "execution_count": 6,
   "metadata": {},
   "outputs": [
    {
     "data": {
      "application/javascript": [
       "let js_l2 = ['Teddy', 23, 'Milk', 'eggs', 45, '26', 'Hello World']\n",
       "element.text(js_l2.length)\n"
      ],
      "text/plain": [
       "<IPython.core.display.Javascript object>"
      ]
     },
     "metadata": {},
     "output_type": "display_data"
    }
   ],
   "source": [
    "%%javascript\n",
    "let js_l2 = ['Teddy', 23, 'Milk', 'eggs', 45, '26', 'Hello World']\n",
    "element.text(js_l2.length)"
   ]
  },
  {
   "cell_type": "code",
   "execution_count": 7,
   "metadata": {},
   "outputs": [
    {
     "data": {
      "application/javascript": [
       "let js_l3 = new Array(10, 25.5, 35, 45, 55.5, 65, 75.5, 85, 95, 105)\n",
       "element.text(js_l3.length)\n"
      ],
      "text/plain": [
       "<IPython.core.display.Javascript object>"
      ]
     },
     "metadata": {},
     "output_type": "display_data"
    }
   ],
   "source": [
    "%%javascript\n",
    "let js_l3 = new Array(10, 25.5, 35, 45, 55.5, 65, 75.5, 85, 95, 105)\n",
    "element.text(js_l3.length)"
   ]
  },
  {
   "cell_type": "markdown",
   "metadata": {},
   "source": [
    "## Type of Ojects\n",
    "When working with OOP it is important to know what type of value is being returned. I find it common to be using calling type() a lot when trying to solve a new problem. For example, if I am using *Beautiful Soup* knowing the object type returned helps determine how I parse the data, next. \n",
    "\n",
    "\n",
    "**Returning the Type**:\n",
    "* Python: **`type()`** \n",
    "* JavaScript: **`typeof`**\n",
    "\n",
    "[JS typeof](https://developer.mozilla.org/en-US/docs/Web/JavaScript/Reference/Operators/typeof)\n"
   ]
  },
  {
   "cell_type": "markdown",
   "metadata": {},
   "source": [
    "JavaScript check if it an Array ***Array.isArray()***"
   ]
  },
  {
   "cell_type": "code",
   "execution_count": 9,
   "metadata": {},
   "outputs": [
    {
     "data": {
      "application/javascript": [
       "let js_l3 = new Array(10, 25.5, 35, 45, 55.5, 65, 75.5, 85, 95, 105)\n",
       "element.text(Array.isArray(js_l3))\n"
      ],
      "text/plain": [
       "<IPython.core.display.Javascript object>"
      ]
     },
     "metadata": {},
     "output_type": "display_data"
    }
   ],
   "source": [
    "%%js\n",
    "let js_l3 = new Array(10, 25.5, 35, 45, 55.5, 65, 75.5, 85, 95, 105)\n",
    "element.text(Array.isArray(js_l3))"
   ]
  },
  {
   "cell_type": "code",
   "execution_count": 8,
   "metadata": {},
   "outputs": [
    {
     "name": "stdout",
     "output_type": "stream",
     "text": [
      "<class 'list'>\n",
      "<class 'list'>\n",
      "<class 'list'>\n"
     ]
    }
   ],
   "source": [
    "# all three lists we created ruturn type list \n",
    "print(type(py_l1))\n",
    "print(type(py_l2))\n",
    "print(type(py_l3))"
   ]
  },
  {
   "cell_type": "code",
   "execution_count": 32,
   "metadata": {},
   "outputs": [
    {
     "data": {
      "application/javascript": [
       "let js_l1 = new Array();\n",
       "element.text(typeof js_l1)\n"
      ],
      "text/plain": [
       "<IPython.core.display.Javascript object>"
      ]
     },
     "metadata": {},
     "output_type": "display_data"
    }
   ],
   "source": [
    "%%javascript\n",
    "let js_l1 = new Array();\n",
    "element.text(typeof js_l1)"
   ]
  },
  {
   "cell_type": "code",
   "execution_count": 7,
   "metadata": {},
   "outputs": [
    {
     "data": {
      "application/javascript": [
       "let js_l2 = ['Teddy', 23, 'Milk', 'eggs', 45, '26', 'Hello World']\n",
       "element.text(typeof js_l2)\n"
      ],
      "text/plain": [
       "<IPython.core.display.Javascript object>"
      ]
     },
     "metadata": {},
     "output_type": "display_data"
    }
   ],
   "source": [
    "%%javascript\n",
    "let js_l2 = ['Teddy', 23, 'Milk', 'eggs', 45, '26', 'Hello World']\n",
    "element.text(typeof js_l2)"
   ]
  },
  {
   "cell_type": "code",
   "execution_count": 34,
   "metadata": {},
   "outputs": [
    {
     "data": {
      "application/javascript": [
       "let js_l3 = new Array(10, 25.5, 35, 45, 55.5, 65, 75.5, 85, 95, 105)\n",
       "element.text(typeof js_l3)\n"
      ],
      "text/plain": [
       "<IPython.core.display.Javascript object>"
      ]
     },
     "metadata": {},
     "output_type": "display_data"
    }
   ],
   "source": [
    "%%javascript\n",
    "let js_l3 = new Array(10, 25.5, 35, 45, 55.5, 65, 75.5, 85, 95, 105)\n",
    "element.text(typeof js_l3)"
   ]
  },
  {
   "cell_type": "markdown",
   "metadata": {},
   "source": [
    "# Indexing "
   ]
  },
  {
   "cell_type": "markdown",
   "metadata": {},
   "source": [
    "In Python if we index an empty list then it returns an error. In JavaScript the save action returns `undefined`.  Right click the page, select `Console` and paste the following:\n",
    "```\n",
    "let js_l1 = new Array();\n",
    "console.log(js_l1[0])\n",
    "```\n",
    "\n",
    "Notice that it returns `undefined` which the notebook does not return. This is important difference as I find myself missing this when coding in JavaScript. I like the big red error flag in Python. "
   ]
  },
  {
   "cell_type": "code",
   "execution_count": 11,
   "metadata": {},
   "outputs": [
    {
     "ename": "IndexError",
     "evalue": "list index out of range",
     "output_type": "error",
     "traceback": [
      "\u001b[1;31m---------------------------------------------------------------------------\u001b[0m",
      "\u001b[1;31mIndexError\u001b[0m                                Traceback (most recent call last)",
      "\u001b[1;32m<ipython-input-11-d2cf89f75d0d>\u001b[0m in \u001b[0;36m<module>\u001b[1;34m\u001b[0m\n\u001b[0;32m      1\u001b[0m \u001b[1;31m# return the first index of the list\u001b[0m\u001b[1;33m\u001b[0m\u001b[1;33m\u001b[0m\u001b[1;33m\u001b[0m\u001b[0m\n\u001b[1;32m----> 2\u001b[1;33m \u001b[0mindex_zero\u001b[0m \u001b[1;33m=\u001b[0m \u001b[0mpy_l1\u001b[0m\u001b[1;33m[\u001b[0m\u001b[1;36m0\u001b[0m\u001b[1;33m]\u001b[0m\u001b[1;33m\u001b[0m\u001b[1;33m\u001b[0m\u001b[0m\n\u001b[0m\u001b[0;32m      3\u001b[0m \u001b[0mprint\u001b[0m\u001b[1;33m(\u001b[0m\u001b[0mindex_zero\u001b[0m\u001b[1;33m)\u001b[0m\u001b[1;33m\u001b[0m\u001b[1;33m\u001b[0m\u001b[0m\n",
      "\u001b[1;31mIndexError\u001b[0m: list index out of range"
     ]
    }
   ],
   "source": [
    "# return the first index of the list\n",
    "index_zero = py_l1[0]\n",
    "print(index_zero)"
   ]
  },
  {
   "cell_type": "code",
   "execution_count": 10,
   "metadata": {},
   "outputs": [
    {
     "data": {
      "application/javascript": [
       "let js_l1 = new Array();\n",
       "element.text(js_l1[0]) // note: the actual return is 'undefined'\n"
      ],
      "text/plain": [
       "<IPython.core.display.Javascript object>"
      ]
     },
     "metadata": {},
     "output_type": "display_data"
    }
   ],
   "source": [
    "%%javascript\n",
    "let js_l1 = new Array();\n",
    "element.text(js_l1[0]) // note: the actual return is 'undefined'"
   ]
  },
  {
   "cell_type": "markdown",
   "metadata": {},
   "source": [
    "### Finding the Index of Value \n",
    "With JS we can use `.indexOf()` and Python we use `.index()`. With both you pass the number of string you want the index for. Python return a `ValueError` if not in the list and JavaScript return `-1`."
   ]
  },
  {
   "cell_type": "code",
   "execution_count": 20,
   "metadata": {},
   "outputs": [
    {
     "data": {
      "application/javascript": [
       "let js_l2 = ['Teddy', 23, 'Milk', 'eggs', 45, '26', 'Hello World']\n",
       "// zero based eggs is the third index\n",
       "element.text(js_l2.indexOf('eggss'))\n"
      ],
      "text/plain": [
       "<IPython.core.display.Javascript object>"
      ]
     },
     "metadata": {},
     "output_type": "display_data"
    }
   ],
   "source": [
    "%%javascript\n",
    "let js_l2 = ['Teddy', 23, 'Milk', 'eggs', 45, '26', 'Hello World']\n",
    "// zero based eggs is the third index\n",
    "element.text(js_l2.indexOf('eggss'))"
   ]
  },
  {
   "cell_type": "code",
   "execution_count": 19,
   "metadata": {},
   "outputs": [
    {
     "name": "stdout",
     "output_type": "stream",
     "text": [
      "3\n"
     ]
    }
   ],
   "source": [
    "# Python \n",
    "js_l2 = ['Teddy', 23, 'Milk', 'eggs', 45, '26', 'Hello World']\n",
    "print(js_l2.index('eggs'))"
   ]
  },
  {
   "cell_type": "markdown",
   "metadata": {},
   "source": [
    "## Adding Value First in Array/List\n",
    "We know that `.push()` and `.append()` can add values to an Array/List but that is on the end. What about the first spot? We can use:\n",
    "* `.unshift()` for JS\n",
    "* `.insert(idx, value)` for Python"
   ]
  },
  {
   "cell_type": "code",
   "execution_count": 23,
   "metadata": {},
   "outputs": [
    {
     "data": {
      "application/javascript": [
       "let js_l2 = ['Teddy', 23, 'Milk', 'eggs', 45, '26', 'Hello World']\n",
       "js_l2.unshift('Foo')\n",
       "element.text(js_l2)\n"
      ],
      "text/plain": [
       "<IPython.core.display.Javascript object>"
      ]
     },
     "metadata": {},
     "output_type": "display_data"
    }
   ],
   "source": [
    "%%javascript\n",
    "let js_l2 = ['Teddy', 23, 'Milk', 'eggs', 45, '26', 'Hello World']\n",
    "js_l2.unshift('Foo')\n",
    "element.text(js_l2)"
   ]
  },
  {
   "cell_type": "code",
   "execution_count": 24,
   "metadata": {},
   "outputs": [
    {
     "name": "stdout",
     "output_type": "stream",
     "text": [
      "['Foo', 'Teddy', 23, 'Milk', 'eggs', 45, '26', 'Hello World']\n"
     ]
    }
   ],
   "source": [
    "js_l2 = ['Teddy', 23, 'Milk', 'eggs', 45, '26', 'Hello World']\n",
    "js_l2.insert(0, \"Foo\")\n",
    "print(js_l2)"
   ]
  },
  {
   "cell_type": "markdown",
   "metadata": {},
   "source": [
    "## Index the `first` and `last` value \n",
    "Python and JS are similar when accessing the list/array type object.  Python requires the name of the object followed by `[...]` open and closed brackets.  JS is similar but to you will need to introduce `slice` when you want to do certain types of slicing. E.g., Python allows \n",
    "* get_last_index[-1] where JS requires get_last_index.slice(-1)"
   ]
  },
  {
   "cell_type": "code",
   "execution_count": 37,
   "metadata": {},
   "outputs": [
    {
     "name": "stdout",
     "output_type": "stream",
     "text": [
      "Teddy\n",
      "Hello World\n"
     ]
    }
   ],
   "source": [
    "py_l2 = ['Teddy', 23, 'Milk', 'eggs', 45, '26', 'Hello World']\n",
    "print(py_l2[0]) # return the first index value\n",
    "print(py_l2[-1]) # return the last index value "
   ]
  },
  {
   "cell_type": "code",
   "execution_count": 38,
   "metadata": {},
   "outputs": [
    {
     "data": {
      "application/javascript": [
       "let js_l2 = ['Teddy', 23, 'Milk', 'eggs', 45, '26', 'Hello World']\n",
       "element.text(js_l2[0])  // first index of array\n"
      ],
      "text/plain": [
       "<IPython.core.display.Javascript object>"
      ]
     },
     "metadata": {},
     "output_type": "display_data"
    }
   ],
   "source": [
    "%%javascript\n",
    "let js_l2 = ['Teddy', 23, 'Milk', 'eggs', 45, '26', 'Hello World']\n",
    "element.text(js_l2[0])  // first index of array"
   ]
  },
  {
   "cell_type": "markdown",
   "metadata": {},
   "source": [
    "In JS you will see to different methods for accessing the last element of an array."
   ]
  },
  {
   "cell_type": "code",
   "execution_count": 39,
   "metadata": {},
   "outputs": [
    {
     "data": {
      "application/javascript": [
       "let js_l2 = ['Teddy', 23, 'Milk', 'eggs', 45, '26', 'Hello World']\n",
       "\n",
       "// I have seen this one more often when reviewing JS code\n",
       "// Use length of array minus 1. We reduce by 1 because the array is 0 based\n",
       "element.text(js_l2[js_l2.length - 1])  // last index of array\n"
      ],
      "text/plain": [
       "<IPython.core.display.Javascript object>"
      ]
     },
     "metadata": {},
     "output_type": "display_data"
    }
   ],
   "source": [
    "%%javascript\n",
    "let js_l2 = ['Teddy', 23, 'Milk', 'eggs', 45, '26', 'Hello World']\n",
    "\n",
    "// I have seen this one more often when reviewing JS code\n",
    "// Use length of array minus 1. We reduce by 1 because the array is 0 based\n",
    "element.text(js_l2[js_l2.length - 1])  // last index of array"
   ]
  },
  {
   "cell_type": "code",
   "execution_count": 40,
   "metadata": {},
   "outputs": [
    {
     "data": {
      "application/javascript": [
       "let js_l2 = ['Teddy', 23, 'Milk', 'eggs', 45, '26', 'Hello World']\n",
       "// Using the slice method\n",
       "element.text(js_l2.slice(-1))  // last index of array \n"
      ],
      "text/plain": [
       "<IPython.core.display.Javascript object>"
      ]
     },
     "metadata": {},
     "output_type": "display_data"
    }
   ],
   "source": [
    "%%javascript\n",
    "let js_l2 = ['Teddy', 23, 'Milk', 'eggs', 45, '26', 'Hello World']\n",
    "// Using the slice method\n",
    "element.text(js_l2.slice(-1))  // last index of array "
   ]
  },
  {
   "cell_type": "markdown",
   "metadata": {},
   "source": [
    "**`ReadMe`** - When using JS and accessing an array the square brackets in JS return a string. When accessing an array using **`.slice()`** JS will return an object. In this notebook you do not see the difference but this is what is returned. \n",
    "* `arrayJS[arrayJS.length - 1]` returns 'last'\n",
    "* `arrayJS.arrayJS.slice(-1)` returns ['last']\n",
    "\n",
    "If we call `typeof` we can see the result is a *string* compared with an *object*. "
   ]
  },
  {
   "cell_type": "code",
   "execution_count": 41,
   "metadata": {},
   "outputs": [
    {
     "data": {
      "application/javascript": [
       "let arrayJS = ['first','last']\n",
       "// returns a string \n",
       "element.text(typeof arrayJS[arrayJS.length - 1])  // last index of array\n"
      ],
      "text/plain": [
       "<IPython.core.display.Javascript object>"
      ]
     },
     "metadata": {},
     "output_type": "display_data"
    }
   ],
   "source": [
    "%%javascript\n",
    "let arrayJS = ['first','last']\n",
    "// returns a string \n",
    "element.text(typeof arrayJS[arrayJS.length - 1])  // last index of array"
   ]
  },
  {
   "cell_type": "code",
   "execution_count": 42,
   "metadata": {},
   "outputs": [
    {
     "data": {
      "application/javascript": [
       "let arrayJS = ['first','last']\n",
       "// Using slice returns an OBJECT\n",
       "element.text(typeof arrayJS.slice(-1))  // last index of array\n"
      ],
      "text/plain": [
       "<IPython.core.display.Javascript object>"
      ]
     },
     "metadata": {},
     "output_type": "display_data"
    }
   ],
   "source": [
    "%%javascript\n",
    "let arrayJS = ['first','last']\n",
    "// Using slice returns an OBJECT\n",
    "element.text(typeof arrayJS.slice(-1))  // last index of array"
   ]
  },
  {
   "cell_type": "markdown",
   "metadata": {},
   "source": [
    "To take it one additional step we can use both techniques to obtain the last value of the array and assign to a variable `lastValue`. If we index both using `[0]` one returns `'l'` which is the first letter of the sting `last` and the other returns the entire word `last` because it is th first index of the object lastValue. "
   ]
  },
  {
   "cell_type": "code",
   "execution_count": 43,
   "metadata": {},
   "outputs": [
    {
     "data": {
      "application/javascript": [
       "let arrayJS = ['first','last']\n",
       "let lastValue = arrayJS[arrayJS.length - 1] \n",
       "element.text(lastValue[0])\n"
      ],
      "text/plain": [
       "<IPython.core.display.Javascript object>"
      ]
     },
     "metadata": {},
     "output_type": "display_data"
    }
   ],
   "source": [
    "%%javascript\n",
    "let arrayJS = ['first','last']\n",
    "let lastValue = arrayJS[arrayJS.length - 1] \n",
    "element.text(lastValue[0])"
   ]
  },
  {
   "cell_type": "code",
   "execution_count": 44,
   "metadata": {},
   "outputs": [
    {
     "data": {
      "application/javascript": [
       "let arrayJS = ['first','last']\n",
       "let lastValue = arrayJS.slice(-1) \n",
       "element.text(lastValue[0])\n"
      ],
      "text/plain": [
       "<IPython.core.display.Javascript object>"
      ]
     },
     "metadata": {},
     "output_type": "display_data"
    }
   ],
   "source": [
    "%%javascript\n",
    "let arrayJS = ['first','last']\n",
    "let lastValue = arrayJS.slice(-1) \n",
    "element.text(lastValue[0])"
   ]
  },
  {
   "cell_type": "markdown",
   "metadata": {},
   "source": [
    "## Item Exist in Array/List\n",
    "* JS `.includes()`\n",
    "* Python use: `in`"
   ]
  },
  {
   "cell_type": "code",
   "execution_count": 9,
   "metadata": {},
   "outputs": [
    {
     "data": {
      "application/javascript": [
       "const lang = ['vba', 'js', 'python', 'java'];\n",
       "const check = 'js';\n",
       "\n",
       "if(lang.includes(check)){\n",
       "    element.text(`${check} is in the list`)\n",
       "}else{\n",
       "    element.text(`${check} is not in the list`)\n",
       "}\n"
      ],
      "text/plain": [
       "<IPython.core.display.Javascript object>"
      ]
     },
     "metadata": {},
     "output_type": "display_data"
    }
   ],
   "source": [
    "%%js\n",
    "const lang = ['vba', 'js', 'python', 'java'];\n",
    "const check = 'js';\n",
    "\n",
    "if(lang.includes(check)){\n",
    "    element.text(`${check} is in the list`)\n",
    "}else{\n",
    "    element.text(`${check} is not in the list`)\n",
    "}"
   ]
  },
  {
   "cell_type": "code",
   "execution_count": 10,
   "metadata": {},
   "outputs": [
    {
     "data": {
      "text/plain": [
       "'js is in the list'"
      ]
     },
     "metadata": {},
     "output_type": "display_data"
    }
   ],
   "source": [
    "lang = ['vba', 'js', 'python', 'java'];\n",
    "check = 'js';\n",
    "\n",
    "if check in lang:\n",
    "    display(f'{check} is in the list')\n",
    "else:\n",
    "    display(f'{check} is not in the list')"
   ]
  },
  {
   "cell_type": "markdown",
   "metadata": {},
   "source": [
    "## Join items List/Array `, `\n",
    "Join items within a list with comma a space"
   ]
  },
  {
   "cell_type": "code",
   "execution_count": 12,
   "metadata": {},
   "outputs": [
    {
     "data": {
      "application/javascript": [
       "const lang = ['vba', 'js', 'python', 'java'];\n",
       "const join_array = lang.join(', ')\n",
       "element.text(join_array)\n"
      ],
      "text/plain": [
       "<IPython.core.display.Javascript object>"
      ]
     },
     "metadata": {},
     "output_type": "display_data"
    }
   ],
   "source": [
    "%%js\n",
    "const lang = ['vba', 'js', 'python', 'java'];\n",
    "const join_array = lang.join(', ')\n",
    "element.text(join_array)"
   ]
  },
  {
   "cell_type": "code",
   "execution_count": 13,
   "metadata": {},
   "outputs": [
    {
     "data": {
      "text/plain": [
       "'vba, js, python, java'"
      ]
     },
     "metadata": {},
     "output_type": "display_data"
    }
   ],
   "source": [
    "# Python \n",
    "lang = ['vba', 'js', 'python', 'java']\n",
    "j = ', '\n",
    "join_list = j.join(lang)\n",
    "display(join_list)"
   ]
  },
  {
   "cell_type": "markdown",
   "metadata": {},
   "source": [
    "## Return ALL Values of List/Array"
   ]
  },
  {
   "cell_type": "code",
   "execution_count": 45,
   "metadata": {},
   "outputs": [
    {
     "name": "stdout",
     "output_type": "stream",
     "text": [
      "[10, 25.5, 35, 45, 55.5, 65, 75.5, 85, 95, 105]\n"
     ]
    }
   ],
   "source": [
    "# Python return the entire list of vaues\n",
    "py_l3 = [10, 25.5, 35, 45, 55.5, 65, 75.5, 85, 95, 105]\n",
    "print(py_l3[:])"
   ]
  },
  {
   "cell_type": "markdown",
   "metadata": {},
   "source": [
    "To get all items JS simply call the list.  "
   ]
  },
  {
   "cell_type": "code",
   "execution_count": 46,
   "metadata": {},
   "outputs": [
    {
     "data": {
      "application/javascript": [
       "let js_l3 = new Array(10, 25.5, 35, 45, 55.5, 65, 75.5, 85, 95, 105)\n",
       "element.text(js_l3)\n"
      ],
      "text/plain": [
       "<IPython.core.display.Javascript object>"
      ]
     },
     "metadata": {},
     "output_type": "display_data"
    }
   ],
   "source": [
    "%%javascript\n",
    "let js_l3 = new Array(10, 25.5, 35, 45, 55.5, 65, 75.5, 85, 95, 105)\n",
    "element.text(js_l3)"
   ]
  },
  {
   "attachments": {
    "reduce.PNG": {
     "image/png": "[encoded data removed]"
    }
   },
   "cell_type": "markdown",
   "metadata": {},
   "source": [
    "## Array Reduce \n",
    "Is a generic method that lets you implement `every()`, `some()` and others. Reducing an array means it converts an array into a single value. Reduce takes two arguments:\n",
    "* `(the callback/reducer, starting value)`\n",
    "* `total = 1` and `current = 1 * 2`\n",
    "* `total = 2` and `current = 2 * 4`\n",
    "* `total = 8` and `current = 8 * 2`\n",
    "\n",
    "\n",
    "![reduce.PNG](attachment:reduce.PNG)"
   ]
  },
  {
   "cell_type": "code",
   "execution_count": 1,
   "metadata": {},
   "outputs": [
    {
     "data": {
      "application/javascript": [
       "const array = [2, 4, 2];\n",
       "const startingValue = 1;\n",
       "\n",
       "const product = array.reduce((total, current) => {\n",
       "     return total * current\n",
       "}, startingValue);\n",
       "element.text(product)\n"
      ],
      "text/plain": [
       "<IPython.core.display.Javascript object>"
      ]
     },
     "metadata": {},
     "output_type": "display_data"
    }
   ],
   "source": [
    "%%js\n",
    "const array = [2, 4, 2];\n",
    "const startingValue = 1;\n",
    "\n",
    "const product = array.reduce((total, current) => {\n",
    "     return total * current\n",
    "}, startingValue);\n",
    "\n",
    "element.text(product)"
   ]
  },
  {
   "cell_type": "markdown",
   "metadata": {},
   "source": [
    "If we can fit on one line then we can remove the return key word and drop curly braces. This is called `implicit return`."
   ]
  },
  {
   "cell_type": "code",
   "execution_count": 3,
   "metadata": {},
   "outputs": [
    {
     "data": {
      "application/javascript": [
       "const array = [2, 4, 2];\n",
       "const startingValue = 1;\n",
       "\n",
       "const product = array.reduce((total, current) => total * current, startingValue);\n",
       "element.text(product)\n"
      ],
      "text/plain": [
       "<IPython.core.display.Javascript object>"
      ]
     },
     "metadata": {},
     "output_type": "display_data"
    }
   ],
   "source": [
    "%%js\n",
    "const array = [2, 4, 2];\n",
    "const startingValue = 1;\n",
    "\n",
    "const product = array.reduce((total, current) => total * current, startingValue);\n",
    "element.text(product)"
   ]
  },
  {
   "cell_type": "code",
   "execution_count": 4,
   "metadata": {},
   "outputs": [
    {
     "data": {
      "application/javascript": [
       "// wihtoug using reduce\n",
       "const array = [2, 4, 2];\n",
       "\n",
       "let product = 1; //initial value\n",
       "array.forEach(item => product = product * item);\n",
       "element.text(product)\n"
      ],
      "text/plain": [
       "<IPython.core.display.Javascript object>"
      ]
     },
     "metadata": {},
     "output_type": "display_data"
    }
   ],
   "source": [
    "%%js\n",
    "// wihtoug using reduce\n",
    "const array = [2, 4, 2];\n",
    "let product = 1; //initial value\n",
    "\n",
    "array.forEach(item => product = product * item);\n",
    "element.text(product)"
   ]
  },
  {
   "cell_type": "markdown",
   "metadata": {},
   "source": [
    "Adding an array using reduce and arrow function\n",
    "* ***grades*** is the array of numbers\n",
    "* ***total*** and ***current*** are first two arguments of ***reduce***\n",
    "* `total + current`is adding the values and `0` is the starting value. It is always best to add a starting value. "
   ]
  },
  {
   "cell_type": "code",
   "execution_count": 8,
   "metadata": {},
   "outputs": [
    {
     "data": {
      "application/javascript": [
       "const sumGrades = grades => {\n",
       "    return grades.reduce((total, current) => total + current, 0);\n",
       "}\n",
       "\n",
       "element.text(sumGrades([10, 12, 10, 14]));\n"
      ],
      "text/plain": [
       "<IPython.core.display.Javascript object>"
      ]
     },
     "metadata": {},
     "output_type": "display_data"
    }
   ],
   "source": [
    "%%js\n",
    "const sumGrades = grades => {\n",
    "    return grades.reduce((total, current) => total + current, 0);\n",
    "}\n",
    "\n",
    "element.text(sumGrades([10, 12, 10, 14]));"
   ]
  },
  {
   "cell_type": "markdown",
   "metadata": {},
   "source": [
    "## Python Reduce \n",
    "To use `reduce()` in Python we first need to import `functools`. The `reduce(fun,seq)` is used to apply a particular function passed in its argument to all of the list elements mentioned in the sequence passed along. \n",
    "* At first step, first two elements of sequence are picked and the result is obtained.\n",
    "* Next step is to apply the same function to the `previously attained result` and the number just succeeding the second element and the result is again stored.\n",
    "* This process continues till no more elements are left in the container."
   ]
  },
  {
   "cell_type": "code",
   "execution_count": 5,
   "metadata": {},
   "outputs": [
    {
     "data": {
      "text/plain": [
       "16"
      ]
     },
     "metadata": {},
     "output_type": "display_data"
    }
   ],
   "source": [
    "import functools as f\n",
    "array = [2, 4, 2]\n",
    "# first arg is function, second arg is sequence\n",
    "result = f.reduce(lambda a, b: a * b, array)\n",
    "display(result)"
   ]
  },
  {
   "cell_type": "code",
   "execution_count": 6,
   "metadata": {},
   "outputs": [
    {
     "data": {
      "text/plain": [
       "46"
      ]
     },
     "metadata": {},
     "output_type": "display_data"
    }
   ],
   "source": [
    "# Adding numbers of list using reduce \n",
    "grades = [10, 12, 10, 14]\n",
    "sumGrades = f.reduce(lambda a, b: a + b, grades)\n",
    "display(sumGrades)"
   ]
  },
  {
   "cell_type": "code",
   "execution_count": null,
   "metadata": {},
   "outputs": [],
   "source": []
  },
  {
   "cell_type": "markdown",
   "metadata": {},
   "source": [
    "## Slicing, Dicing &  Splicing\n",
    "When working with JavaScript, Python or any programming language to access objects such as lists, arrays and dictionaries it is import to know if the range of values searched is inclusive or exclusive.  For example, we want to access the values Milk, eggs and 45 from the second list. To do this we need to request the index values 2, 3, 4 AND 5.  Python and JavaScript return UP TO THE LAST VALUE so it returns the first requested value until the second from last value.\n",
    "\n",
    "Note, if using the Python library pandas to work with a Dateframe you will encounter **`iloc`** and **`loc`**. They utilize both the inclusive and exclusive approaches so it is important to memorize or where to quickly reference so you can have the desired outcome returned.  "
   ]
  },
  {
   "cell_type": "code",
   "execution_count": 47,
   "metadata": {},
   "outputs": [
    {
     "name": "stdout",
     "output_type": "stream",
     "text": [
      "First to 3rd value of list: ['Teddy', 23, 'Milk']\n",
      "Return Milk, eggs and 45: ['Milk', 'eggs', 45]\n"
     ]
    }
   ],
   "source": [
    "# Python Examples \n",
    "py_l2 = ['Teddy', 23, 'Milk', 'eggs', 45, '26', 'Hello World']\n",
    "\n",
    "# When slicing in Python the value returned is UP TO but not including\n",
    "print(f'First to 3rd value of list: {py_l2[:3]}')\n",
    "\n",
    "# To return Milk, eggs and 45 we start at 2 and go one beyond the last value\n",
    "print(f'Return Milk, eggs and 45: {py_l2[2:5]}')\n"
   ]
  },
  {
   "cell_type": "markdown",
   "metadata": {},
   "source": [
    "#### JS using ***.splice(idx1, idx2)***"
   ]
  },
  {
   "cell_type": "code",
   "execution_count": 28,
   "metadata": {},
   "outputs": [
    {
     "data": {
      "application/javascript": [
       "let js_l2 = new Array('Teddy', 23, 'Milk', 'eggs', 45, '26', 'Hello World')\n",
       "element.text(js_l2.splice(0,3));\n"
      ],
      "text/plain": [
       "<IPython.core.display.Javascript object>"
      ]
     },
     "metadata": {},
     "output_type": "display_data"
    }
   ],
   "source": [
    "%%javascript\n",
    "let js_l2 = new Array('Teddy', 23, 'Milk', 'eggs', 45, '26', 'Hello World')\n",
    "element.text(js_l2.splice(0,3));"
   ]
  },
  {
   "cell_type": "markdown",
   "metadata": {},
   "source": [
    "Note, ***.substring(idx1, idx2)*** works on a string returns error on Array"
   ]
  },
  {
   "cell_type": "code",
   "execution_count": 29,
   "metadata": {},
   "outputs": [
    {
     "data": {
      "application/javascript": [
       "let js_l2 = 'HelloWorldHowAreYou'\n",
       "element.text(js_l2.substring(2, 5));\n"
      ],
      "text/plain": [
       "<IPython.core.display.Javascript object>"
      ]
     },
     "metadata": {},
     "output_type": "display_data"
    }
   ],
   "source": [
    "%%javascript\n",
    "let js_l2 = 'HelloWorldHowAreYou'\n",
    "element.text(js_l2.substring(2, 5));"
   ]
  },
  {
   "cell_type": "markdown",
   "metadata": {},
   "source": [
    "#### `.indexOf(vale, [Occurrence])`\n",
    "**IndeOf()** returns the index of the value searched. The second argument is optional and here its saying find the second occurrence of 'Teddy'. If that was changed to 1 it would return 0.  If not found JS returns `-1`  "
   ]
  },
  {
   "cell_type": "code",
   "execution_count": 30,
   "metadata": {},
   "outputs": [
    {
     "data": {
      "application/javascript": [
       "let js_l2 = new Array('Teddy', 23, 'Milk', 'Teddy', 45, '26', 'Hello World')\n",
       "element.text(js_l2.indexOf('Teddy', 2));\n"
      ],
      "text/plain": [
       "<IPython.core.display.Javascript object>"
      ]
     },
     "metadata": {},
     "output_type": "display_data"
    }
   ],
   "source": [
    "%%javascript\n",
    "let js_l2 = new Array('Teddy', 23, 'Milk', 'Teddy', 45, '26', 'Hello World')\n",
    "element.text(js_l2.indexOf('Teddy', 2));"
   ]
  },
  {
   "cell_type": "markdown",
   "metadata": {},
   "source": [
    "## Testing Arrays/Lists\n",
    "\n",
    "**JavaScript**\n",
    "* `.some`\n",
    "* `.find`\n",
    "* `.every`\n",
    "\n",
    "**Returning the Length**:\n",
    "* Python: **`len()`** \n",
    "* JavaScript: **`.length`**"
   ]
  },
  {
   "cell_type": "markdown",
   "metadata": {},
   "source": [
    "Here the `.some()` method is applied to the array and within the some method is another arrow functions. This will return false because not one of the grades is below 10."
   ]
  },
  {
   "cell_type": "code",
   "execution_count": 10,
   "metadata": {},
   "outputs": [
    {
     "data": {
      "application/javascript": [
       "const shouldAdjustGrades = grades => {\n",
       "    return grades.some(grade => grade < 10);\n",
       "}\n",
       "\n",
       "element.text(shouldAdjustGrades([10, 12, 10, 14]));\n"
      ],
      "text/plain": [
       "<IPython.core.display.Javascript object>"
      ]
     },
     "metadata": {},
     "output_type": "display_data"
    }
   ],
   "source": [
    "%%js\n",
    "const shouldAdjustGrades = grades => {\n",
    "    return grades.some(grade => grade < 10);\n",
    "}\n",
    "\n",
    "element.text(shouldAdjustGrades([10, 12, 10, 14]));"
   ]
  },
  {
   "cell_type": "code",
   "execution_count": 11,
   "metadata": {},
   "outputs": [
    {
     "name": "stdout",
     "output_type": "stream",
     "text": [
      "False\n"
     ]
    }
   ],
   "source": [
    "# Python \n",
    "def shouldAdjustGrades(grades):\n",
    "    return any(g for g in grades if g < 10)\n",
    "\n",
    "print(shouldAdjustGrades([10, 12, 10, 14]))"
   ]
  },
  {
   "cell_type": "markdown",
   "metadata": {},
   "source": [
    "Using `.every()` to validate if every value in the list is equal to or greater than 18. "
   ]
  },
  {
   "cell_type": "code",
   "execution_count": 12,
   "metadata": {},
   "outputs": [
    {
     "data": {
      "application/javascript": [
       "const shouldCancelExam = grades => {\n",
       "    return grades.every(grade => grade >= 18);\n",
       "}\n",
       "\n",
       "element.text(shouldCancelExam([10, 12, 10, 14]));\n"
      ],
      "text/plain": [
       "<IPython.core.display.Javascript object>"
      ]
     },
     "metadata": {},
     "output_type": "display_data"
    }
   ],
   "source": [
    "%%js\n",
    "const shouldCancelExam = grades => {\n",
    "    return grades.every(grade => grade >= 18);\n",
    "}\n",
    "\n",
    "element.text(shouldCancelExam([10, 12, 10, 14]));"
   ]
  },
  {
   "cell_type": "code",
   "execution_count": 13,
   "metadata": {},
   "outputs": [
    {
     "name": "stdout",
     "output_type": "stream",
     "text": [
      "False\n"
     ]
    }
   ],
   "source": [
    "# Python \n",
    "def shouldAdjustGrades(grades):\n",
    "    return any(g for g in grades if g >= 18)\n",
    "\n",
    "print(shouldAdjustGrades([10, 12, 10, 14]))"
   ]
  },
  {
   "cell_type": "markdown",
   "metadata": {},
   "source": [
    "A user is verifying their email on your website. We've got an array of users, and the id of the user that's verifying their email. Set the \"is_verified\" field to true for that user."
   ]
  },
  {
   "cell_type": "code",
   "execution_count": 31,
   "metadata": {},
   "outputs": [
    {
     "data": {
      "application/javascript": [
       " const verifyUser = (users, id) => {\n",
       "     for (let i = 0; i < users.length; i++){\n",
       "    if (users[i]['id'] === id){\n",
       "        users[i]['is_verified'] = true;\n",
       "    }\n",
       "}\n",
       "    return users;\n",
       "};\n",
       "\n",
       "\n",
       "//sample usage\n",
       "const users = [{\n",
       "    id: 1,\n",
       "    name: \"John\",\n",
       "    is_verified: false\n",
       "}, {\n",
       "    id: 2,\n",
       "    name: \"Jennifer\",\n",
       "    is_verified: false\n",
       "}, {\n",
       "    id: 3,\n",
       "    name: \"Bob\",\n",
       "    is_verified: false\n",
       "}];\n",
       "\n",
       "\n",
       "\n",
       "element.text(verifyUser(users, 2));\n"
      ],
      "text/plain": [
       "<IPython.core.display.Javascript object>"
      ]
     },
     "metadata": {},
     "output_type": "display_data"
    }
   ],
   "source": [
    "%%js\n",
    " const verifyUser = (users, id) => {\n",
    "     for (let i = 0; i < users.length; i++){\n",
    "    if (users[i]['id'] === id){\n",
    "        users[i]['is_verified'] = true;\n",
    "    }\n",
    "}\n",
    "    return users;\n",
    "};\n",
    "\n",
    "\n",
    "//sample usage\n",
    "const users = [{\n",
    "    id: 1,\n",
    "    name: \"John\",\n",
    "    is_verified: false\n",
    "}, {\n",
    "    id: 2,\n",
    "    name: \"Jennifer\",\n",
    "    is_verified: false\n",
    "}, {\n",
    "    id: 3,\n",
    "    name: \"Bob\",\n",
    "    is_verified: false\n",
    "}];\n",
    "\n",
    "\n",
    "// In regular JS this works fine \n",
    "element.text(verifyUser(users, 2));"
   ]
  },
  {
   "cell_type": "code",
   "execution_count": 32,
   "metadata": {},
   "outputs": [
    {
     "data": {
      "application/javascript": [
       "// A better and shorter way using arrow function \n",
       " const verifyUser = (users, id) => {\n",
       "    const user = users.find(user => user.id === id);\n",
       "    user.is_verified = true;\n",
       "    return users;\n",
       "}\n",
       "\n",
       "const users = [{\n",
       "    id: 1,\n",
       "    name: \"John\",\n",
       "    is_verified: false\n",
       "}, {\n",
       "    id: 2,\n",
       "    name: \"Jennifer\",\n",
       "    is_verified: false\n",
       "}, {\n",
       "    id: 3,\n",
       "    name: \"Bob\",\n",
       "    is_verified: false\n",
       "}];\n",
       "\n",
       "// In regular JS this works fine \n",
       "element.text(verifyUser(users, 2));\n"
      ],
      "text/plain": [
       "<IPython.core.display.Javascript object>"
      ]
     },
     "metadata": {},
     "output_type": "display_data"
    }
   ],
   "source": [
    "%%js\n",
    "// A better and shorter way using arrow function \n",
    " const verifyUser = (users, id) => {\n",
    "    const user = users.find(user => user.id === id);\n",
    "    user.is_verified = true;\n",
    "    return users;\n",
    "}\n",
    "\n",
    "const users = [{\n",
    "    id: 1,\n",
    "    name: \"John\",\n",
    "    is_verified: false\n",
    "}, {\n",
    "    id: 2,\n",
    "    name: \"Jennifer\",\n",
    "    is_verified: false\n",
    "}, {\n",
    "    id: 3,\n",
    "    name: \"Bob\",\n",
    "    is_verified: false\n",
    "}];\n",
    "\n",
    "// In regular JS this works fine \n",
    "element.text(verifyUser(users, 2));"
   ]
  },
  {
   "cell_type": "code",
   "execution_count": 53,
   "metadata": {},
   "outputs": [
    {
     "data": {
      "text/plain": [
       "[{'_id': 1, 'name': 'John', 'is_verified': False},\n",
       " {'_id': 2, 'name': 'Jennifer', 'is_verified': True},\n",
       " {'_id': 3, 'name': 'Bob', 'is_verified': False}]"
      ]
     },
     "metadata": {},
     "output_type": "display_data"
    }
   ],
   "source": [
    "# Python \n",
    "def verifyUser(users, _id):\n",
    "    for i in range(len(users)):\n",
    "        if users[i]['_id'] == _id:\n",
    "            users[i]['is_verified'] = True\n",
    "    return users \n",
    "\n",
    "users = [{\n",
    "    '_id': 1,\n",
    "    'name': \"John\",\n",
    "    'is_verified': False\n",
    "}, {\n",
    "    '_id': 2,\n",
    "    'name': \"Jennifer\",\n",
    "    'is_verified': False\n",
    "}, {\n",
    "    '_id': 3,\n",
    "    'name': \"Bob\",\n",
    "    'is_verified': False\n",
    "}]\n",
    "\n",
    "# display(users[2]['_id'])\n",
    "display(verifyUser(users, 2))"
   ]
  },
  {
   "cell_type": "markdown",
   "metadata": {},
   "source": [
    "## Array/List to String \n",
    "Using `map()` and `join()` convert an array/list to a string"
   ]
  },
  {
   "cell_type": "code",
   "execution_count": null,
   "metadata": {},
   "outputs": [],
   "source": [
    "%%js\n",
    "const users = [{\n",
    "    id: 1,\n",
    "    name: \"John Doe\"\n",
    "}, {\n",
    "    id: 2,\n",
    "    name: \"Jennifer Blane\"\n",
    "}];\n",
    "\n",
    "//[\"John Doe\", \"Jennifer Blane\"];\n",
    "const userNamesArray = users.map(user => user.name);\n",
    "\n",
    "//\"John Doe, Jennifer Blane\".\n",
    "const string = userNamesArray.join(\", \");"
   ]
  },
  {
   "cell_type": "code",
   "execution_count": 65,
   "metadata": {},
   "outputs": [
    {
     "data": {
      "application/javascript": [
       "let names = []\n",
       "const getUsersFullNames = users => {\n",
       "    for (let i = 0; i < users.length; i++){\n",
       "        names.push(users[i]['first_name'] + \" \" + users[i]['last_name']);\n",
       "    }\n",
       "    let names_str = names.join(', ');\n",
       "    return names_str;\n",
       "}\n",
       "\n",
       "\n",
       "//sample usage\n",
       "const users = [{\n",
       "    id: 1,\n",
       "    first_name: \"John\",\n",
       "    last_name: \"Doe\",\n",
       "    is_verified: false\n",
       "}, {\n",
       "    id: 2,\n",
       "    first_name: \"Jennifer\",\n",
       "    last_name: \"Doe\",\n",
       "    is_verified: true\n",
       "}];\n",
       "element.text(getUsersFullNames(users));\n"
      ],
      "text/plain": [
       "<IPython.core.display.Javascript object>"
      ]
     },
     "metadata": {},
     "output_type": "display_data"
    }
   ],
   "source": [
    "%%js\n",
    "let names = []\n",
    "const getUsersFullNames = users => {\n",
    "    for (let i = 0; i < users.length; i++){\n",
    "        names.push(users[i]['first_name'] + \" \" + users[i]['last_name']);\n",
    "    }\n",
    "    let names_str = names.join(', ');\n",
    "    return names_str;\n",
    "}\n",
    "\n",
    "\n",
    "//sample usage\n",
    "const users = [{\n",
    "    id: 1,\n",
    "    first_name: \"John\",\n",
    "    last_name: \"Doe\",\n",
    "    is_verified: false\n",
    "}, {\n",
    "    id: 2,\n",
    "    first_name: \"Jennifer\",\n",
    "    last_name: \"Doe\",\n",
    "    is_verified: true\n",
    "}];\n",
    "element.text(getUsersFullNames(users));"
   ]
  },
  {
   "cell_type": "code",
   "execution_count": 71,
   "metadata": {},
   "outputs": [
    {
     "data": {
      "text/plain": [
       "'John Doe, Jennifer Doe, '"
      ]
     },
     "metadata": {},
     "output_type": "display_data"
    }
   ],
   "source": [
    "# Python \n",
    "def getUsersFullNames(users):\n",
    "    names = \"\"\n",
    "    for i in range(len(users)):\n",
    "        names = names + users[i]['first_name']+\" \"+users[i]['last_name']+\", \"\n",
    "    return names\n",
    "\n",
    "users = [{\n",
    "    'id': 1,\n",
    "    'first_name': \"John\",\n",
    "    'last_name': \"Doe\",\n",
    "    'is_verified': False\n",
    "}, {\n",
    "    'id': 2,\n",
    "    'first_name': \"Jennifer\",\n",
    "    'last_name': \"Doe\",\n",
    "    'is_verified': True\n",
    "}]\n",
    "display(getUsersFullNames(users))"
   ]
  },
  {
   "cell_type": "markdown",
   "metadata": {},
   "source": [
    "# Modifying an Array / List \n",
    "Here we will look at how we can modify the objects in both languages. To start we will look at how we can `append` in Python and `push` in JavaScript. "
   ]
  },
  {
   "cell_type": "code",
   "execution_count": 50,
   "metadata": {},
   "outputs": [
    {
     "name": "stdout",
     "output_type": "stream",
     "text": [
      "['Added one thing']\n"
     ]
    }
   ],
   "source": [
    "# In Python add one thing to an empty list\n",
    "empty_list = []\n",
    "empty_list.append(\"Added one thing\")\n",
    "print(empty_list)"
   ]
  },
  {
   "cell_type": "code",
   "execution_count": 16,
   "metadata": {},
   "outputs": [
    {
     "data": {
      "application/javascript": [
       "const emptyArray = [];\n",
       "emptyArray.push(\"Added one thing\");\n",
       "element.text(emptyArray);\n"
      ],
      "text/plain": [
       "<IPython.core.display.Javascript object>"
      ]
     },
     "metadata": {},
     "output_type": "display_data"
    }
   ],
   "source": [
    "%%js\n",
    "const emptyArray = [];\n",
    "emptyArray.push(\"Added one thing\");\n",
    "element.text(emptyArray);"
   ]
  },
  {
   "cell_type": "markdown",
   "metadata": {},
   "source": [
    "Here we are using a for...loop adding (`push` and `append`)  two string values to the list/array. We will cover this in more detail shortly.  "
   ]
  },
  {
   "cell_type": "code",
   "execution_count": 52,
   "metadata": {},
   "outputs": [
    {
     "name": "stdout",
     "output_type": "stream",
     "text": [
      "['This', 'is', 'my', 'list', 'in', 'Python.']\n"
     ]
    }
   ],
   "source": [
    "# Create two lists in\n",
    "python = ['This', 'is', 'my', 'list']\n",
    "add_this = ['in', 'Python.']\n",
    "\n",
    "# append the values in the list 'add_this' to the list 'python'\n",
    "for i in add_this:\n",
    "    python.append(i)\n",
    "\n",
    "print(python)"
   ]
  },
  {
   "cell_type": "code",
   "execution_count": 18,
   "metadata": {},
   "outputs": [
    {
     "data": {
      "application/javascript": [
       "const javaScript = ['This', ' is ', ' my ', ' list']\n",
       "const addThis = [' in', ' JavaScript.']\n",
       "\n",
       "for (let i = 0; i < addThis.length; i++){\n",
       "    javaScript.push(addThis[i])\n",
       "}\n",
       "\n",
       "element.text(javaScript)\n"
      ],
      "text/plain": [
       "<IPython.core.display.Javascript object>"
      ]
     },
     "metadata": {},
     "output_type": "display_data"
    }
   ],
   "source": [
    "%%js\n",
    "const javaScript = ['This', ' is ', ' my ', ' list']\n",
    "const addThis = [' in', ' JavaScript.']\n",
    "\n",
    "for (let i = 0; i < addThis.length; i++){\n",
    "    javaScript.push(addThis[i])\n",
    "}\n",
    "\n",
    "element.text(javaScript)"
   ]
  },
  {
   "cell_type": "markdown",
   "metadata": {},
   "source": [
    "# Looping \n",
    "Here we will look at a few different options of iterating over the lists/arrays. "
   ]
  },
  {
   "cell_type": "markdown",
   "metadata": {},
   "source": [
    "In this Python example we have created three 3 lists. One is called `points` that contains points scored in a game. The other two are empty lists that will be filled with high and low scores. With Python we us the `for...in` loop where we look for each point in the list `points`. Note, the name point could be `i`, `anything`, `today`, `etc`. However, it is good practice to use meaningful names such as point to represent the individual index. "
   ]
  },
  {
   "cell_type": "code",
   "execution_count": 30,
   "metadata": {},
   "outputs": [
    {
     "name": "stdout",
     "output_type": "stream",
     "text": [
      "[100, 26, 45, 62, 33, 78]\n",
      "[24, 15, 7, 10]\n"
     ]
    }
   ],
   "source": [
    "# Python list of points per game\n",
    "points = [100, 26, 45, 62, 24, 33, 15, 7, 78, 10]\n",
    "high_scores = []\n",
    "low_scores = []\n",
    "\n",
    "for point in points:\n",
    "    if point > 25:\n",
    "        high_scores.append(point)\n",
    "    else:\n",
    "        low_scores.append(point)\n",
    "\n",
    "print(high_scores)\n",
    "print(low_scores)"
   ]
  },
  {
   "cell_type": "markdown",
   "metadata": {},
   "source": [
    "Now we can do the same with JavaScript using a for loop. We first define our index variable `i`, then set our condition which executes if `i` is less than the length of points. Finally, `++` to index the var `i`.  Note how we have to use `points[i]` to push the value to the array. If we just use `i` it will be the value at that point added to the array. "
   ]
  },
  {
   "cell_type": "code",
   "execution_count": 11,
   "metadata": {},
   "outputs": [
    {
     "data": {
      "application/javascript": [
       "// JavaScript \n",
       "const points = [100, 26, 45, 62, 24, 33, 15, 7, 78, 10]\n",
       "const highScores = []\n",
       "const lowScores = []\n",
       "\n",
       "for (let i = 0; i < points.length; i++){\n",
       "    if (points[i] >= 25){\n",
       "        highScores.push(points[i]);\n",
       "    }else{\n",
       "        lowScores.push(points[i]);\n",
       "    }\n",
       "};\n",
       "element.text(`High Scores: ${highScores} || Low Scores: ${lowScores}`);\n"
      ],
      "text/plain": [
       "<IPython.core.display.Javascript object>"
      ]
     },
     "metadata": {},
     "output_type": "display_data"
    }
   ],
   "source": [
    "%%js\n",
    "// JavaScript \n",
    "const points = [100, 26, 45, 62, 24, 33, 15, 7, 78, 10]\n",
    "const highScores = []\n",
    "const lowScores = []\n",
    "\n",
    "for (let i = 0; i < points.length; i++){\n",
    "    if (points[i] >= 25){\n",
    "        highScores.push(points[i]);\n",
    "    }else{\n",
    "        lowScores.push(points[i]);\n",
    "    }\n",
    "};\n",
    "element.text(`High Scores: ${highScores} || Low Scores: ${lowScores}`);"
   ]
  },
  {
   "cell_type": "markdown",
   "metadata": {},
   "source": [
    "The **forEach** is the more common way to iterate over an array in JavaScript. Lets take a look at using this method,  **`Array.forEach`**. This topic will go into a little extra detail on the `forEach` syntax because it is commonly used with an array. \n",
    "\n",
    "The `forEach` *method* calls a function ONCE for each element in the array, in order. It takes *three parameters* of which only `currentValue` is required. I have never used the third parameter `array` and could not think of a good example of why we might want to use it. So, we can ignore for now. \n",
    "\n",
    "> `arr.forEach(function(currentValue, index, array), thisValue )`\n",
    "\n",
    "One limitation of the forEach() method in comparison with the for loop is that you `cannot use the break or continue` statement to control the loop. To terminate the loop in the forEach() method, you must throw an exception inside the callback function.\n",
    "\n",
    "[forEach](https://developer.mozilla.org/en-US/docs/Web/JavaScript/Reference/Global_Objects/Array/forEach)"
   ]
  },
  {
   "cell_type": "code",
   "execution_count": 32,
   "metadata": {},
   "outputs": [
    {
     "data": {
      "application/javascript": [
       "// JavaScript \n",
       "const points = [100, 26, 45, 62, 24, 33, 15, 7, 78, 10]\n",
       "const highScores = []\n",
       "const lowScores = []\n",
       "\n",
       "points.forEach(function(point){\n",
       "    if (point >= 25){\n",
       "        highScores.push(point);\n",
       "    }else{\n",
       "        lowScores.push(point);\n",
       "    }\n",
       "});\n",
       "element.text(`High Scores: ${highScores} || Low Scores: ${lowScores}`);\n"
      ],
      "text/plain": [
       "<IPython.core.display.Javascript object>"
      ]
     },
     "metadata": {},
     "output_type": "display_data"
    }
   ],
   "source": [
    "%%js\n",
    "// JavaScript \n",
    "const points = [100, 26, 45, 62, 24, 33, 15, 7, 78, 10]\n",
    "const highScores = []\n",
    "const lowScores = []\n",
    "\n",
    "points.forEach(function(point){\n",
    "    if (point >= 25){\n",
    "        highScores.push(point);\n",
    "    }else{\n",
    "        lowScores.push(point);\n",
    "    }\n",
    "});\n",
    "element.text(`High Scores: ${highScores} || Low Scores: ${lowScores}`);"
   ]
  },
  {
   "cell_type": "markdown",
   "metadata": {},
   "source": [
    "Now lets include the optional index parameter into the function.  Our function now looks at point and idx which is the current value and the index value of the array of current value.  If the index and score are both even we will increase `count` by one. We then provided the count of total games where the score was even and the index was even.  "
   ]
  },
  {
   "cell_type": "code",
   "execution_count": 19,
   "metadata": {},
   "outputs": [
    {
     "data": {
      "application/javascript": [
       "// JavaScript \n",
       "const points = [100, 26, 45, 62, 24, 33, 15, 7, 78, 10];\n",
       "const highScores = [];\n",
       "const lowScores = [];\n",
       "let count = 0;\n",
       "\n",
       "points.forEach(function(point, idx){\n",
       "    if (idx % 2 === 0 && point % 2 === 0){\n",
       "        count += 1;\n",
       "    }\n",
       "    if (point >= 25){\n",
       "        highScores.push(point);\n",
       "    }else{\n",
       "        lowScores.push(point);\n",
       "    }\n",
       "});\n",
       "element.text(`High Scores: ${highScores} || Low Scores: ${lowScores} || Even Num Games: ${count}`);\n"
      ],
      "text/plain": [
       "<IPython.core.display.Javascript object>"
      ]
     },
     "metadata": {},
     "output_type": "display_data"
    }
   ],
   "source": [
    "%%js\n",
    "// JavaScript \n",
    "const points = [100, 26, 45, 62, 24, 33, 15, 7, 78, 10];\n",
    "const highScores = [];\n",
    "const lowScores = [];\n",
    "let count = 0;\n",
    "\n",
    "points.forEach(function(point, idx){\n",
    "    if (idx % 2 === 0 && point % 2 === 0){\n",
    "        count += 1;\n",
    "    }\n",
    "    if (point >= 25){\n",
    "        highScores.push(point);\n",
    "    }else{\n",
    "        lowScores.push(point);\n",
    "    }\n",
    "});\n",
    "element.text(`High Scores: ${highScores} || Low Scores: ${lowScores} || Even Num Games: ${count}`);"
   ]
  },
  {
   "cell_type": "markdown",
   "metadata": {},
   "source": [
    "We are able to do something similar with Python by adding the `enumerate()` method which takes two parameters of which one is optional. \n",
    "* `iterable` - a sequence, an iterator, or objects that supports iteration\n",
    "* `start` (optional) - enumerate() starts counting from this number. If start is omitted, 0 is taken as start.\n",
    "\n",
    "Just like JS we add a variable `count`. Then we modify the for line which now reads: \n",
    "> `for idx, point in enumerate(points):`\n",
    "\n",
    "Enumerate is now a list of tuples: `[(0, 100), (1, 26), (2, 45)...]` allowing us to add the name idx (this could be anything). We can now access the index of each value in the list points with **idx** and **point**.  "
   ]
  },
  {
   "cell_type": "code",
   "execution_count": 34,
   "metadata": {},
   "outputs": [
    {
     "name": "stdout",
     "output_type": "stream",
     "text": [
      "High Scores: [100, 26, 45, 62, 33, 78]\n",
      "Low Scores: [24, 15, 7, 10]\n",
      "Score/Game Even: 3\n"
     ]
    }
   ],
   "source": [
    "# Python \n",
    "points = [100, 26, 45, 62, 24, 33, 15, 7, 78, 10]\n",
    "high_scores = []\n",
    "low_scores = []\n",
    "count = 0\n",
    "\n",
    "for idx, point in enumerate(points):\n",
    "    if idx % 2 == 0 and point % 2 == 0:\n",
    "        count += 1\n",
    "    if point > 25:\n",
    "        high_scores.append(point)\n",
    "    else:\n",
    "        low_scores.append(point)\n",
    "\n",
    "print(f'High Scores: {high_scores}')\n",
    "print(f'Low Scores: {low_scores}')\n",
    "print(f'Score/Game Even: {count}')"
   ]
  },
  {
   "cell_type": "markdown",
   "metadata": {},
   "source": [
    "## Return Where \n",
    "When working with function, loops and arrays you will typically need to return a value. The common placement for `return` is within the loop. However, it needs to be placed outside of the loop. See below and try changing the location of return and running the cell. "
   ]
  },
  {
   "cell_type": "code",
   "execution_count": 20,
   "metadata": {},
   "outputs": [
    {
     "data": {
      "application/javascript": [
       "function sumPoints(points){\n",
       "    let sum = 0;\n",
       "    for (let i = 0; i < points.length; i++){\n",
       "        sum += points[i]\n",
       "    }\n",
       "    return sum;\n",
       "}\n",
       "\n",
       "element.text(sumPoints([45, 55, 98, 55, 45, 12, 84, 63]));\n"
      ],
      "text/plain": [
       "<IPython.core.display.Javascript object>"
      ]
     },
     "metadata": {},
     "output_type": "display_data"
    }
   ],
   "source": [
    "%%js\n",
    "function sumPoints(points){\n",
    "    let sum = 0;\n",
    "    for (let i = 0; i < points.length; i++){\n",
    "        sum += points[i]\n",
    "    }\n",
    "    return sum;\n",
    "}\n",
    "\n",
    "element.text(sumPoints([45, 55, 98, 55, 45, 12, 84, 63]));"
   ]
  },
  {
   "cell_type": "markdown",
   "metadata": {},
   "source": [
    "Another example using `forEach` within a function to iterate over any array of scores returning the sum of only the positive values. "
   ]
  },
  {
   "cell_type": "code",
   "execution_count": 21,
   "metadata": {},
   "outputs": [
    {
     "data": {
      "application/javascript": [
       "function sumPositiveNumbers(numbers){\n",
       "    let sum = 0;\n",
       "    numbers.forEach(function(number){\n",
       "        if (number >= 0){\n",
       "            sum += number\n",
       "        }\n",
       "    });\n",
       "    return sum // note the location of return \n",
       "}\n",
       "\n",
       "//sample usage\n",
       "element.text(sumPositiveNumbers([61, -45, -31, 12, 30]));\n"
      ],
      "text/plain": [
       "<IPython.core.display.Javascript object>"
      ]
     },
     "metadata": {},
     "output_type": "display_data"
    }
   ],
   "source": [
    "%%js\n",
    "function sumPositiveNumbers(numbers){\n",
    "    let sum = 0;\n",
    "    numbers.forEach(function(number){\n",
    "        if (number >= 0){\n",
    "            sum += number\n",
    "        }\n",
    "    });\n",
    "    return sum // note the location of return \n",
    "}\n",
    "\n",
    "//sample usage\n",
    "element.text(sumPositiveNumbers([61, -45, -31, 12, 30]));"
   ]
  },
  {
   "cell_type": "markdown",
   "metadata": {},
   "source": [
    "## Array-in-Array or List-in-List\n",
    "Here we have an arrays within an array. It is made up of 0 - 9 rows and 0 - 9 columns. "
   ]
  },
  {
   "cell_type": "code",
   "execution_count": 23,
   "metadata": {},
   "outputs": [
    {
     "data": {
      "application/javascript": [
       "var numbers = [\n",
       "    [243, 12, 23, 12, 45, 45, 78, 66, 223, 3],\n",
       "    [34, 2, 1, 553, 23, 4, 66, 23, 4, 55],\n",
       "    [67, 56, 45, 553, 44, 55, 5, 428, 452, 3],\n",
       "    [12, 31, 55, 445, 79, 44, 674, 224, 4, 21],\n",
       "    [4, 2, 3, 52, 13, 51, 44, 1, 67, 5],\n",
       "    [5, 65, 4, 5, 5, 6, 5, 43, 23, 4424],\n",
       "    [74, 532, 6, 7, 35, 17, 89, 43, 43, 66],\n",
       "    [53, 6, 89, 10, 23, 52, 111, 44, 109, 80],\n",
       "    [67, 6, 53, 537, 2, 168, 16, 2, 1, 8],\n",
       "    [76, 7, 9, 6, 3, 73, 77, 100, 56, 100]\n",
       "];\n",
       "\n",
       "let var_1 = numbers[0][9];\n",
       "let var_2 = numbers[3][3];\n",
       "\n",
       "// Return value from row 0 column 9 and row 3 column 3\n",
       "element.text(`Log the value of R0C9 ${var_1} amd R3C3 ${var_2}`);\n"
      ],
      "text/plain": [
       "<IPython.core.display.Javascript object>"
      ]
     },
     "metadata": {},
     "output_type": "display_data"
    }
   ],
   "source": [
    "%%js\n",
    "var numbers = [\n",
    "    [243, 12, 23, 12, 45, 45, 78, 66, 223, 3],\n",
    "    [34, 2, 1, 553, 23, 4, 66, 23, 4, 55],\n",
    "    [67, 56, 45, 553, 44, 55, 5, 428, 452, 3],\n",
    "    [12, 31, 55, 445, 79, 44, 674, 224, 4, 21],\n",
    "    [4, 2, 3, 52, 13, 51, 44, 1, 67, 5],\n",
    "    [5, 65, 4, 5, 5, 6, 5, 43, 23, 4424],\n",
    "    [74, 532, 6, 7, 35, 17, 89, 43, 43, 66],\n",
    "    [53, 6, 89, 10, 23, 52, 111, 44, 109, 80],\n",
    "    [67, 6, 53, 537, 2, 168, 16, 2, 1, 8],\n",
    "    [76, 7, 9, 6, 3, 73, 77, 100, 56, 100]\n",
    "];\n",
    "\n",
    "let var_1 = numbers[0][9];\n",
    "let var_2 = numbers[3][3];\n",
    "\n",
    "// Return value from row 0 column 9 and row 3 column 3\n",
    "element.text(`Log the value of R0C9 ${var_1} amd R3C3 ${var_2}`);"
   ]
  },
  {
   "cell_type": "code",
   "execution_count": 15,
   "metadata": {},
   "outputs": [
    {
     "name": "stdout",
     "output_type": "stream",
     "text": [
      "Log the value of R0C9 3 amd R3C3 445\n"
     ]
    }
   ],
   "source": [
    "# Python\n",
    "numbers = [\n",
    "            [243, 12, 23, 12, 45, 45, 78, 66, 223, 3],\n",
    "            [34, 2, 1, 553, 23, 4, 66, 23, 4, 55],\n",
    "            [67, 56, 45, 553, 44, 55, 5, 428, 452, 3],\n",
    "            [12, 31, 55, 445, 79, 44, 674, 224, 4, 21],\n",
    "            [4, 2, 3, 52, 13, 51, 44, 1, 67, 5],\n",
    "            [5, 65, 4, 5, 5, 6, 5, 43, 23, 4424],\n",
    "            [74, 532, 6, 7, 35, 17, 89, 43, 43, 66],\n",
    "            [53, 6, 89, 10, 23, 52, 111, 44, 109, 80],\n",
    "            [67, 6, 53, 537, 2, 168, 16, 2, 1, 8],\n",
    "            [76, 7, 9, 6, 3, 73, 77, 100, 56, 100]\n",
    "          ];\n",
    "\n",
    "var_1 = numbers[0][9]\n",
    "var_2 = numbers[3][3]\n",
    "\n",
    "# Return value from row 0 column 9 and row 3 column 3\n",
    "print(f\"Log the value of R0C9 {var_1} amd R3C3 {var_2}\")"
   ]
  },
  {
   "cell_type": "markdown",
   "metadata": {},
   "source": [
    " ### Array and List Task \n",
    " * The `numbers` variable is an array of arrays.\n",
    " * Use a nested `for` loop to cycle through `numbers`.\n",
    " * Convert each even number to the string \"even\"\n",
    " * Convert each odd number to the string \"odd\""
   ]
  },
  {
   "cell_type": "code",
   "execution_count": 2,
   "metadata": {},
   "outputs": [
    {
     "data": {
      "application/javascript": [
       "const numbers = [\n",
       "            [243, 12, 23, 12, 45, 45, 78, 66, 223, 3],\n",
       "            [34, 2, 1, 553, 23, 4, 66, 23, 4, 55],\n",
       "            [67, 56, 45, 553, 44, 55, 5, 428, 452, 3],\n",
       "            [12, 31, 55, 445, 79, 44, 674, 224, 4, 21],\n",
       "            [4, 2, 3, 52, 13, 51, 44, 1, 67, 5],\n",
       "            [5, 65, 4, 5, 5, 6, 5, 43, 23, 4424],\n",
       "            [74, 532, 6, 7, 35, 17, 89, 43, 43, 66],\n",
       "            [53, 6, 89, 10, 23, 52, 111, 44, 109, 80],\n",
       "            [67, 6, 53, 537, 2, 168, 16, 2, 1, 8],\n",
       "            [76, 7, 9, 6, 3, 73, 77, 100, 56, 100]\n",
       "          ];\n",
       "\n",
       "for (let row = 0; row < numbers.length; row++){\n",
       "    for (let col = 0; col < numbers[row].length; col++) {\n",
       "        if (numbers[row][col] % 2 === 0){\n",
       "            numbers[row][col] = 'odd';\n",
       "        } else {\n",
       "            numbers[row][col] = 'even';\n",
       "        };\n",
       "    };\n",
       "         \n",
       "    element.text(numbers)\n",
       "};\n"
      ],
      "text/plain": [
       "<IPython.core.display.Javascript object>"
      ]
     },
     "metadata": {},
     "output_type": "display_data"
    }
   ],
   "source": [
    "%%js\n",
    "const numbers = [\n",
    "            [243, 12, 23, 12, 45, 45, 78, 66, 223, 3],\n",
    "            [34, 2, 1, 553, 23, 4, 66, 23, 4, 55],\n",
    "            [67, 56, 45, 553, 44, 55, 5, 428, 452, 3],\n",
    "            [12, 31, 55, 445, 79, 44, 674, 224, 4, 21],\n",
    "            [4, 2, 3, 52, 13, 51, 44, 1, 67, 5],\n",
    "            [5, 65, 4, 5, 5, 6, 5, 43, 23, 4424],\n",
    "            [74, 532, 6, 7, 35, 17, 89, 43, 43, 66],\n",
    "            [53, 6, 89, 10, 23, 52, 111, 44, 109, 80],\n",
    "            [67, 6, 53, 537, 2, 168, 16, 2, 1, 8],\n",
    "            [76, 7, 9, 6, 3, 73, 77, 100, 56, 100]\n",
    "          ];\n",
    "\n",
    "for (let row = 0; row < numbers.length; row++){\n",
    "    for (let col = 0; col < numbers[row].length; col++) {\n",
    "        if (numbers[row][col] % 2 === 0){\n",
    "            numbers[row][col] = 'odd';\n",
    "        } else {\n",
    "            numbers[row][col] = 'even';\n",
    "        };\n",
    "    };\n",
    "         \n",
    "    element.text(numbers)\n",
    "};"
   ]
  },
  {
   "cell_type": "markdown",
   "metadata": {},
   "source": [
    "The same task with Python but introducing the built-in method ***enumerate()***\n",
    "\n",
    "**enumerate() Parameters**\n",
    "* enumerate() method takes two parameters:\n",
    "\n",
    "* `iterable` - a sequence, an iterator, or objects that supports iteration\n",
    "* `start` (optional) - enumerate() starts counting from this number. If `start` is omitted, `0` is taken as `start`."
   ]
  },
  {
   "cell_type": "code",
   "execution_count": 18,
   "metadata": {},
   "outputs": [
    {
     "name": "stdout",
     "output_type": "stream",
     "text": [
      "[['odd', 'even', 'odd', 'even', 'odd', 'odd', 'even', 'even', 'odd', 'odd'], ['even', 'even', 'odd', 'odd', 'odd', 'even', 'even', 'odd', 'even', 'odd'], ['odd', 'even', 'odd', 'odd', 'even', 'odd', 'odd', 'even', 'even', 'odd'], ['even', 'odd', 'odd', 'odd', 'odd', 'even', 'even', 'even', 'even', 'odd'], ['even', 'even', 'odd', 'even', 'odd', 'odd', 'even', 'odd', 'odd', 'odd'], ['odd', 'odd', 'even', 'odd', 'odd', 'even', 'odd', 'odd', 'odd', 'even'], ['even', 'even', 'even', 'odd', 'odd', 'odd', 'odd', 'odd', 'odd', 'even'], ['odd', 'even', 'odd', 'even', 'odd', 'even', 'odd', 'even', 'odd', 'even'], ['odd', 'even', 'odd', 'odd', 'even', 'even', 'even', 'even', 'odd', 'even'], ['even', 'odd', 'odd', 'even', 'odd', 'odd', 'odd', 'even', 'even', 'even']]\n"
     ]
    }
   ],
   "source": [
    "numbers = [\n",
    "            [243, 12, 23, 12, 45, 45, 78, 66, 223, 3],\n",
    "            [34, 2, 1, 553, 23, 4, 66, 23, 4, 55],\n",
    "            [67, 56, 45, 553, 44, 55, 5, 428, 452, 3],\n",
    "            [12, 31, 55, 445, 79, 44, 674, 224, 4, 21],\n",
    "            [4, 2, 3, 52, 13, 51, 44, 1, 67, 5],\n",
    "            [5, 65, 4, 5, 5, 6, 5, 43, 23, 4424],\n",
    "            [74, 532, 6, 7, 35, 17, 89, 43, 43, 66],\n",
    "            [53, 6, 89, 10, 23, 52, 111, 44, 109, 80],\n",
    "            [67, 6, 53, 537, 2, 168, 16, 2, 1, 8],\n",
    "            [76, 7, 9, 6, 3, 73, 77, 100, 56, 100]\n",
    "          ];\n",
    "\n",
    "for r_idx, row in enumerate(numbers):\n",
    "    for c_idx, col in enumerate(numbers[r_idx]):\n",
    "        if col % 2 == 1:\n",
    "            numbers[r_idx][c_idx] = 'odd'\n",
    "        else:\n",
    "            numbers[r_idx][c_idx] = 'even'\n",
    "        \n",
    "print(numbers)"
   ]
  },
  {
   "cell_type": "markdown",
   "metadata": {},
   "source": [
    "# Popular Methods w/Arrays & Lists\n",
    "Note, when reading JS documentation you will see the word `callback`. I spent hours waiting by my phone until I finally learned the actual meaning. When you see callback it means the function will be called for every item. Thus, there should be a function in-place of callback.   \n",
    "\n",
    "**JavaScript**\n",
    "* `.filter(callback)` is used to filter an array based on a condition. It returns an array of elements\n",
    "* `.includes(element)` returns true when the array includes the element and false, if not\n",
    "* `.join()` will convert the array into a string, sticking the elements with the string provided\n",
    "* `.split(string)` will split a string into an array based on the string provided \n",
    "* `.map(callback)` allows you to transform an array into another one. For example you can double the numbers in an array. \n",
    "\n",
    "**Python**\n",
    "* `filter(function, sequence)` provide a function that tests each element of the sequence provided. The sequence can be a set, list...any iterator. Filter returns an iterator that is filtered. \n",
    "* `in` Using the Python keyword **`in`** allows us to check a list for an object returning True if there and False, otherwise \n",
    "* `.join(iterable)` the Python join method takes an iterable and returns a string concatenated with elements in the iterable. \n",
    "* `.split()` will convert a string into a list.\n",
    "* `.map(function, iterable)` takes a function and iterable applying the function to each element. "
   ]
  },
  {
   "cell_type": "markdown",
   "metadata": {},
   "source": [
    "## Filter"
   ]
  },
  {
   "cell_type": "markdown",
   "metadata": {},
   "source": [
    "**JavaScript Filter**\n",
    "\n",
    "In JS we will pass an arrow function as the required callback. We want to look at the array called `petsArr` and we are looking for any entry where the age is greater than or equal to 2.\n",
    "\n",
    "NOTE TRY IN CONSOLE"
   ]
  },
  {
   "cell_type": "code",
   "execution_count": 37,
   "metadata": {},
   "outputs": [
    {
     "data": {
      "application/javascript": [
       "const petsArr = [{name: 'Teddy', age: 3}, \n",
       "                   {name: 'Tucker', age: 1},\n",
       "                   {name: 'Shreds', age: 12},\n",
       "                   {name: 'Ginny', age: 4},\n",
       "                  ];\n",
       "\n",
       "element.text(petsArr.filter((petsArr) => petsArr.age >= 2))\n"
      ],
      "text/plain": [
       "<IPython.core.display.Javascript object>"
      ]
     },
     "metadata": {},
     "output_type": "display_data"
    }
   ],
   "source": [
    "%%js\n",
    "const petsArr = [{name: 'Teddy', age: 3}, \n",
    "                   {name: 'Tucker', age: 1},\n",
    "                   {name: 'Shreds', age: 12},\n",
    "                   {name: 'Ginny', age: 4},\n",
    "                  ];\n",
    "\n",
    "element.text(petsArr.filter((petsArr) => petsArr.age >= 2))"
   ]
  },
  {
   "cell_type": "markdown",
   "metadata": {},
   "source": [
    "**Python Filter** \n",
    "\n",
    "In Python we can use the filter function, too. First, notice that name and age must be enclosed in single or double quotes.  Next, we need to tell Python we want our filtered results in a `list()`. If you remove `list()` it will return `filter object`. \n",
    "\n",
    "Lastly, we pass a lambda function which is like the arrow function. Look at the list `petsArr` and check age `petsArr['age']` for anything greate than or equal to 2. "
   ]
  },
  {
   "cell_type": "code",
   "execution_count": 38,
   "metadata": {},
   "outputs": [
    {
     "name": "stdout",
     "output_type": "stream",
     "text": [
      "[{'name': 'Teddy', 'age': 3}, {'name': 'Shreds', 'age': 12}, {'name': 'Ginny', 'age': 4}]\n"
     ]
    }
   ],
   "source": [
    "petsArr = [{'name': 'Teddy', 'age': 3}, \n",
    "                   {'name': 'Tucker', 'age': 1},\n",
    "                   {'name': 'Shreds', 'age': 12},\n",
    "                   {'name': 'Ginny', 'age': 4},\n",
    "                  ];\n",
    "\n",
    "filt_list = list(filter(lambda petsArr: petsArr['age'] >= 2, petsArr))\n",
    "print(filt_list)"
   ]
  },
  {
   "cell_type": "markdown",
   "metadata": {},
   "source": [
    "Here we are going to create a function below zero that will return all of the temperatures below zero degrees. In both JS and Python we will use the `.filter()` method. Additionally, with JS we will take two approaches to building the same function.  "
   ]
  },
  {
   "cell_type": "code",
   "execution_count": 39,
   "metadata": {},
   "outputs": [
    {
     "data": {
      "application/javascript": [
       "// using arrow functions twice\n",
       "const belowZero = temps => { \n",
       "    return temps.filter(temp => temp < 0);\n",
       "}\n",
       "element.text(belowZero([25, 45, 5, 0, -25, -5, -6, 78]))\n"
      ],
      "text/plain": [
       "<IPython.core.display.Javascript object>"
      ]
     },
     "metadata": {},
     "output_type": "display_data"
    }
   ],
   "source": [
    "%%js\n",
    "// using arrow functions twice\n",
    "const belowZero = temps => { \n",
    "    return temps.filter(temp => temp < 0);\n",
    "}\n",
    "element.text(belowZero([25, 45, 5, 0, -25, -5, -6, 78]))"
   ]
  },
  {
   "cell_type": "code",
   "execution_count": 40,
   "metadata": {},
   "outputs": [
    {
     "data": {
      "application/javascript": [
       "// using function and arrow function\n",
       "function belowZero(temps){\n",
       "    return temps.filter(temp => temp < 0);\n",
       "}\n",
       "element.text(belowZero([25, 45, 5, 0, -25, -5, -6, 78]));\n"
      ],
      "text/plain": [
       "<IPython.core.display.Javascript object>"
      ]
     },
     "metadata": {},
     "output_type": "display_data"
    }
   ],
   "source": [
    "%%js\n",
    "// using function and arrow function\n",
    "function belowZero(temps){\n",
    "    return temps.filter(temp => temp < 0);\n",
    "}\n",
    "element.text(belowZero([25, 45, 5, 0, -25, -5, -6, 78]));"
   ]
  },
  {
   "cell_type": "code",
   "execution_count": 41,
   "metadata": {},
   "outputs": [
    {
     "name": "stdout",
     "output_type": "stream",
     "text": [
      "[-25, -5, -6]\n"
     ]
    }
   ],
   "source": [
    "# python using function and lambda\n",
    "# recall Python filter requires two arguments \n",
    "def below_zero(values):\n",
    "    return list(filter(lambda values: values < 0, values))\n",
    "print(below_zero([25, 45, 5, 0, -25, -5, -6, 78]))"
   ]
  },
  {
   "cell_type": "markdown",
   "metadata": {},
   "source": [
    "## Includes"
   ]
  },
  {
   "cell_type": "markdown",
   "metadata": {},
   "source": [
    "**JavaScript Includes** \n",
    "Check an array and return true or false if it contains the value. "
   ]
  },
  {
   "cell_type": "code",
   "execution_count": 42,
   "metadata": {},
   "outputs": [
    {
     "data": {
      "application/javascript": [
       "const names = ['ten', 'star', 'day', 'week', 'paint', 'list']\n",
       "element.text(names.includes('day'))\n"
      ],
      "text/plain": [
       "<IPython.core.display.Javascript object>"
      ]
     },
     "metadata": {},
     "output_type": "display_data"
    }
   ],
   "source": [
    "%%js\n",
    "const names = ['ten', 'star', 'day', 'week', 'paint', 'list']\n",
    "element.text(names.includes('day'))"
   ]
  },
  {
   "cell_type": "markdown",
   "metadata": {},
   "source": [
    "**Python in** check if day is in the list, True. Check if hello is on the list, False."
   ]
  },
  {
   "cell_type": "code",
   "execution_count": 43,
   "metadata": {},
   "outputs": [
    {
     "name": "stdout",
     "output_type": "stream",
     "text": [
      "True\n",
      "False\n"
     ]
    }
   ],
   "source": [
    "# Python example using keyword 'in'\n",
    "names = ['ten', 'star', 'day', 'week', 'paint', 'list']\n",
    "print('day' in names)\n",
    "print('hello' in names)\n"
   ]
  },
  {
   "cell_type": "markdown",
   "metadata": {},
   "source": [
    "## Join"
   ]
  },
  {
   "cell_type": "markdown",
   "metadata": {},
   "source": [
    "**JavaScript Join** Why use join in an array in JS? Below we print the results of join and the name...they look identical but they are not.  Using `typeof` we can see that join returns a string and simply names is an object. \n"
   ]
  },
  {
   "cell_type": "code",
   "execution_count": 44,
   "metadata": {},
   "outputs": [
    {
     "data": {
      "application/javascript": [
       "const names = ['ten', 'star', 'day', 'week', 'paint', 'list']\n",
       "element.text(names.join(', '))\n"
      ],
      "text/plain": [
       "<IPython.core.display.Javascript object>"
      ]
     },
     "metadata": {},
     "output_type": "display_data"
    }
   ],
   "source": [
    "%%js\n",
    "const names = ['ten', 'star', 'day', 'week', 'paint', 'list']\n",
    "element.text(names.join(', '))"
   ]
  },
  {
   "cell_type": "code",
   "execution_count": 45,
   "metadata": {},
   "outputs": [
    {
     "data": {
      "application/javascript": [
       "// We can join using anything...\n",
       "const names = ['ten', 'star', 'day', 'week', 'paint', 'list']\n",
       "element.text(names.join(' *** '))\n"
      ],
      "text/plain": [
       "<IPython.core.display.Javascript object>"
      ]
     },
     "metadata": {},
     "output_type": "display_data"
    }
   ],
   "source": [
    "%%js\n",
    "// We can join using anything...\n",
    "const names = ['ten', 'star', 'day', 'week', 'paint', 'list']\n",
    "element.text(names.join(' *** '))"
   ]
  },
  {
   "cell_type": "code",
   "execution_count": 46,
   "metadata": {},
   "outputs": [
    {
     "data": {
      "application/javascript": [
       "// using and arrow function to create a string\n",
       "const makeString = string => {\n",
       "    return string.join(', ');\n",
       "}\n",
       "element.text(makeString(['ten', 'star', 'day', 'week', 'paint', 'list']))\n"
      ],
      "text/plain": [
       "<IPython.core.display.Javascript object>"
      ]
     },
     "metadata": {},
     "output_type": "display_data"
    }
   ],
   "source": [
    "%%js\n",
    "// using and arrow function to create a string\n",
    "const makeString = string => {\n",
    "    return string.join(', ');\n",
    "}\n",
    "element.text(makeString(['ten', 'star', 'day', 'week', 'paint', 'list']))"
   ]
  },
  {
   "cell_type": "code",
   "execution_count": 47,
   "metadata": {},
   "outputs": [
    {
     "data": {
      "application/javascript": [
       "// returns a string \n",
       "const names = ['ten', 'star', 'day', 'week', 'paint', 'list']\n",
       "element.text(names)\n"
      ],
      "text/plain": [
       "<IPython.core.display.Javascript object>"
      ]
     },
     "metadata": {},
     "output_type": "display_data"
    }
   ],
   "source": [
    "%%js\n",
    "// returns a string \n",
    "const names = ['ten', 'star', 'day', 'week', 'paint', 'list']\n",
    "element.text(names)"
   ]
  },
  {
   "cell_type": "code",
   "execution_count": 48,
   "metadata": {},
   "outputs": [
    {
     "data": {
      "application/javascript": [
       "// the returned result looks like the above..whye use join? \n",
       "const names = ['ten', 'star', 'day', 'week', 'paint', 'list']\n",
       "element.text(`Using join confirm typeof  >>  ${typeof names.join(',')}`)\n"
      ],
      "text/plain": [
       "<IPython.core.display.Javascript object>"
      ]
     },
     "metadata": {},
     "output_type": "display_data"
    }
   ],
   "source": [
    "%%js\n",
    "// the returned result looks like the above..whye use join? \n",
    "const names = ['ten', 'star', 'day', 'week', 'paint', 'list']\n",
    "element.text(`Using join confirm typeof  >>  ${typeof names.join(',')}`)"
   ]
  },
  {
   "cell_type": "code",
   "execution_count": 49,
   "metadata": {},
   "outputs": [
    {
     "data": {
      "application/javascript": [
       "// returns an object\n",
       "const names = ['ten', 'star', 'day', 'week', 'paint', 'list']\n",
       "element.text(`Using names confirm typeof  >>  ${typeof names}`)\n"
      ],
      "text/plain": [
       "<IPython.core.display.Javascript object>"
      ]
     },
     "metadata": {},
     "output_type": "display_data"
    }
   ],
   "source": [
    "%%js\n",
    "// returns an object\n",
    "const names = ['ten', 'star', 'day', 'week', 'paint', 'list']\n",
    "element.text(`Using names confirm typeof  >>  ${typeof names}`)"
   ]
  },
  {
   "cell_type": "markdown",
   "metadata": {},
   "source": [
    "With Python we can use the method `join`, too. We pass the iterable 'names' and then join the elements with a ','. This could be anything we want! & @...notice that the type returned is a **string**. "
   ]
  },
  {
   "cell_type": "code",
   "execution_count": 50,
   "metadata": {},
   "outputs": [
    {
     "name": "stdout",
     "output_type": "stream",
     "text": [
      "ten, star, day, week, paint, list\n",
      "ten & star & day & week & paint & list\n",
      "ten---star---day---week---paint---list\n",
      "confirm class type:\" <class 'str'>\n"
     ]
    }
   ],
   "source": [
    "names = ['ten', 'star', 'day', 'week', 'paint', 'list']\n",
    "str_names = ', '.join(names)\n",
    "str_names_2 = ' & '.join(names)\n",
    "str_names_3 = '---'.join(names)\n",
    "print(str_names)\n",
    "print(str_names_2)\n",
    "print(str_names_3)\n",
    "print(f'confirm class type:\" {type(str_names)}')"
   ]
  },
  {
   "cell_type": "markdown",
   "metadata": {},
   "source": [
    "**Terminology Reminder** in JavaScript an **array** is most like a regular Python **list**. However, the Python library NumPy has it own version of a list which is called an array. You will typically see it referenced as `np.array([])`. We will cover the NumPy array in more detail in another section. "
   ]
  },
  {
   "cell_type": "markdown",
   "metadata": {},
   "source": [
    "## Split"
   ]
  },
  {
   "cell_type": "markdown",
   "metadata": {},
   "source": [
    "**Split**\n",
    "\n",
    "Creating an array/list from a **string** in JS and Python can be done with **split**. Another quick option"
   ]
  },
  {
   "cell_type": "code",
   "execution_count": 51,
   "metadata": {},
   "outputs": [
    {
     "data": {
      "application/javascript": [
       "const names = 'ten,star,day,week,paint,list'\n",
       "element.text(names.split())\n"
      ],
      "text/plain": [
       "<IPython.core.display.Javascript object>"
      ]
     },
     "metadata": {},
     "output_type": "display_data"
    }
   ],
   "source": [
    "%%js\n",
    "const names = 'ten,star,day,week,paint,list'\n",
    "element.text(names.split())"
   ]
  },
  {
   "cell_type": "code",
   "execution_count": 52,
   "metadata": {},
   "outputs": [
    {
     "name": "stdout",
     "output_type": "stream",
     "text": [
      "['ten,star,day,week,paint,list']\n"
     ]
    }
   ],
   "source": [
    "# Python split method \n",
    "names = 'ten,star,day,week,paint,list'\n",
    "print(names.split())"
   ]
  },
  {
   "cell_type": "markdown",
   "metadata": {},
   "source": [
    "## Map"
   ]
  },
  {
   "cell_type": "markdown",
   "metadata": {},
   "source": [
    "**Map** \n",
    "\n",
    "Map is commonly used in Python and JaveScript. You will see it a lot working with arrays and list. A lot of times it will be combined with lambda in Python and arrow functions in JS. Let's check it out. \n",
    "\n",
    "* `.map(callback)` allows you to transform an array into another one. For example you can double the numbers in an array. \n",
    "\n",
    "* `.map(function, iterable)` takes a function and iterable applying the function to each element. \n",
    "\n",
    "We will use map to convert a list of annual spend to thousands. When using Python we will need to recruit `list()` to convert in a list format.  "
   ]
  },
  {
   "cell_type": "markdown",
   "metadata": {},
   "source": [
    "In JS we simply pass an arrow function into map and then it will divide each element by 1000 and return a list. "
   ]
  },
  {
   "cell_type": "code",
   "execution_count": 53,
   "metadata": {},
   "outputs": [
    {
     "data": {
      "application/javascript": [
       "const annualSpend = [250000, 350000, 400000, 888000, 999999, 454123]\n",
       "const annualSpendCon = annualSpend.map(annualSpend => annualSpend / 1000)\n",
       "element.text(annualSpendCon)\n"
      ],
      "text/plain": [
       "<IPython.core.display.Javascript object>"
      ]
     },
     "metadata": {},
     "output_type": "display_data"
    }
   ],
   "source": [
    "%%js\n",
    "const annualSpend = [250000, 350000, 400000, 888000, 999999, 454123]\n",
    "const annualSpendCon = annualSpend.map(annualSpend => annualSpend / 1000)\n",
    "element.text(annualSpendCon)"
   ]
  },
  {
   "cell_type": "markdown",
   "metadata": {},
   "source": [
    "Python is similar...we pass a function and here we use a lambda function and then pass tell map what the name of the iterable is. We have to wrap everything in a `list()` or Python returns an object.  "
   ]
  },
  {
   "cell_type": "code",
   "execution_count": 54,
   "metadata": {},
   "outputs": [
    {
     "name": "stdout",
     "output_type": "stream",
     "text": [
      "[250.0, 350.0, 400.0, 888.0, 999.999, 454.123]\n"
     ]
    }
   ],
   "source": [
    "annual_spend = [250000, 350000, 400000, 888000, 999999, 454123]\n",
    "annual_spend_con = list(map(lambda x: x / 1000, annual_spend))\n",
    "print(annual_spend_con)"
   ]
  },
  {
   "cell_type": "code",
   "execution_count": 55,
   "metadata": {},
   "outputs": [
    {
     "data": {
      "application/javascript": [
       "// convert names to upper case \n",
       "function convertNames(names){\n",
       "    return names.map(names => names.toUpperCase());\n",
       "}\n",
       "element.text(convertNames(['Teddy', 'Tucker', 'Ginny', 'Jose']))\n"
      ],
      "text/plain": [
       "<IPython.core.display.Javascript object>"
      ]
     },
     "metadata": {},
     "output_type": "display_data"
    }
   ],
   "source": [
    "%%js\n",
    "// convert names to upper case \n",
    "function convertNames(names){\n",
    "    return names.map(names => names.toUpperCase());\n",
    "}\n",
    "element.text(convertNames(['Teddy', 'Tucker', 'Ginny', 'Jose']))"
   ]
  },
  {
   "cell_type": "code",
   "execution_count": 56,
   "metadata": {},
   "outputs": [
    {
     "name": "stdout",
     "output_type": "stream",
     "text": [
      "['TEDDY', 'TUCKER', 'GINNY', 'JOSE']\n"
     ]
    }
   ],
   "source": [
    "def convert_names(names):\n",
    "    return list(map(lambda n: n.upper(), names))\n",
    "print( convert_names(['Teddy', 'Tucker', 'Ginny', 'Jose']) )"
   ]
  },
  {
   "cell_type": "markdown",
   "metadata": {},
   "source": [
    "## Emptying and Deleting Arrays/Lists\n",
    "With JS you can empty an array by setting its length to 0.  \n",
    "\n",
    "> const items = [\"pan\", \"paper\"]\n",
    "> items.length = 0;\n",
    "\n",
    "In Python you can use the method **`clear()`**."
   ]
  },
  {
   "cell_type": "code",
   "execution_count": 57,
   "metadata": {},
   "outputs": [
    {
     "data": {
      "application/javascript": [
       "//Empty an array\n",
       "const items = [\"Pen\", \"Paper\"];\n",
       "items.length = 0;\n",
       "element.text(items);\n"
      ],
      "text/plain": [
       "<IPython.core.display.Javascript object>"
      ]
     },
     "metadata": {},
     "output_type": "display_data"
    }
   ],
   "source": [
    "%%js\n",
    "//Empty an array\n",
    "const items = [\"Pen\", \"Paper\"];\n",
    "items.length = 0;\n",
    "element.text(items);"
   ]
  },
  {
   "cell_type": "markdown",
   "metadata": {},
   "source": [
    "**`SPLICE`**\n",
    "In JS we can use splice to remove item(s) from a list. With Python we simply use a bracket. "
   ]
  },
  {
   "cell_type": "code",
   "execution_count": 58,
   "metadata": {},
   "outputs": [
    {
     "data": {
      "application/javascript": [
       "const items = [\"Pen\", \"Paper\", \"Staples\"];\n",
       "const deletedItem = items.splice(0, 1); // removes one element at index 0\n",
       "element.text(deletedItem); // [\"Pen\"]\n"
      ],
      "text/plain": [
       "<IPython.core.display.Javascript object>"
      ]
     },
     "metadata": {},
     "output_type": "display_data"
    }
   ],
   "source": [
    "%%js\n",
    "const items = [\"Pen\", \"Paper\", \"Staples\"];\n",
    "const deletedItem = items.splice(0, 1); // removes one element at index 0\n",
    "element.text(deletedItem); // [\"Pen\"]"
   ]
  },
  {
   "cell_type": "code",
   "execution_count": 59,
   "metadata": {},
   "outputs": [
    {
     "name": "stdout",
     "output_type": "stream",
     "text": [
      "['Pen']\n"
     ]
    }
   ],
   "source": [
    "# Python \n",
    "items = [\"Pen\", \"Paper\", \"Staples\"]\n",
    "print(items[0:1])"
   ]
  },
  {
   "cell_type": "markdown",
   "metadata": {},
   "source": [
    "## Concatenate & Spread Operator (ES6)\n",
    "**Concatenate** was the primary way to merge two arrays prior to the release of `ES6`. The **spread operator** is part of the ES6 release and can be written with three consecutive dots `...` and gives you the ability to spread/expand iterable objects into multiple elements. "
   ]
  },
  {
   "cell_type": "markdown",
   "metadata": {},
   "source": [
    "**JS**\n",
    "* Before the release of ES6 **`Concatenate`**  would be the method used to join an Object or Array in JS.  \n",
    "\n",
    "* With ES6 we can use the **spread operator** `{...object1 ...object2}`. Note, that order matters. The object on the left will be updated by the key, values of object on the right. \n",
    "\n",
    "**Python**\n",
    "With Python we can use use the plus operator to quickly join two lists.  "
   ]
  },
  {
   "cell_type": "code",
   "execution_count": 3,
   "metadata": {},
   "outputs": [
    {
     "data": {
      "application/javascript": [
       "// Using concatenate for merging two lists\n",
       "\n",
       "let concatArrays = (array1, array2) => {\n",
       "    const concatArray = array1.concat(array2);\n",
       "    return concatArray;\n",
       "}\n",
       "\n",
       "const words = [\"today\", \"Hello\", \"foo\"]\n",
       "const games = [\"poker\", \"Uno\", \"Monopoly\"]\n",
       "element.text(concatArrays(words, games))\n"
      ],
      "text/plain": [
       "<IPython.core.display.Javascript object>"
      ]
     },
     "metadata": {},
     "output_type": "display_data"
    }
   ],
   "source": [
    "%%js\n",
    "\n",
    "// Using concatenate for merging two lists\n",
    "let concatArrays = (array1, array2) => {\n",
    "    const concatArray = array1.concat(array2);\n",
    "    return concatArray;\n",
    "}\n",
    "\n",
    "// create two arrays\n",
    "const words = [\"today\", \"Hello\", \"foo\"]\n",
    "const games = [\"poker\", \"Uno\", \"Monopoly\"]\n",
    "\n",
    "// call the function passing it two arrays\n",
    "element.text(concatArrays(words, games))"
   ]
  },
  {
   "cell_type": "markdown",
   "metadata": {},
   "source": [
    "Below we are now going to use the ***spread operator*** to merge two lists. "
   ]
  },
  {
   "cell_type": "code",
   "execution_count": 1,
   "metadata": {},
   "outputs": [
    {
     "data": {
      "application/javascript": [
       "\n",
       "let concatTwoArrays = (first_half_2018, second_half_2018) => {\n",
       "    const cat = [...first_half_2018, ...second_half_2018]\n",
       "    return cat ;\n",
       "}\n",
       "\n",
       "\n",
       "element.text(concatTwoArrays([\"Calculator\", \"Whatsapp\"], [\"Chrome\", \"Firefox\"]));\n"
      ],
      "text/plain": [
       "<IPython.core.display.Javascript object>"
      ]
     },
     "metadata": {},
     "output_type": "display_data"
    }
   ],
   "source": [
    "%%js\n",
    "\n",
    "// \n",
    "let concatTwoArrays = (first_half_2018, second_half_2018) => {\n",
    "    const cat = [...first_half_2018, ...second_half_2018]\n",
    "    return cat ;\n",
    "}\n",
    "\n",
    "// passing two lists to the fuction using SPREAD\n",
    "element.text(concatTwoArrays([\"Calculator\", \"Whatsapp\"], [\"Chrome\", \"Firefox\"]));"
   ]
  },
  {
   "cell_type": "code",
   "execution_count": 61,
   "metadata": {},
   "outputs": [
    {
     "name": "stdout",
     "output_type": "stream",
     "text": [
      "['hello', 'teddy', 'ready', 'penny']\n"
     ]
    }
   ],
   "source": [
    "# Python \n",
    "list_1 = ['hello', 'teddy']\n",
    "list_2 = ['ready', 'penny']\n",
    "\n",
    "def join_lists(l_1, l_2):\n",
    "    new_list = l_1 + l_2\n",
    "    return new_list\n",
    "print(join_lists(list_1, list_2))"
   ]
  },
  {
   "cell_type": "markdown",
   "metadata": {},
   "source": [
    "## Rest Parameter "
   ]
  },
  {
   "cell_type": "markdown",
   "metadata": {},
   "source": [
    "# Create an Array/List from String\n",
    "In JS we can uee the split property and with Python list()."
   ]
  },
  {
   "cell_type": "code",
   "execution_count": 62,
   "metadata": {},
   "outputs": [
    {
     "data": {
      "application/javascript": [
       "const splitStringIntoChars = string => {\n",
       "    let splitString = string.split(\"\")\n",
       "    return splitString;\n",
       "}\n",
       "\n",
       "\n",
       "element.text(splitStringIntoChars(\"Hello World!\"));\n"
      ],
      "text/plain": [
       "<IPython.core.display.Javascript object>"
      ]
     },
     "metadata": {},
     "output_type": "display_data"
    }
   ],
   "source": [
    "%%js\n",
    "const splitStringIntoChars = string => {\n",
    "    let splitString = string.split(\"\")\n",
    "    return splitString;\n",
    "}\n",
    "\n",
    "\n",
    "element.text(splitStringIntoChars(\"Hello World!\"));"
   ]
  },
  {
   "cell_type": "code",
   "execution_count": 63,
   "metadata": {},
   "outputs": [
    {
     "name": "stdout",
     "output_type": "stream",
     "text": [
      "['H', 'e', 'l', 'l', 'o', ' ', 'W', 'o', 'r', 'l', 'd']\n"
     ]
    }
   ],
   "source": [
    "# Python \n",
    "the_string = \"Hello World\"\n",
    "print(list(the_string))"
   ]
  },
  {
   "cell_type": "markdown",
   "metadata": {},
   "source": [
    "## The Map Method JavaScript\n",
    "\n",
    "Using forEach() will not be useful if you want to `permanently modify` the `original array`. forEach() always returns undefined. However, creating a new array from an existing array is simple with the `powerful map()` method.\n",
    "\n",
    "The map() method in JavaScript creates an array by calling a specific function on each element present in the parent array. It is a non-mutating method. Generally map() method is used to iterate over an array and calling function on every element of array.\n",
    "* `array.map(function(currentValue, index, arr), thisValue)`\n",
    "\n",
    "Parameters: This method accepts two parameters as mentioned above and described below:\n",
    "\n",
    "* function(currentValue, index, arr): It is required parameter and it runs on each element of array. It contains three parameters which are listed below:\n",
    "  * currentValue: It is required parameter and it holds the value of current element.\n",
    "  * index: It is optional parameter and it holds the index of current element.\n",
    "  * arr: It is optional parameter and it holds the array.\n",
    "* thisValue: It is optional parameter and used to hold the value of passed to the function.\n",
    "\n",
    "**Return Value**: It returns a new array and elements of arrays are result of callback function.\n",
    "\n",
    "Below we use a `function expression` assigning a function to the variable improvedDonuts. The function called `myFunction` takes an array and iterates over each indexed value converting to upper case and adding 'hole' at the end.  Returning a new array. "
   ]
  },
  {
   "cell_type": "code",
   "execution_count": 68,
   "metadata": {},
   "outputs": [
    {
     "data": {
      "application/javascript": [
       "let donuts = [\"jelly donut\", \"chocolate donut\", \"glazed donut\"];\n",
       "let improvedDonuts = donuts.map(myFunction)\n",
       "\n",
       "function myFunction(donut) {\n",
       "  donut += \" hole\";\n",
       "  donut = donut.toUpperCase();\n",
       "  return donut;\n",
       "};\n",
       "\n",
       "element.text(improvedDonuts)\n"
      ],
      "text/plain": [
       "<IPython.core.display.Javascript object>"
      ]
     },
     "metadata": {},
     "output_type": "display_data"
    }
   ],
   "source": [
    "%%js\n",
    "let donuts = [\"jelly donut\", \"chocolate donut\", \"glazed donut\"];\n",
    "\n",
    "// Here we are storing the function in a variable\n",
    "// This is called a Function Expression\n",
    "// Apply the map() method to the array donuts\n",
    "let improvedDonuts = donuts.map(myFunction);\n",
    "\n",
    "function myFunction(donut) {\n",
    "  donut += \" hole\";\n",
    "  donut = donut.toUpperCase();\n",
    "  return donut;\n",
    "};\n",
    "\n",
    "element.text(improvedDonuts)"
   ]
  },
  {
   "cell_type": "code",
   "execution_count": 104,
   "metadata": {},
   "outputs": [
    {
     "data": {
      "application/javascript": [
       "// Take the array bills and add 15% to each value and return a new array callled total\n",
       "\n",
       "const bills = [50.23, 19.12, 34.01, 100.11, 12.15, 9.90, \n",
       "               29.11, 12.99, 10.00, 99.22, 102.20, 100.10, \n",
       "               6.77, 2.22];\n",
       "//  map function addTip to each value in the bills array and return new array\n",
       "let totals = bills.map(addTip);\n",
       "\n",
       "// parseFloat will convert string to float\n",
       "function addTip(price){\n",
       "    price * 1.15;\n",
       "    price = parseFloat(price.toFixed(2));\n",
       "    return price\n",
       "};\n",
       "\n",
       "element.text(totals);\n"
      ],
      "text/plain": [
       "<IPython.core.display.Javascript object>"
      ]
     },
     "metadata": {},
     "output_type": "display_data"
    }
   ],
   "source": [
    "%%js\n",
    "// Take the array bills and add 15% to each value and return a new array callled total\n",
    "\n",
    "const bills = [50.23, 19.12, 34.01, 100.11, 12.15, 9.90, \n",
    "               29.11, 12.99, 10.00, 99.22, 102.20, 100.10, \n",
    "               6.77, 2.22];\n",
    "//  map function addTip to each value in the bills array and return new array\n",
    "let totals = bills.map(addTip);\n",
    "\n",
    "// parseFloat will convert string to float\n",
    "function addTip(price){\n",
    "    price * 1.15;\n",
    "    price = parseFloat(price.toFixed(2));\n",
    "    return price\n",
    "};\n",
    "\n",
    "element.text(totals);"
   ]
  },
  {
   "cell_type": "markdown",
   "metadata": {},
   "source": [
    "### Using the Fat Arrow & Map"
   ]
  },
  {
   "cell_type": "code",
   "execution_count": 103,
   "metadata": {},
   "outputs": [
    {
     "data": {
      "application/javascript": [
       "// We can try doing the same but use the fat arrow =>\n",
       "\n",
       "const bills = [50.23, 19.12, 34.01, 100.11, 12.15, 9.90, \n",
       "               29.11, 12.99, 10.00, 99.22, 102.20, 100.10, \n",
       "               6.77, 2.22];\n",
       "\n",
       "let totals = bills.map(price => {\n",
       "    price * 1.15;\n",
       "    price = parseFloat(price.toFixed(2));\n",
       "    return price\n",
       "});\n",
       "\n",
       "element.text(totals);\n"
      ],
      "text/plain": [
       "<IPython.core.display.Javascript object>"
      ]
     },
     "metadata": {},
     "output_type": "display_data"
    }
   ],
   "source": [
    "%%js\n",
    "// We can try doing the same but use the fat arrow =>\n",
    "\n",
    "const bills = [50.23, 19.12, 34.01, 100.11, 12.15, 9.90, \n",
    "               29.11, 12.99, 10.00, 99.22, 102.20, 100.10, \n",
    "               6.77, 2.22];\n",
    "\n",
    "let totals = bills.map(price => {\n",
    "    price * 1.15;\n",
    "    price = parseFloat(price.toFixed(2));\n",
    "    return price\n",
    "});\n",
    "\n",
    "element.text(totals);"
   ]
  },
  {
   "cell_type": "markdown",
   "metadata": {},
   "source": [
    "## The Map Method Python \n",
    "* `map(function, sequence)` where:\n",
    "  * *function* can be lambda or def\n",
    "  * *sequence* can be a list, dictionary, tuple, set\n",
    "* Map will take the function and apply it to each element of the sequence"
   ]
  },
  {
   "cell_type": "code",
   "execution_count": 105,
   "metadata": {},
   "outputs": [
    {
     "name": "stdout",
     "output_type": "stream",
     "text": [
      "[50.23, 19.12, 34.01, 100.11, 12.15, 9.9, 29.11, 12.99, 10.0, 99.22, 102.2, 100.1, 6.77, 2.22]\n"
     ]
    }
   ],
   "source": [
    "bills = [50.23, 19.12, 34.01, 100.11, 12.15, 9.90, \n",
    "        29.11, 12.99, 10.00, 99.22, 102.20, 100.10, \n",
    "        6.77, 2.22]\n",
    "\n",
    "def add_tip(bill):\n",
    "    bill * 1.15\n",
    "    return round(bill,2)\n",
    "\n",
    "totals = list(map(add_tip, bills))\n",
    "print(totals)"
   ]
  },
  {
   "cell_type": "markdown",
   "metadata": {},
   "source": [
    "### Using Lambda & Map\n",
    "To make the above shorter we can replace the `def` with `lambda`. Lets breakdown what is going on below. \n",
    "\n",
    "There is a list of values that will be passed into the map method as the second parameter. Map knows it needs to take the given function and apply it to each element within the list. \n",
    "\n",
    "Lambda is the function passed as the first argument. `x` represents the element within the list and we are adding 15% and rounding the result. Then everything is wrapped within `list()` indicating we want a list of new values returned. "
   ]
  },
  {
   "cell_type": "code",
   "execution_count": 106,
   "metadata": {},
   "outputs": [
    {
     "name": "stdout",
     "output_type": "stream",
     "text": [
      "[57.76, 21.99, 39.11, 115.13, 13.97, 11.38, 33.48, 14.94, 11.5, 114.1, 117.53, 115.11, 7.79, 2.55]\n"
     ]
    }
   ],
   "source": [
    "bills = [50.23, 19.12, 34.01, 100.11, 12.15, 9.90, \n",
    "        29.11, 12.99, 10.00, 99.22, 102.20, 100.10, \n",
    "        6.77, 2.22]\n",
    "totals = list(map(lambda x: round(x * 1.15,2),bills))\n",
    "print(totals)"
   ]
  },
  {
   "cell_type": "markdown",
   "metadata": {},
   "source": []
  },
  {
   "cell_type": "markdown",
   "metadata": {},
   "source": [
    "## Apply() w/Min and Max\n",
    "With JS we can use `apply()` to find the min and max value of an array. With Python to find the min and max value we can use the built-in function to quickly find. "
   ]
  },
  {
   "cell_type": "code",
   "execution_count": 1,
   "metadata": {},
   "outputs": [
    {
     "data": {
      "application/javascript": [
       "// Find the max value in the array (arr)\n",
       "let arr = [10, 12, 55, 78, 89, 1, -5];\n",
       "function findMax(arr){\n",
       "    let max = Math.max.apply(null, arr);\n",
       "    return max;\n",
       "}\n",
       "element.text(findMax(arr));\n"
      ],
      "text/plain": [
       "<IPython.core.display.Javascript object>"
      ]
     },
     "metadata": {},
     "output_type": "display_data"
    }
   ],
   "source": [
    "%%js\n",
    "// Find the max value in the array (arr)\n",
    "let arr = [10, 12, 55, 78, 89, 1, -5];\n",
    "function findMax(arr){\n",
    "    let max = Math.max.apply(null, arr);\n",
    "    return max;\n",
    "}\n",
    "element.text(findMax(arr));"
   ]
  },
  {
   "cell_type": "code",
   "execution_count": 3,
   "metadata": {},
   "outputs": [
    {
     "data": {
      "application/javascript": [
       "// Find the min value in the array (arr)\n",
       "let arr = [10, 12, 55, 78, 89, 1, -5];\n",
       "function findMin(arr){\n",
       "    let min = Math.min.apply(null, arr);\n",
       "    return min;\n",
       "}\n",
       "element.text(findMin(arr));\n"
      ],
      "text/plain": [
       "<IPython.core.display.Javascript object>"
      ]
     },
     "metadata": {},
     "output_type": "display_data"
    }
   ],
   "source": [
    "%%js\n",
    "// Find the min value in the array (arr)\n",
    "let arr = [10, 12, 55, 78, 89, 1, -5];\n",
    "function findMin(arr){\n",
    "    let min = Math.min.apply(null, arr);\n",
    "    return min;\n",
    "}\n",
    "element.text(findMin(arr));"
   ]
  },
  {
   "cell_type": "code",
   "execution_count": 5,
   "metadata": {},
   "outputs": [
    {
     "name": "stdout",
     "output_type": "stream",
     "text": [
      "The min is: -5\n",
      "\n",
      "The max is: 89\n"
     ]
    }
   ],
   "source": [
    "# Python \n",
    "arr = [10, 12, 55, 78, 89, 1, -5]\n",
    "print(f\"The min is: {min(arr)}\\n\")\n",
    "print(f\"The max is: {max(arr)}\")"
   ]
  },
  {
   "cell_type": "markdown",
   "metadata": {},
   "source": [
    "## Creating List Odd Values"
   ]
  },
  {
   "cell_type": "code",
   "execution_count": 11,
   "metadata": {},
   "outputs": [
    {
     "data": {
      "application/javascript": [
       "\n",
       "function oddNumbers(){\n",
       "    let arr = [];\n",
       "    for(let i = 0; i < 51; i++){\n",
       "        if(i % 2 === 1){\n",
       "            arr.push(i);\n",
       "        }\n",
       "    }\n",
       "    return arr;\n",
       "}\n",
       "element.text(oddNumbers());\n"
      ],
      "text/plain": [
       "<IPython.core.display.Javascript object>"
      ]
     },
     "metadata": {},
     "output_type": "display_data"
    }
   ],
   "source": [
    "%%js\n",
    "\n",
    "function oddNumbers(){\n",
    "    let arr = [];\n",
    "    for(let i = 0; i < 51; i++){\n",
    "        if(i % 2 === 1){\n",
    "            arr.push(i);\n",
    "        }\n",
    "    }\n",
    "    return arr;\n",
    "}\n",
    "element.text(oddNumbers());"
   ]
  },
  {
   "cell_type": "code",
   "execution_count": 7,
   "metadata": {},
   "outputs": [
    {
     "name": "stdout",
     "output_type": "stream",
     "text": [
      "[1, 3, 5, 7, 9, 11, 13, 15, 17, 19, 21, 23, 25, 27, 29, 31, 33, 35, 37, 39, 41, 43, 45, 47, 49]\n"
     ]
    }
   ],
   "source": [
    "# Using list comprehension \n",
    "odd_nums = [i for i in range(1,50) if i % 2 == 1]\n",
    "print(odd_nums)"
   ]
  },
  {
   "cell_type": "code",
   "execution_count": 8,
   "metadata": {},
   "outputs": [
    {
     "name": "stdout",
     "output_type": "stream",
     "text": [
      "[1, 3, 5, 7, 9, 11, 13, 15, 17, 19, 21, 23, 25, 27, 29, 31, 33, 35, 37, 39, 41, 43, 45, 47, 49]\n"
     ]
    }
   ],
   "source": [
    "# Python \n",
    "odd_nums = []\n",
    "for i in range(1, 50):\n",
    "    if i % 2 == 1:\n",
    "        odd_nums.append(i)\n",
    "print(odd_nums)"
   ]
  },
  {
   "cell_type": "code",
   "execution_count": null,
   "metadata": {},
   "outputs": [],
   "source": []
  }
 ],
 "metadata": {
  "hide_input": false,
  "kernelspec": {
   "display_name": "Python 3",
   "language": "python",
   "name": "python3"
  },
  "language_info": {
   "codemirror_mode": {
    "name": "ipython",
    "version": 3
   },
   "file_extension": ".py",
   "mimetype": "text/x-python",
   "name": "python",
   "nbconvert_exporter": "python",
   "pygments_lexer": "ipython3",
   "version": "3.7.7"
  },
  "latex_envs": {
   "LaTeX_envs_menu_present": true,
   "autoclose": false,
   "autocomplete": true,
   "bibliofile": "biblio.bib",
   "cite_by": "apalike",
   "current_citInitial": 1,
   "eqLabelWithNumbers": true,
   "eqNumInitial": 1,
   "hotkeys": {
    "equation": "Ctrl-E",
    "itemize": "Ctrl-I"
   },
   "labels_anchors": false,
   "latex_user_defs": false,
   "report_style_numbering": false,
   "user_envs_cfg": false
  },
  "toc": {
   "base_numbering": 1,
   "nav_menu": {},
   "number_sections": true,
   "sideBar": true,
   "skip_h1_title": false,
   "title_cell": "Table of Contents",
   "title_sidebar": "Contents",
   "toc_cell": false,
   "toc_position": {},
   "toc_section_display": true,
   "toc_window_display": false
  },
  "varInspector": {
   "cols": {
    "lenName": 16,
    "lenType": 16,
    "lenVar": 40
   },
   "kernels_config": {
    "python": {
     "delete_cmd_postfix": "",
     "delete_cmd_prefix": "del ",
     "library": "var_list.py",
     "varRefreshCmd": "print(var_dic_list())"
    },
    "r": {
     "delete_cmd_postfix": ") ",
     "delete_cmd_prefix": "rm(",
     "library": "var_list.r",
     "varRefreshCmd": "cat(var_dic_list()) "
    }
   },
   "types_to_exclude": [
    "module",
    "function",
    "builtin_function_or_method",
    "instance",
    "_Feature"
   ],
   "window_display": false
  }
 },
 "nbformat": 4,
 "nbformat_minor": 4
}
