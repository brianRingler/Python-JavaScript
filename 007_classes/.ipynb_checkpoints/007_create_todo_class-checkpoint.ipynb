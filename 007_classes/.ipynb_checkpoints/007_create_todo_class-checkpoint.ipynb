{
 "cells": [
  {
   "cell_type": "code",
   "execution_count": null,
   "metadata": {},
   "outputs": [],
   "source": [
    "***\n",
    "# Creating a Todo Class with JavaScript and Python \n",
    "***"
   ]
  },
  {
   "cell_type": "code",
   "execution_count": null,
   "metadata": {},
   "outputs": [],
   "source": [
    "%%js\n",
    "class TodoManager {\n",
    "    constructor(todos) {\n",
    "      this.todos = todos;\n",
    "    }\n",
    "    getCompleted(){\n",
    "      break\n",
    "    }\n",
    "    getPending(){\n",
    "      //break\n",
    "    }\n",
    "    getFirst(){\n",
    "      //break\n",
    "    }\n",
    "    getLast(){\n",
    "      //break\n",
    "    }\n",
    "    getCount(){\n",
    "      //break\n",
    "    }\n",
    "    markAsCompleted(){\n",
    "      //break\n",
    "    } \n",
    "    add(){\n",
    "      //break\n",
    "    }\n",
    "    allCompleted(){\n",
    "      //break\n",
    "    }\n",
    "}\n",
    "\n",
    "\n",
    "//sample usage\n",
    "try {\n",
    "  const initialTodos = [{\n",
    "    title: \"Learn JavaScript\",\n",
    "    is_completed: true\n",
    "  }, {\n",
    "    title: \"Practice flashcards\",\n",
    "    is_completed: false\n",
    "  }];\n",
    "  const todoManager = new TodoManager(initialTodos);\n",
    "\n",
    "  console.log(todoManager.getCompleted()); //returns completed todos\n",
    "  console.log(todoManager.getPending()); //returns todos that are not completed\n",
    "  console.log(todoManager.getFirst());\n",
    "  console.log(todoManager.getLast());\n",
    "  console.log(todoManager.getCount());\n",
    "  todoManager.markAsCompleted(\"Practice flashcards\"); //receives a title, finds todo with that title and marks it as completed\n",
    "  todoManager.add({\n",
    "    title: \"Recap flashcards\",\n",
    "    is_completed: true\n",
    "  });\n",
    "  //when is_completed is not defined, it should default to false\n",
    "  todoManager.add({\n",
    "    title: \"Get some rest\"\n",
    "  });\n",
    "  console.log(todoManager.allCompleted()); //returns true when all todo items are completed\n",
    "  console.log(todoManager.allPending()); //returns true when all todo items are pending\n",
    "  console.log(todoManager.exportCsv()); //returns Comma Separated Values of titles \"Todo title, Another todo title\"\n",
    "} catch (error) {\n",
    "  // we wrapped the sample usage with try/catch\n",
    "  // to avoid it from breaking when you have not implemented\n",
    "  // all the methods yet.\n",
    "}"
   ]
  },
  {
   "cell_type": "code",
   "execution_count": null,
   "metadata": {},
   "outputs": [],
   "source": []
  },
  {
   "cell_type": "code",
   "execution_count": null,
   "metadata": {},
   "outputs": [],
   "source": []
  },
  {
   "cell_type": "code",
   "execution_count": null,
   "metadata": {},
   "outputs": [],
   "source": []
  },
  {
   "cell_type": "code",
   "execution_count": null,
   "metadata": {},
   "outputs": [],
   "source": []
  },
  {
   "cell_type": "code",
   "execution_count": null,
   "metadata": {},
   "outputs": [],
   "source": []
  },
  {
   "cell_type": "code",
   "execution_count": null,
   "metadata": {},
   "outputs": [],
   "source": []
  },
  {
   "cell_type": "code",
   "execution_count": null,
   "metadata": {},
   "outputs": [],
   "source": []
  },
  {
   "cell_type": "code",
   "execution_count": null,
   "metadata": {},
   "outputs": [],
   "source": []
  }
 ],
 "metadata": {
  "hide_input": false,
  "kernelspec": {
   "display_name": "Python 3.7.7 64-bit",
   "language": "python",
   "name": "python37764bit1d134cf81e544cb99a618dd9a5cd6a6b"
  },
  "language_info": {
   "codemirror_mode": {
    "name": "ipython",
    "version": 3
   },
   "file_extension": ".py",
   "mimetype": "text/x-python",
   "name": "python",
   "nbconvert_exporter": "python",
   "pygments_lexer": "ipython3",
   "version": "3.7.7"
  },
  "latex_envs": {
   "LaTeX_envs_menu_present": true,
   "autoclose": false,
   "autocomplete": true,
   "bibliofile": "biblio.bib",
   "cite_by": "apalike",
   "current_citInitial": 1,
   "eqLabelWithNumbers": true,
   "eqNumInitial": 1,
   "hotkeys": {
    "equation": "Ctrl-E",
    "itemize": "Ctrl-I"
   },
   "labels_anchors": false,
   "latex_user_defs": false,
   "report_style_numbering": false,
   "user_envs_cfg": false
  },
  "toc": {
   "base_numbering": 1,
   "nav_menu": {},
   "number_sections": true,
   "sideBar": true,
   "skip_h1_title": false,
   "title_cell": "Table of Contents",
   "title_sidebar": "Contents",
   "toc_cell": false,
   "toc_position": {},
   "toc_section_display": true,
   "toc_window_display": false
  },
  "varInspector": {
   "cols": {
    "lenName": 16,
    "lenType": 16,
    "lenVar": 40
   },
   "kernels_config": {
    "python": {
     "delete_cmd_postfix": "",
     "delete_cmd_prefix": "del ",
     "library": "var_list.py",
     "varRefreshCmd": "print(var_dic_list())"
    },
    "r": {
     "delete_cmd_postfix": ") ",
     "delete_cmd_prefix": "rm(",
     "library": "var_list.r",
     "varRefreshCmd": "cat(var_dic_list()) "
    }
   },
   "types_to_exclude": [
    "module",
    "function",
    "builtin_function_or_method",
    "instance",
    "_Feature"
   ],
   "window_display": false
  }
 },
 "nbformat": 4,
 "nbformat_minor": 4
}
