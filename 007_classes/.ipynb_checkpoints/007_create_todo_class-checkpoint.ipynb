{
 "cells": [
  {
   "cell_type": "code",
   "execution_count": 1,
   "metadata": {},
   "outputs": [
    {
     "ename": "SyntaxError",
     "evalue": "invalid syntax (<ipython-input-1-bf91ff43b53e>, line 1)",
     "output_type": "error",
     "traceback": [
      "\u001b[1;36m  File \u001b[1;32m\"<ipython-input-1-bf91ff43b53e>\"\u001b[1;36m, line \u001b[1;32m1\u001b[0m\n\u001b[1;33m    ***\u001b[0m\n\u001b[1;37m     ^\u001b[0m\n\u001b[1;31mSyntaxError\u001b[0m\u001b[1;31m:\u001b[0m invalid syntax\n"
     ]
    }
   ],
   "source": [
    "***\n",
    "# Creating a Todo Class with JavaScript and Python \n",
    "***"
   ]
  },
  {
   "cell_type": "code",
   "execution_count": 2,
   "metadata": {},
   "outputs": [
    {
     "data": {
      "application/javascript": [
       "class TodoManager {\n",
       "    constructor(todos) {\n",
       "        this.todos = todos;\n",
       "    }\n",
       "    getCompleted(){\n",
       "        return this.todos.filter(todo => todo.is_completed);\n",
       "    }\n",
       "    getPending(){\n",
       "        return this.todos.filter(todo => !todo.is_completed);\n",
       "    }\n",
       "    getFirst(){\n",
       "        return this.todos[0];\n",
       "    }\n",
       "    getLast(){\n",
       "        return this.todos[this.todos.length - 1];\n",
       "    }\n",
       "    getCount(){\n",
       "        return this.todos.length;\n",
       "    }\n",
       "    markAsCompleted(title){\n",
       "        const todo = this.todos.find(item => item.title === title);\n",
       "        todo.is_completed = true;\n",
       "        return this.todos;\n",
       "    }  \n",
       "    add(item){\n",
       "        if (!item.is_completed){\n",
       "            item.is_completed = false;\n",
       "        }\n",
       "        this.todos.push(item);\n",
       "        return this.todos;\n",
       "    }\n",
       "    allCompleted(){\n",
       "        return this.todos.every(todo => todo.is_completed);\n",
       "    }\n",
       "    allPending(){\n",
       "        return this.todos.every(todo => !todo.is_completed);\n",
       "    }\n",
       "    exportCsv(){\n",
       "        return this.todos.map(todo => todo.title).join(\", \");\n",
       "    }\n",
       "}\n",
       "\n",
       "\n",
       "\n",
       "try {\n",
       "  const initialTodos = [{\n",
       "    title: \"Learn JavaScript\",\n",
       "    is_completed: true\n",
       "  }, {\n",
       "    title: \"Practice flashcards\",\n",
       "    is_completed: false\n",
       "  }];\n",
       "  const todoManager = new TodoManager(initialTodos);\n",
       "\n",
       "  console.log(todoManager.getCompleted()); //returns completed todos\n",
       "  console.log(todoManager.getPending()); //returns todos that are not completed\n",
       "  console.log(todoManager.getFirst());\n",
       "  console.log(todoManager.getLast());\n",
       "  console.log(todoManager.getCount());\n",
       "  todoManager.markAsCompleted(\"Practice flashcards\"); //receives a title, finds todo with that title and marks it as completed\n",
       "  todoManager.add({\n",
       "    title: \"Recap flashcards\",\n",
       "    is_completed: true\n",
       "  });\n",
       "  //when is_completed is not defined, it should default to false\n",
       "  todoManager.add({\n",
       "    title: \"Get some rest\"\n",
       "  });\n",
       "  console.log(todoManager.allCompleted()); //returns true when all todo items are completed\n",
       "  console.log(todoManager.allPending()); //returns true when all todo items are pending\n",
       "  console.log(todoManager.exportCsv()); //returns Comma Separated Values of titles \"Todo title, Another todo title\"\n",
       "} catch (error) {\n",
       "  // we wrapped the sample usage with try/catch\n",
       "  // to avoid it from breaking when you have not implemented\n",
       "  // all the methods yet.\n",
       "}\n"
      ],
      "text/plain": [
       "<IPython.core.display.Javascript object>"
      ]
     },
     "metadata": {},
     "output_type": "display_data"
    }
   ],
   "source": [
    "%%js\n",
    "class TodoManager {\n",
    "    constructor(todos) {\n",
    "        this.todos = todos;\n",
    "    }\n",
    "    getCompleted(){\n",
    "        return this.todos.filter(todo => todo.is_completed);\n",
    "    }\n",
    "    getPending(){\n",
    "        return this.todos.filter(todo => !todo.is_completed);\n",
    "    }\n",
    "    getFirst(){\n",
    "        return this.todos[0];\n",
    "    }\n",
    "    getLast(){\n",
    "        return this.todos[this.todos.length - 1];\n",
    "    }\n",
    "    getCount(){\n",
    "        return this.todos.length;\n",
    "    }\n",
    "    markAsCompleted(title){\n",
    "        const todo = this.todos.find(item => item.title === title);\n",
    "        todo.is_completed = true;\n",
    "        return this.todos;\n",
    "    }  \n",
    "    add(item){\n",
    "        if (!item.is_completed){\n",
    "            item.is_completed = false;\n",
    "        }\n",
    "        this.todos.push(item);\n",
    "        return this.todos;\n",
    "    }\n",
    "    allCompleted(){\n",
    "        return this.todos.every(todo => todo.is_completed);\n",
    "    }\n",
    "    allPending(){\n",
    "        return this.todos.every(todo => !todo.is_completed);\n",
    "    }\n",
    "    exportCsv(){\n",
    "        return this.todos.map(todo => todo.title).join(\", \");\n",
    "    }\n",
    "}\n",
    "\n",
    "\n",
    "\n",
    "try {\n",
    "  const initialTodos = [{\n",
    "    title: \"Learn JavaScript\",\n",
    "    is_completed: true\n",
    "  }, {\n",
    "    title: \"Practice flashcards\",\n",
    "    is_completed: false\n",
    "  }];\n",
    "  const todoManager = new TodoManager(initialTodos);\n",
    "\n",
    "  console.log(todoManager.getCompleted()); //returns completed todos\n",
    "  console.log(todoManager.getPending()); //returns todos that are not completed\n",
    "  console.log(todoManager.getFirst());\n",
    "  console.log(todoManager.getLast());\n",
    "  console.log(todoManager.getCount());\n",
    "  todoManager.markAsCompleted(\"Practice flashcards\"); //receives a title, finds todo with that title and marks it as completed\n",
    "  todoManager.add({\n",
    "    title: \"Recap flashcards\",\n",
    "    is_completed: true\n",
    "  });\n",
    "  //when is_completed is not defined, it should default to false\n",
    "  todoManager.add({\n",
    "    title: \"Get some rest\"\n",
    "  });\n",
    "  console.log(todoManager.allCompleted()); //returns true when all todo items are completed\n",
    "  console.log(todoManager.allPending()); //returns true when all todo items are pending\n",
    "  console.log(todoManager.exportCsv()); //returns Comma Separated Values of titles \"Todo title, Another todo title\"\n",
    "} catch (error) {\n",
    "  element.text('Error');\n",
    "}"
   ]
  },
  {
   "cell_type": "markdown",
   "metadata": {},
   "source": [
    "## Python "
   ]
  },
  {
   "cell_type": "code",
   "execution_count": null,
   "metadata": {},
   "outputs": [],
   "source": [
    "def below_zero(values):\n",
    "    return list(filter(lambda values: values < 0, values))\n",
    "print(below_zero([25, 45, 5, 0, -25, -5, -6, 78]))"
   ]
  },
  {
   "cell_type": "code",
   "execution_count": 21,
   "metadata": {},
   "outputs": [],
   "source": [
    "class TodoManager():\n",
    "    def __init__(self, todos):\n",
    "        self.todos = todos\n",
    "        \n",
    "    def getCompleted(self):\n",
    "        completed = []\n",
    "        for comp in self.todos:\n",
    "            if comp['is_completed'] == True:\n",
    "                completed.append(comp)\n",
    "        return completed\n",
    "    \n",
    "    def getPending(self):\n",
    "        pending = []\n",
    "        for comp in self.todos:\n",
    "            if comp['is_completed'] == False:\n",
    "                pending.append(comp)\n",
    "        return pending\n",
    "    \n",
    "    def getFirst():\n",
    "        pass\n",
    "    def getlast():\n",
    "        pass\n",
    "    def getCount():\n",
    "        pass\n",
    "    def markAsCompleted():\n",
    "        pass\n",
    "    def add():\n",
    "        pass\n",
    "    def allCompleted():\n",
    "        pass\n",
    "    def allPending():\n",
    "        pass\n",
    "    def exportCsv():\n",
    "        pass"
   ]
  },
  {
   "cell_type": "code",
   "execution_count": 23,
   "metadata": {},
   "outputs": [
    {
     "name": "stdout",
     "output_type": "stream",
     "text": [
      "[{'title': 'Practice flashcards', 'is_completed': False}]\n"
     ]
    }
   ],
   "source": [
    "initialTodos = [{\n",
    "'title': \"Learn JavaScript\",\n",
    "'is_completed': True\n",
    "}, {\n",
    "'title': \"Practice flashcards\",\n",
    "'is_completed': False\n",
    "}]\n",
    "todoManager = TodoManager(initialTodos)\n",
    "print(todoManager.getPending())"
   ]
  },
  {
   "cell_type": "code",
   "execution_count": 4,
   "metadata": {},
   "outputs": [
    {
     "name": "stdout",
     "output_type": "stream",
     "text": [
      "Error\n"
     ]
    }
   ],
   "source": [
    "try:\n",
    "    initialTodos = [{\n",
    "    'title': \"Learn JavaScript\",\n",
    "    'is_completed': True\n",
    "    }, {\n",
    "    'title': \"Practice flashcards\",\n",
    "    'is_completed': False\n",
    "    }]\n",
    "\n",
    "    todoManager = TodoManager(initialTodos)\n",
    "\n",
    "    print(todoManager.getCompleted()) # returns completed todos\n",
    "    print(todoManager.getPending()) #returns todos that are not completed\n",
    "    print(todoManager.getFirst())\n",
    "    print(todoManager.getLast())\n",
    "    print(todoManager.getCount())\n",
    "\n",
    "    todoManager.markAsCompleted(\"Practice flashcards\") #receives a title, finds todo with that title and marks it as completed\n",
    "\n",
    "    todoManager.add({\n",
    "    'title': \"Recap flashcards\",\n",
    "    'is_completed': True\n",
    "    })\n",
    "\n",
    "    ## when is_completed is not defined, it should default to false\n",
    "    todoManager.add({\n",
    "    'title': \"Get some rest\"\n",
    "    })\n",
    "\n",
    "    print(todoManager.allCompleted()) #returns true when all todo items are completed\n",
    "    print(todoManager.allPending()) # returns true when all todo items are pending\n",
    "    print(todoManager.exportCsv()) # returns Comma Separated Values of titles \"Todo title, Another todo title\"\n",
    "\n",
    "except:\n",
    "    print('Error')\n"
   ]
  },
  {
   "cell_type": "code",
   "execution_count": null,
   "metadata": {},
   "outputs": [],
   "source": []
  },
  {
   "cell_type": "code",
   "execution_count": null,
   "metadata": {},
   "outputs": [],
   "source": []
  },
  {
   "cell_type": "code",
   "execution_count": null,
   "metadata": {},
   "outputs": [],
   "source": []
  },
  {
   "cell_type": "code",
   "execution_count": null,
   "metadata": {},
   "outputs": [],
   "source": []
  },
  {
   "cell_type": "code",
   "execution_count": null,
   "metadata": {},
   "outputs": [],
   "source": []
  },
  {
   "cell_type": "code",
   "execution_count": null,
   "metadata": {},
   "outputs": [],
   "source": []
  }
 ],
 "metadata": {
  "hide_input": false,
  "kernelspec": {
   "display_name": "Python 3.7.7 64-bit",
   "language": "python",
   "name": "python37764bit1d134cf81e544cb99a618dd9a5cd6a6b"
  },
  "language_info": {
   "codemirror_mode": {
    "name": "ipython",
    "version": 3
   },
   "file_extension": ".py",
   "mimetype": "text/x-python",
   "name": "python",
   "nbconvert_exporter": "python",
   "pygments_lexer": "ipython3",
   "version": "3.7.7"
  },
  "latex_envs": {
   "LaTeX_envs_menu_present": true,
   "autoclose": false,
   "autocomplete": true,
   "bibliofile": "biblio.bib",
   "cite_by": "apalike",
   "current_citInitial": 1,
   "eqLabelWithNumbers": true,
   "eqNumInitial": 1,
   "hotkeys": {
    "equation": "Ctrl-E",
    "itemize": "Ctrl-I"
   },
   "labels_anchors": false,
   "latex_user_defs": false,
   "report_style_numbering": false,
   "user_envs_cfg": false
  },
  "toc": {
   "base_numbering": 1,
   "nav_menu": {},
   "number_sections": true,
   "sideBar": true,
   "skip_h1_title": false,
   "title_cell": "Table of Contents",
   "title_sidebar": "Contents",
   "toc_cell": false,
   "toc_position": {},
   "toc_section_display": true,
   "toc_window_display": false
  },
  "varInspector": {
   "cols": {
    "lenName": 16,
    "lenType": 16,
    "lenVar": 40
   },
   "kernels_config": {
    "python": {
     "delete_cmd_postfix": "",
     "delete_cmd_prefix": "del ",
     "library": "var_list.py",
     "varRefreshCmd": "print(var_dic_list())"
    },
    "r": {
     "delete_cmd_postfix": ") ",
     "delete_cmd_prefix": "rm(",
     "library": "var_list.r",
     "varRefreshCmd": "cat(var_dic_list()) "
    }
   },
   "types_to_exclude": [
    "module",
    "function",
    "builtin_function_or_method",
    "instance",
    "_Feature"
   ],
   "window_display": false
  }
 },
 "nbformat": 4,
 "nbformat_minor": 4
}
