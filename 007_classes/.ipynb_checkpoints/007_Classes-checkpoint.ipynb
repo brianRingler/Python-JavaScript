{
 "cells": [
  {
   "cell_type": "markdown",
   "metadata": {},
   "source": [
    "***\n",
    "# Python and JavaScript \n",
    "***\n",
    "In this notebook we will compare the Python **`class`**"
   ]
  },
  {
   "cell_type": "markdown",
   "metadata": {},
   "source": [
    "# Comparing JS and Python Class\n",
    "With the release of `ES6` JaveScript had a new feature <span style='color:green'><strong>class</strong></span> that is very similar to the Python <span style='color:green'><strong>class</strong></span>. Here we have created a class called <span style='color:blue'><strong>Car</strong></span> in JS and Python. The `Car` class has 4 `attributes` and 1 `method()`.  Lets compare the similarities and differences below. \n",
    "\n",
    "**Declaring the class**\n",
    "Both are similar in that `class` is a keyword and the name of the class is capitalized. However, this is not required and a class name in either language could be changed and there would not be an error. After the class name is declared Python classes have open and closed parentheses followed by the classic colon **`():`**.  JS simply has the classic open curly bracket **`{`**.  Note: Python classes can inherit from other classes by passing the another class name between the parentheses, [About Python Class Inheritance](https://www.w3schools.com/python/python_inheritance.asp).\n",
    "\n",
    "\n",
    "**Declaring Attributes of class**\n",
    "Next, both languages declare the attributes and for the most part they are identical. JS uses the key word `constructor` and Python creates a function with its key word `def` followed by a key word `__init__`. \n",
    "* def __init__(self):\n",
    "* constructor() {\n",
    "\n",
    "\n",
    "\n"
   ]
  },
  {
   "cell_type": "markdown",
   "metadata": {},
   "source": [
    "## JavaScript Class `ES6`\n",
    "Here we have created a JavaScript <span style='color:green'><em>class</em></span> called <span style='color:blue'><em>Car</em></span>. "
   ]
  },
  {
   "cell_type": "code",
   "execution_count": 3,
   "metadata": {},
   "outputs": [
    {
     "data": {
      "application/javascript": [
       "// JavaScript ES6 Classes \n",
       "class Car {\n",
       "    constructor(model, salePrice, color, yearBuilt){\n",
       "        this.model = model;\n",
       "        this.salePrice = salePrice;\n",
       "        this.color = color;\n",
       "        this.yearBuilt = yearBuilt\n",
       "    }\n",
       "    getYears(){ \n",
       "        const today = new Date();\n",
       "        const carAge = today.getFullYear() - this.yearBuilt;\n",
       "        return carAge;\n",
       "    }\n",
       "}\n",
       "\n",
       "//Create Objects\n",
       "const carOne = new Car('Charger',25000,'yellow',2010);\n",
       "const carTwo = new Car('Rustang',22000,'blue',1998);\n",
       "\n",
       "//Log out objects properties and methods\n",
       "console.log(carOne.model);  // \"Charger\"\n",
       "console.log(carTwo.model); // \"Rustang\"\n",
       "console.log(carOne.color);  // \"yellow\"\n",
       "console.log(carTwo.salePrice); // \"22000\"\n",
       "console.log(carOne.getYears()); // 10\n",
       "console.log(carTwo.getYears()); // 22\n"
      ],
      "text/plain": [
       "<IPython.core.display.Javascript object>"
      ]
     },
     "metadata": {},
     "output_type": "display_data"
    }
   ],
   "source": [
    "%%JavaScript\n",
    "// JavaScript ES6 Classes \n",
    "class Car {\n",
    "    constructor(model, salePrice, color, yearBuilt){\n",
    "        this.model = model;\n",
    "        this.salePrice = salePrice;\n",
    "        this.color = color;\n",
    "        this.yearBuilt = yearBuilt;\n",
    "    }\n",
    "    getYears(){ \n",
    "        const today = new Date();\n",
    "        const carAge = today.getFullYear() - this.yearBuilt;\n",
    "        return carAge;\n",
    "    }\n",
    "}\n",
    "\n",
    "//Create Objects\n",
    "const carOne = new Car('Charger',25000,'yellow',2010);\n",
    "const carTwo = new Car('Rustang',22000,'blue',1998);\n",
    "\n",
    "//Log out objects properties and methods\n",
    "console.log(carOne.model);  // \"Charger\"\n",
    "console.log(carTwo.model); // \"Rustang\"\n",
    "console.log(carOne.color);  // \"yellow\"\n",
    "console.log(carTwo.salePrice); // \"22000\"\n",
    "console.log(carOne.getYears()); // 10\n",
    "console.log(carTwo.getYears()); // 22"
   ]
  },
  {
   "cell_type": "markdown",
   "metadata": {},
   "source": [
    "## Python Class\n",
    "Here we have created a Python <span style='color:green'><em>class</em></span> called <span style='color:blue'><em>Car</em></span>. "
   ]
  },
  {
   "cell_type": "code",
   "execution_count": 16,
   "metadata": {},
   "outputs": [
    {
     "name": "stdout",
     "output_type": "stream",
     "text": [
      "Charger\n",
      "Rustang\n",
      "yellow\n",
      "22000\n",
      "10\n",
      "22\n"
     ]
    }
   ],
   "source": [
    "from datetime import datetime\n",
    "\n",
    "class Car():\n",
    "    def __init__(self, model, salePrice, color, yearBuilt):\n",
    "        self.model = model\n",
    "        self.salePrice = salePrice\n",
    "        self.color = color\n",
    "        self.yearBuilt = yearBuilt\n",
    "    \n",
    "    def getYears(self):\n",
    "        today = datetime.now()\n",
    "        year = today.year\n",
    "        return  year - self.yearBuilt\n",
    "\n",
    "carOne = Car('Charger',25000,'yellow',2010);\n",
    "carTwo = Car('Rustang',22000,'blue',1998);\n",
    "\n",
    "print(carOne.model)  # \"Charger\"\n",
    "print(carTwo.model) # \"Rustang\"\n",
    "print(carOne.color)  # \"yellow\"\n",
    "print(carTwo.salePrice) # \"22000\"\n",
    "print(carOne.getYears()) # 10\n",
    "print(carTwo.getYears()) # 22"
   ]
  },
  {
   "cell_type": "code",
   "execution_count": 1,
   "metadata": {},
   "outputs": [
    {
     "name": "stderr",
     "output_type": "stream",
     "text": [
      "UsageError: Cell magic `%%JavaScript` not found.\n"
     ]
    }
   ],
   "source": [
    "%%JavaScript\n",
    "// Create a class Rectangle and then a new instance with value 10, 10\n",
    "class Rectangle{\n",
    "    constructor(width, height){\n",
    "        this.width = width;\n",
    "        this.height = height;\n",
    "    }\n",
    "}\n",
    "\n",
    "// return a new instance of Rectangle with same width and height\n",
    "const makeSquare = () => {\n",
    "    return new Rectangle(10, 10);\n",
    "};\n",
    "\n",
    "// Calculate the new instance of Rectangle\n",
    "console.log(makeSquare());"
   ]
  },
  {
   "cell_type": "code",
   "execution_count": null,
   "metadata": {},
   "outputs": [],
   "source": [
    "%%js\n",
    "\n",
    "// class definition (Another simple example)\n",
    "class User {\n",
    "    constructor(first_name, last_name, age){\n",
    "        this.first_name = first_name;\n",
    "        this.last_name = last_name;\n",
    "        this.age = age;\n",
    "    }\n",
    "};\n",
    "\n",
    "const getUser = () => {\n",
    "    return new User(\"Jennifer\", \"Doe\", 18);\n",
    "};\n",
    "\n",
    "//sample usage\n",
    "console.log(getUser());"
   ]
  },
  {
   "cell_type": "markdown",
   "metadata": {},
   "source": [
    "## Methods of Class\n",
    "We have talked above the `constructors` of a class and the `instance` of a class. The `instance` of a class is the object created from it at \"that instance\". The constructors are created with the key words `this` is JS and `self` in Python. These are `properties` of the class. **Methods** are things the class `can do` and created with functions.  \n",
    "\n",
    "Create a User class and two methods. One that gets the full name and the other confirms if they can vote. "
   ]
  },
  {
   "cell_type": "code",
   "execution_count": 2,
   "metadata": {},
   "outputs": [
    {
     "data": {
      "application/javascript": [
       "class User{\n",
       "    constructor(first_name, last_name, age){\n",
       "        this.first_name = first_name;\n",
       "        this.last_name = last_name;\n",
       "        this.age = age;\n",
       "    }\n",
       "    getFullName(){\n",
       "        return `${this.first_name} ${this.last_name}`\n",
       "    }\n",
       "    canVote() {\n",
       "        return this.age >= 18;\n",
       "    }\n",
       "    getVotingMessage(){\n",
       "        if (this.canVote()>=18){\n",
       "            return \"You can vote\"\n",
       "        }else{\n",
       "            return \"You can't vote\"\n",
       "        }\n",
       "    }\n",
       "}\n",
       "\n",
       "\n",
       "const jennifer = new User(\"Jennifer\", \"Doe\", 20);\n",
       "console.log(jennifer.canVote());\n",
       "console.log(jennifer.getVotingMessage());\n"
      ],
      "text/plain": [
       "<IPython.core.display.Javascript object>"
      ]
     },
     "metadata": {},
     "output_type": "display_data"
    }
   ],
   "source": [
    "%%js\n",
    "class User{\n",
    "    constructor(first_name, last_name, age){\n",
    "        this.first_name = first_name;\n",
    "        this.last_name = last_name;\n",
    "        this.age = age;\n",
    "    }\n",
    "    getFullName(){\n",
    "        return `${this.first_name} ${this.last_name}`\n",
    "    }\n",
    "    canVote() {\n",
    "        return this.age >= 18;\n",
    "    }\n",
    "    getVotingMessage(){\n",
    "        if (this.canVote()>=18){\n",
    "            return \"You can vote\"\n",
    "        }else{\n",
    "            return \"You can't vote\"\n",
    "        }\n",
    "    }\n",
    "}\n",
    "\n",
    "\n",
    "const jennifer = new User(\"Jennifer\", \"Doe\", 20);\n",
    "\n",
    "// Methods\n",
    "console.log(jennifer.getFullName());\n",
    "console.log(jennifer.canVote());\n",
    "console.log(jennifer.getVotingMessage());"
   ]
  },
  {
   "cell_type": "code",
   "execution_count": 3,
   "metadata": {},
   "outputs": [
    {
     "data": {
      "text/plain": [
       "'jennifer'"
      ]
     },
     "metadata": {},
     "output_type": "display_data"
    },
    {
     "data": {
      "text/plain": [
       "'Doe'"
      ]
     },
     "metadata": {},
     "output_type": "display_data"
    },
    {
     "data": {
      "text/plain": [
       "25"
      ]
     },
     "metadata": {},
     "output_type": "display_data"
    },
    {
     "data": {
      "text/plain": [
       "'jennifer Doe'"
      ]
     },
     "metadata": {},
     "output_type": "display_data"
    },
    {
     "data": {
      "text/plain": [
       "True"
      ]
     },
     "metadata": {},
     "output_type": "display_data"
    },
    {
     "data": {
      "text/plain": [
       "'You can vote'"
      ]
     },
     "metadata": {},
     "output_type": "display_data"
    }
   ],
   "source": [
    "# Python \n",
    "class User():\n",
    "    def __init__(self, first_name, last_name, age):\n",
    "        self.first_name = first_name\n",
    "        self.last_name = last_name\n",
    "        self.age = age\n",
    "        \n",
    "    def getFullName(self):\n",
    "        return f\"{self.first_name} {self.last_name}\"\n",
    "    \n",
    "    def canVote(self):\n",
    "        return self.age >= 18\n",
    "    \n",
    "    def getVotingMessage(self):\n",
    "        if self.canVote():\n",
    "            return \"You can vote\"\n",
    "        else:\n",
    "            return \"You can't vote\"\n",
    "    \n",
    "jennifer = User(\"jennifer\", \"Doe\", 25)\n",
    "\n",
    "# Properties \n",
    "display(jennifer.first_name)\n",
    "display(jennifer.last_name)\n",
    "display(jennifer.age)\n",
    "\n",
    "# Methods \n",
    "display(jennifer.getFullName())\n",
    "display(jennifer.canVote())\n",
    "display(jennifer.getVotingMessage())"
   ]
  },
  {
   "cell_type": "markdown",
   "metadata": {},
   "source": [
    "## Static Methods "
   ]
  },
  {
   "cell_type": "markdown",
   "metadata": {},
   "source": [
    "### JavaScript \n",
    "**Static methods** are methods that can only be called `directly on the Class` rather than on the class instance. Repeat, a static method cannot be called on an `instance` of a class.\n",
    "\n",
    "Static methods are useful when the result of that method is completely `independent from the instance` of the class. \n",
    "\n",
    "In JavaScript the `static` keyword is used...see below example. "
   ]
  },
  {
   "cell_type": "code",
   "execution_count": null,
   "metadata": {},
   "outputs": [],
   "source": [
    "%%js\n",
    "\n",
    "// note how the static keyword is used\n",
    "class Voting {\n",
    "    constructor(user, vote){\n",
    "        this.user = user;\n",
    "        this.vote = vote;\n",
    "    }\n",
    "\n",
    "    static getMaxCandidates(){\n",
    "        return 3;\n",
    "    }\n",
    "}"
   ]
  },
  {
   "cell_type": "markdown",
   "metadata": {},
   "source": [
    "Below the static method is created called `getVotingAge` and it returns the voting age of 18. It is then called within the `canVote` used to set the voting age. Note, it is `User.getVotingAge`.  Now, we can just update getVotingAge in one spot if it changes making it easier to update code. "
   ]
  },
  {
   "cell_type": "code",
   "execution_count": null,
   "metadata": {},
   "outputs": [],
   "source": [
    "class User{\n",
    "    constructor(first_name, last_name, age){\n",
    "        this.first_name = first_name;\n",
    "        this.last_name = last_name;\n",
    "        this.age = age;\n",
    "    }\n",
    "    static getVotingAge(){\n",
    "        return 18;\n",
    "    }\n",
    "    canVote(){\n",
    "        return this.age >= User.getVotingAge();\n",
    "    }\n",
    "}\n",
    "\n",
    "//sample usage\n",
    "const jennifer = new User(\"Jennifer\", \"Doe\", 20);\n",
    "console.log(User.getVotingAge());\n",
    "console.log(jennifer.canVote());"
   ]
  },
  {
   "cell_type": "markdown",
   "metadata": {},
   "source": [
    "### Python \n",
    "\n",
    "**Instance Method**\n",
    "Instance method receives the instance of the class as the first argument, which by convention is called `self`, and `points to the instance of our class ToyClass`. ***The instance methods gives us control of changing the object as well as the class state.***\n",
    "\n",
    "**Class Method**\n",
    "Class methods are bound to the `class and not to the object` of the class. They can `alter the class state that would apply across all instances` of class but not the object state.\n",
    "\n",
    "\n",
    "**Static Method**\n",
    "A static method is marked with a `@staticmethod` decorator to flag it as static. It does not receive an implicit first argument `(neither self nor cls).` Hence static methods can neither modify the object state nor class state. They are primarily a way to namespace our methods."
   ]
  },
  {
   "cell_type": "code",
   "execution_count": null,
   "metadata": {},
   "outputs": [],
   "source": [
    "class ToyClass:\n",
    "    def instance_method(self):\n",
    "        return 'instance method called', self\n",
    "    \n",
    "    @classmethod\n",
    "    def class_method(cls):\n",
    "        return 'class method called', cls\n",
    "    \n",
    "    @staticmethod\n",
    "    def static_method():\n",
    "        return 'static method called'"
   ]
  },
  {
   "cell_type": "markdown",
   "metadata": {},
   "source": [
    "## Inheritance\n",
    "**JavaScript**\n",
    "* Inheritance allows a class to gain the `same functionality as the parent class`\n",
    "* classical inheritance is when you `extend from a class`, you get all of its methods\n",
    "* prototypical inheritance (the one in JavaScript) allows you to inherit specific functions.\n",
    "* prototypical inheritance is more powerful than classical inheritance in most cases, however it has been tougher for developers to understand\n",
    "* with the `extends keyword`, you can inherit all the methods from the parent\n",
    "* if you need to inherit a specific function, you can still do that by adding to the prototype"
   ]
  },
  {
   "cell_type": "markdown",
   "metadata": {},
   "source": [
    "An Animal can eat(). A cat can eat() and meow(). An animal cannot meow(). Here the `Cat` inherits the ability to eat from the class `Animal`. The `Cat` can meow but the `Animal` is not able to meow."
   ]
  },
  {
   "cell_type": "code",
   "execution_count": 1,
   "metadata": {},
   "outputs": [
    {
     "name": "stderr",
     "output_type": "stream",
     "text": [
      "UsageError: Cell magic `%%JS` not found.\n"
     ]
    }
   ],
   "source": [
    "%%JS\n",
    "class Animal {\n",
    "    /** @param {string} name */\n",
    "    constructor(name){\n",
    "        this.name = name;\n",
    "    }\n",
    "\n",
    "    eat(){\n",
    "        return \"eats food\";\n",
    "    }\n",
    "}\n",
    "\n",
    "class Cat extends Animal{\n",
    "    meow(){\n",
    "        return \"meow\";\n",
    "    }\n",
    "}\n",
    "\n",
    "const tom = new Cat(\"Tom\");\n",
    "element.text(tom.eat());\n",
    "element.text(tom.meow());"
   ]
  },
  {
   "cell_type": "markdown",
   "metadata": {},
   "source": [
    "Like JS Python can `extend` a class.  The class that inherits will have the name of the class that it is inheriting from placed within the `opening ( )`.  \n",
    "* class Cat(Animal)"
   ]
  },
  {
   "cell_type": "code",
   "execution_count": 9,
   "metadata": {},
   "outputs": [
    {
     "name": "stdout",
     "output_type": "stream",
     "text": [
      "Ann\n",
      "eats food\n",
      "Tom\n",
      "eats food\n",
      "meow\n"
     ]
    }
   ],
   "source": [
    "# Python \n",
    "class Animal():\n",
    "    def __init__(self, name):\n",
    "        self.name = name\n",
    "        \n",
    "    def eat(self):\n",
    "        return \"eats food\"\n",
    "    \n",
    "class Cat(Animal):\n",
    "    def meow(self):\n",
    "        return \"meow\"\n",
    "        \n",
    "    \n",
    "ann = Animal(\"Ann\") \n",
    "print(ann.name) # The Animal has a name\n",
    "print(ann.eat()) # And can eat food\n",
    "\n",
    "\n",
    "the_cat = Cat(\"Tom\")\n",
    "print(the_cat.name) # The Cat has a name that was inherited from Animal\n",
    "print(the_cat.eat()) # cna eat which is inherited from Animal \n",
    "print(the_cat.meow()) # It can meow\n",
    "\n",
    "# print(ann.meow()) if this line is run it will cause an attribute error \n",
    "# 'Animal' object has not attribute 'meow'"
   ]
  },
  {
   "cell_type": "code",
   "execution_count": null,
   "metadata": {},
   "outputs": [],
   "source": []
  },
  {
   "cell_type": "code",
   "execution_count": null,
   "metadata": {},
   "outputs": [],
   "source": []
  },
  {
   "cell_type": "code",
   "execution_count": null,
   "metadata": {},
   "outputs": [],
   "source": []
  },
  {
   "cell_type": "code",
   "execution_count": null,
   "metadata": {},
   "outputs": [],
   "source": []
  }
 ],
 "metadata": {
  "hide_input": false,
  "kernelspec": {
   "display_name": "Python 3.7.7 64-bit",
   "language": "python",
   "name": "python37764bit1d134cf81e544cb99a618dd9a5cd6a6b"
  },
  "language_info": {
   "codemirror_mode": {
    "name": "ipython",
    "version": 3
   },
   "file_extension": ".py",
   "mimetype": "text/x-python",
   "name": "python",
   "nbconvert_exporter": "python",
   "pygments_lexer": "ipython3",
   "version": "3.7.7"
  },
  "latex_envs": {
   "LaTeX_envs_menu_present": true,
   "autoclose": false,
   "autocomplete": true,
   "bibliofile": "biblio.bib",
   "cite_by": "apalike",
   "current_citInitial": 1,
   "eqLabelWithNumbers": true,
   "eqNumInitial": 1,
   "hotkeys": {
    "equation": "Ctrl-E",
    "itemize": "Ctrl-I"
   },
   "labels_anchors": false,
   "latex_user_defs": false,
   "report_style_numbering": false,
   "user_envs_cfg": false
  },
  "toc": {
   "base_numbering": 1,
   "nav_menu": {},
   "number_sections": true,
   "sideBar": true,
   "skip_h1_title": false,
   "title_cell": "Table of Contents",
   "title_sidebar": "Contents",
   "toc_cell": false,
   "toc_position": {},
   "toc_section_display": true,
   "toc_window_display": false
  },
  "varInspector": {
   "cols": {
    "lenName": 16,
    "lenType": 16,
    "lenVar": 40
   },
   "kernels_config": {
    "python": {
     "delete_cmd_postfix": "",
     "delete_cmd_prefix": "del ",
     "library": "var_list.py",
     "varRefreshCmd": "print(var_dic_list())"
    },
    "r": {
     "delete_cmd_postfix": ") ",
     "delete_cmd_prefix": "rm(",
     "library": "var_list.r",
     "varRefreshCmd": "cat(var_dic_list()) "
    }
   },
   "types_to_exclude": [
    "module",
    "function",
    "builtin_function_or_method",
    "instance",
    "_Feature"
   ],
   "window_display": false
  }
 },
 "nbformat": 4,
 "nbformat_minor": 4
}
