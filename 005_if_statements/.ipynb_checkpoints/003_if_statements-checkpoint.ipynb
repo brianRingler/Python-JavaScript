{
 "cells": [
  {
   "cell_type": "markdown",
   "metadata": {},
   "source": [
    "***\n",
    "# If and Boolean Logic \n",
    "***\n",
    "\n",
    "* If...else\n",
    "* If...else if...else\n",
    "* JavaScript Switches"
   ]
  },
  {
   "cell_type": "markdown",
   "metadata": {},
   "source": [
    "## Simple If \n",
    "Using Python and JavaScript we will create a simple function that returns true if `age` is greater than or equal to 25 and false, otherwise. Note, that with JS the keywords `true` and `false` are not capitalized. "
   ]
  },
  {
   "cell_type": "code",
   "execution_count": 9,
   "metadata": {},
   "outputs": [
    {
     "name": "stdout",
     "output_type": "stream",
     "text": [
      "True\n"
     ]
    }
   ],
   "source": [
    "def check_age(age):\n",
    "    if age >= 25:\n",
    "        return True\n",
    "    else:\n",
    "        return False\n",
    "print(check_age(35))"
   ]
  },
  {
   "cell_type": "code",
   "execution_count": 17,
   "metadata": {},
   "outputs": [
    {
     "data": {
      "application/javascript": [
       "function checkAge(age){\n",
       "    if (age >= 25){\n",
       "        return true;\n",
       "    }else{\n",
       "        return false;\n",
       "    }\n",
       "}\n",
       "\n",
       "element.text(checkAge(35))\n"
      ],
      "text/plain": [
       "<IPython.core.display.Javascript object>"
      ]
     },
     "metadata": {},
     "output_type": "display_data"
    }
   ],
   "source": [
    "%%js\n",
    "function checkAge(age){\n",
    "    if (age >= 25){\n",
    "        return true;\n",
    "    }else{\n",
    "        return false;\n",
    "    }\n",
    "}\n",
    "\n",
    "element.text(checkAge(35))"
   ]
  },
  {
   "cell_type": "markdown",
   "metadata": {},
   "source": [
    "Again, notice the differnce in True/False between Python and JavaScript.  Now, how can we make this simple if statement less redundant?  We can do this by simply removing the **else** portion of the  `if statement`.  With JS an `if` is not required...within the return statement we simply add the condition.   "
   ]
  },
  {
   "cell_type": "code",
   "execution_count": 11,
   "metadata": {},
   "outputs": [
    {
     "name": "stdout",
     "output_type": "stream",
     "text": [
      "True\n"
     ]
    }
   ],
   "source": [
    "def check_age(age):\n",
    "    if age >= 25:\n",
    "        return True\n",
    "print(check_age(35))"
   ]
  },
  {
   "cell_type": "code",
   "execution_count": 1,
   "metadata": {},
   "outputs": [
    {
     "data": {
      "application/javascript": [
       "// check age and if greater than 25 return true\n",
       "function checkAge(age){\n",
       "    return age >= 25;\n",
       "}\n",
       "\n",
       "element.text(checkAge(15))\n"
      ],
      "text/plain": [
       "<IPython.core.display.Javascript object>"
      ]
     },
     "metadata": {},
     "output_type": "display_data"
    }
   ],
   "source": [
    "%%js\n",
    "// check age and if greater than 25 return true\n",
    "function checkAge(age){\n",
    "    return age >= 25;\n",
    "}\n",
    "\n",
    "element.text(checkAge(15))"
   ]
  },
  {
   "cell_type": "markdown",
   "metadata": {},
   "source": [
    "# JavaScript Switche Statement \n",
    "JavaScript has something called Switches that are like and `if...else if...else` but are probably better for long scenarios. They are just like VBA `Select Case`.  The example below returns the day of the week.\n",
    "\n",
    "The switch statement `evaluates an expression`, matching the expression's value to a `case clause`, and executes statements associated with that case, as well as statements in cases that follow the matching case.\n",
    "\n",
    "`Break` is used to terminate the switch when the match is found. "
   ]
  },
  {
   "cell_type": "code",
   "execution_count": 4,
   "metadata": {},
   "outputs": [
    {
     "data": {
      "application/javascript": [
       "\n",
       "let day;\n",
       "switch(new Date().getDay()){\n",
       "    case 0:\n",
       "        day = \"Sunday\";\n",
       "        break;\n",
       "    case 1:\n",
       "        day = \"Monday\";\n",
       "        break;\n",
       "    case 2:\n",
       "        day = \"Tuesday\";\n",
       "        break;\n",
       "    case 3:\n",
       "        day = \"Wednesday\";\n",
       "        break;\n",
       "    case 4:\n",
       "        day = \"Thursday\";\n",
       "        break;\n",
       "    case 5:\n",
       "        day = \"Friday\";\n",
       "        break;\n",
       "    case 6:\n",
       "        day = \"Saturday\";\n",
       "        break;\n",
       "}\n",
       "\n",
       "element.text(`Today is ${day}`)\n"
      ],
      "text/plain": [
       "<IPython.core.display.Javascript object>"
      ]
     },
     "metadata": {},
     "output_type": "display_data"
    }
   ],
   "source": [
    "%%js\n",
    "\n",
    "let day;\n",
    "switch(new Date().getDay()){\n",
    "    case 0:\n",
    "        day = \"Sunday\";\n",
    "        break;\n",
    "    case 1:\n",
    "        day = \"Monday\";\n",
    "        break;\n",
    "    case 2:\n",
    "        day = \"Tuesday\";\n",
    "        break;\n",
    "    case 3:\n",
    "        day = \"Wednesday\";\n",
    "        break;\n",
    "    case 4:\n",
    "        day = \"Thursday\";\n",
    "        break;\n",
    "    case 5:\n",
    "        day = \"Friday\";\n",
    "        break;\n",
    "    case 6:\n",
    "        day = \"Saturday\";\n",
    "        break;\n",
    "}\n",
    "\n",
    "element.text(`Today is ${day}`)"
   ]
  },
  {
   "cell_type": "markdown",
   "metadata": {},
   "source": [
    "# Refactoring If Conditions\n",
    "Below is an example of function that returns an update based on the status (order.type).  If `order.type` is `en route` then the function returns: `Driver is cycling your way`.  Can this be cleaner? "
   ]
  },
  {
   "cell_type": "code",
   "execution_count": null,
   "metadata": {},
   "outputs": [],
   "source": [
    "%%js\n",
    "function getPushMessage(order) {\n",
    "    if (order.type === \"received\") {\n",
    "        return \"Restaurant started working on your order.\";\n",
    "    } else if (order.type === \"prepared\") {\n",
    "        return \"Driver is picking up your food.\"\n",
    "    } else if (order.type === \"en_route\") {\n",
    "        return \"Driver is cycling your way!\";\n",
    "    } else if (order.type === \"arrived\") {\n",
    "        return \"Enjoy your food!\";\n",
    "    }\n",
    "};"
   ]
  },
  {
   "cell_type": "markdown",
   "metadata": {},
   "source": [
    "##  Refactoring getPushMessage"
   ]
  },
  {
   "cell_type": "code",
   "execution_count": 6,
   "metadata": {},
   "outputs": [
    {
     "data": {
      "application/javascript": [
       "function getPushMessage(order) {\n",
       "    const messages = {\n",
       "        \"received\": \"Restaurant started working on your order.\",\n",
       "        \"prepared\": \"Driver is picking up your food.\",\n",
       "        \"en_route\": \"Driver is cycling your way!\",\n",
       "        \"arrived\": \"Enjoy your food!\"\n",
       "    };\n",
       "\n",
       "    return messages[order.type];\n",
       "}\n",
       "\n",
       "element.text(getPushMessage(\"received\"))\n"
      ],
      "text/plain": [
       "<IPython.core.display.Javascript object>"
      ]
     },
     "metadata": {},
     "output_type": "display_data"
    }
   ],
   "source": [
    "%%js\n",
    "function getPushMessage(order) {\n",
    "    const messages = {\n",
    "        \"received\": \"Restaurant started working on your order.\",\n",
    "        \"prepared\": \"Driver is picking up your food.\",\n",
    "        \"en_route\": \"Driver is cycling your way!\",\n",
    "        \"arrived\": \"Enjoy your food!\"\n",
    "    };\n",
    "\n",
    "    return messages[order.type];\n",
    "}\n",
    "\n",
    "element.text(getPushMessage(\"received\"))"
   ]
  },
  {
   "cell_type": "code",
   "execution_count": null,
   "metadata": {},
   "outputs": [],
   "source": []
  },
  {
   "cell_type": "code",
   "execution_count": null,
   "metadata": {},
   "outputs": [],
   "source": []
  },
  {
   "cell_type": "markdown",
   "metadata": {},
   "source": []
  }
 ],
 "metadata": {
  "hide_input": false,
  "kernelspec": {
   "display_name": "Python 3",
   "language": "python",
   "name": "python3"
  },
  "language_info": {
   "codemirror_mode": {
    "name": "ipython",
    "version": 3
   },
   "file_extension": ".py",
   "mimetype": "text/x-python",
   "name": "python",
   "nbconvert_exporter": "python",
   "pygments_lexer": "ipython3",
   "version": "3.7.7"
  },
  "latex_envs": {
   "LaTeX_envs_menu_present": true,
   "autoclose": false,
   "autocomplete": true,
   "bibliofile": "biblio.bib",
   "cite_by": "apalike",
   "current_citInitial": 1,
   "eqLabelWithNumbers": true,
   "eqNumInitial": 1,
   "hotkeys": {
    "equation": "Ctrl-E",
    "itemize": "Ctrl-I"
   },
   "labels_anchors": false,
   "latex_user_defs": false,
   "report_style_numbering": false,
   "user_envs_cfg": false
  },
  "toc": {
   "base_numbering": 1,
   "nav_menu": {},
   "number_sections": true,
   "sideBar": true,
   "skip_h1_title": false,
   "title_cell": "Table of Contents",
   "title_sidebar": "Contents",
   "toc_cell": false,
   "toc_position": {},
   "toc_section_display": true,
   "toc_window_display": false
  },
  "varInspector": {
   "cols": {
    "lenName": 16,
    "lenType": 16,
    "lenVar": 40
   },
   "kernels_config": {
    "python": {
     "delete_cmd_postfix": "",
     "delete_cmd_prefix": "del ",
     "library": "var_list.py",
     "varRefreshCmd": "print(var_dic_list())"
    },
    "r": {
     "delete_cmd_postfix": ") ",
     "delete_cmd_prefix": "rm(",
     "library": "var_list.r",
     "varRefreshCmd": "cat(var_dic_list()) "
    }
   },
   "types_to_exclude": [
    "module",
    "function",
    "builtin_function_or_method",
    "instance",
    "_Feature"
   ],
   "window_display": false
  }
 },
 "nbformat": 4,
 "nbformat_minor": 4
}
