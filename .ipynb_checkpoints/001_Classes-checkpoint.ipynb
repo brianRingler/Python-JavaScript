{
 "cells": [
  {
   "cell_type": "markdown",
   "metadata": {},
   "source": [
    "***\n",
    "# Python and JavaScript \n",
    "***\n",
    "In this notebook we will compare the Python **`class`**"
   ]
  },
  {
   "cell_type": "markdown",
   "metadata": {},
   "source": [
    "## JavaScript "
   ]
  },
  {
   "cell_type": "code",
   "execution_count": 17,
   "metadata": {},
   "outputs": [
    {
     "data": {
      "application/javascript": [
       "// JavaScript Constructor\n",
       "function Car(model, salePrice, color, yearBuilt){\n",
       "    this.model = model;\n",
       "    this.salePrice = salePrice;\n",
       "    this.color = color;\n",
       "    this.yearBuilt = yearBuilt\n",
       "    this.getYears =  function() { \n",
       "        const today = new Date();\n",
       "        const carAge = today.getFullYear() - this.yearBuilt;\n",
       "        return carAge;\n",
       " }\n",
       "}\n",
       "\n",
       "//Create Objects\n",
       "const carOne = new Car('Charger',25000,'yellow',2010);\n",
       "const carTwo = new Car('Rustang',22000,'blue',1998);\n",
       "\n",
       "//Log out objects properties and methods\n",
       "element.text(carOne.model);  // \"Charger\"\n",
       "element.text(carTwo.model); // \"Rustang\"\n",
       "element.text(carOne.color);  // \"yellow\"\n",
       "element.text(carTwo.salePrice); // \"22000\"\n",
       "element.text(carOne.getYears()); // 10\n",
       "element.text(carTwo.getYears()); // 22\n"
      ],
      "text/plain": [
       "<IPython.core.display.Javascript object>"
      ]
     },
     "metadata": {},
     "output_type": "display_data"
    }
   ],
   "source": [
    "%%js\n",
    "// JavaScript Constructor\n",
    "function Car(model, salePrice, color, yearBuilt){\n",
    "    this.model = model;\n",
    "    this.salePrice = salePrice;\n",
    "    this.color = color;\n",
    "    this.yearBuilt = yearBuilt\n",
    "    this.getYears =  function() { \n",
    "        const today = new Date();\n",
    "        const carAge = today.getFullYear() - this.yearBuilt;\n",
    "        return carAge;\n",
    " }\n",
    "}\n",
    "\n",
    "//Create Objects\n",
    "const carOne = new Car('Charger',25000,'yellow',2010);\n",
    "const carTwo = new Car('Rustang',22000,'blue',1998);\n",
    "\n",
    "//Log out objects properties and methods\n",
    "element.text(carOne.model);  // \"Charger\"\n",
    "element.text(carTwo.model); // \"Rustang\"\n",
    "element.text(carOne.color);  // \"yellow\"\n",
    "element.text(carTwo.salePrice); // \"22000\"\n",
    "element.text(carOne.getYears()); // 10\n",
    "element.text(carTwo.getYears()); // 22"
   ]
  },
  {
   "cell_type": "markdown",
   "metadata": {},
   "source": [
    "# Comparing JS and Python Class\n",
    "With the release of `ES6` JaveScript had a new feature <span style='color:green'><strong>class</strong></span> that is very similar to the Python <span style='color:green'><strong>class</strong></span>. Here we have created a class called <span style='color:blue'><strong>Car</strong></span> in JS and Python. The `Car` class has 4 `attributes` and 1 `method()`.  Lets compare the similarities and differences below. \n",
    "\n",
    "**Declaring the class**\n",
    "Both are similar in that `class` is a keyword and the name of the class is capitalized. However, this is not required and a class name in either language could be changed and there would not be an error. After the class name is declared Python classes have open and closed parentheses followed by the classic colon **`():`**.  JS simply has the classic open curly bracket **`{`**.  Note: Python classes can inherit from other classes by passing the another class name between the parentheses, [About Python Class Inheritance](https://www.w3schools.com/python/python_inheritance.asp).\n",
    "\n",
    "\n",
    "**Declaring Attributes of class**\n",
    "Next, both languages declare the attributes and for the most part they are identical. JS uses the key word `constructor` and Python creates a function with its key word `def` followed by a key word `__init__`. \n",
    "* def __init__(self):\n",
    "* constructor() {\n",
    "\n",
    "\n",
    "\n"
   ]
  },
  {
   "cell_type": "markdown",
   "metadata": {},
   "source": [
    "## JavaScript Class `ES6`\n",
    "Here we have created a JavaScript <span style='color:green'><em>class</em></span> called <span style='color:blue'><em>Car</em></span>. "
   ]
  },
  {
   "cell_type": "code",
   "execution_count": 14,
   "metadata": {},
   "outputs": [
    {
     "data": {
      "application/javascript": [
       "// JavaScript ES6 Classes \n",
       "class Car {\n",
       "    constructor(model, salePrice, color, yearBuilt){\n",
       "        this.model = model;\n",
       "        this.salePrice = salePrice;\n",
       "        this.color = color;\n",
       "        this.yearBuilt = yearBuilt\n",
       "    }\n",
       "    getYears(){ \n",
       "        const today = new Date();\n",
       "        const carAge = today.getFullYear() - this.yearBuilt;\n",
       "        return carAge;\n",
       "    }\n",
       "}\n",
       "\n",
       "//Create Objects\n",
       "const carOne = new Car('Charger',25000,'yellow',2010);\n",
       "const carTwo = new Car('Rustang',22000,'blue',1998);\n",
       "\n",
       "//Log out objects properties and methods\n",
       "element.text(carOne.model);  // \"Charger\"\n",
       "element.text(carTwo.model); // \"Rustang\"\n",
       "element.text(carOne.color);  // \"yellow\"\n",
       "element.text(carTwo.salePrice); // \"22000\"\n",
       "element.text(carOne.getYears()); // 10\n",
       "element.text(carTwo.getYears()); // 22\n"
      ],
      "text/plain": [
       "<IPython.core.display.Javascript object>"
      ]
     },
     "metadata": {},
     "output_type": "display_data"
    }
   ],
   "source": [
    "%%js\n",
    "// JavaScript ES6 Classes \n",
    "class Car {\n",
    "    constructor(model, salePrice, color, yearBuilt){\n",
    "        this.model = model;\n",
    "        this.salePrice = salePrice;\n",
    "        this.color = color;\n",
    "        this.yearBuilt = yearBuilt\n",
    "    }\n",
    "    getYears(){ \n",
    "        const today = new Date();\n",
    "        const carAge = today.getFullYear() - this.yearBuilt;\n",
    "        return carAge;\n",
    "    }\n",
    "}\n",
    "\n",
    "//Create Objects\n",
    "const carOne = new Car('Charger',25000,'yellow',2010);\n",
    "const carTwo = new Car('Rustang',22000,'blue',1998);\n",
    "\n",
    "//Log out objects properties and methods\n",
    "element.text(carOne.model);  // \"Charger\"\n",
    "element.text(carTwo.model); // \"Rustang\"\n",
    "element.text(carOne.color);  // \"yellow\"\n",
    "element.text(carTwo.salePrice); // \"22000\"\n",
    "element.text(carOne.getYears()); // 10\n",
    "element.text(carTwo.getYears()); // 22"
   ]
  },
  {
   "cell_type": "markdown",
   "metadata": {},
   "source": [
    "## Python Class\n",
    "Here we have created a Python <span style='color:green'><em>class</em></span> called <span style='color:blue'><em>Car</em></span>. "
   ]
  },
  {
   "cell_type": "code",
   "execution_count": 16,
   "metadata": {},
   "outputs": [
    {
     "name": "stdout",
     "output_type": "stream",
     "text": [
      "Charger\n",
      "Rustang\n",
      "yellow\n",
      "22000\n",
      "10\n",
      "22\n"
     ]
    }
   ],
   "source": [
    "from datetime import datetime\n",
    "\n",
    "class Car():\n",
    "    def __init__(self, model, salePrice, color, yearBuilt):\n",
    "        self.model = model\n",
    "        self.salePrice = salePrice\n",
    "        self.color = color\n",
    "        self.yearBuilt = yearBuilt\n",
    "    \n",
    "    def getYears(self):\n",
    "        today = datetime.now()\n",
    "        year = today.year\n",
    "        return  year - self.yearBuilt\n",
    "\n",
    "carOne = Car('Charger',25000,'yellow',2010);\n",
    "carTwo = Car('Rustang',22000,'blue',1998);\n",
    "\n",
    "print(carOne.model)  # \"Charger\"\n",
    "print(carTwo.model) # \"Rustang\"\n",
    "print(carOne.color)  # \"yellow\"\n",
    "print(carTwo.salePrice) # \"22000\"\n",
    "print(carOne.getYears()) # 10\n",
    "print(carTwo.getYears()) # 22"
   ]
  },
  {
   "cell_type": "code",
   "execution_count": null,
   "metadata": {},
   "outputs": [],
   "source": []
  },
  {
   "cell_type": "code",
   "execution_count": null,
   "metadata": {},
   "outputs": [],
   "source": []
  },
  {
   "cell_type": "code",
   "execution_count": null,
   "metadata": {},
   "outputs": [],
   "source": []
  },
  {
   "cell_type": "code",
   "execution_count": null,
   "metadata": {},
   "outputs": [],
   "source": []
  },
  {
   "cell_type": "code",
   "execution_count": null,
   "metadata": {},
   "outputs": [],
   "source": []
  }
 ],
 "metadata": {
  "hide_input": false,
  "kernelspec": {
   "display_name": "Python 3",
   "language": "python",
   "name": "python3"
  },
  "language_info": {
   "codemirror_mode": {
    "name": "ipython",
    "version": 3
   },
   "file_extension": ".py",
   "mimetype": "text/x-python",
   "name": "python",
   "nbconvert_exporter": "python",
   "pygments_lexer": "ipython3",
   "version": "3.7.7"
  },
  "latex_envs": {
   "LaTeX_envs_menu_present": true,
   "autoclose": false,
   "autocomplete": true,
   "bibliofile": "biblio.bib",
   "cite_by": "apalike",
   "current_citInitial": 1,
   "eqLabelWithNumbers": true,
   "eqNumInitial": 1,
   "hotkeys": {
    "equation": "Ctrl-E",
    "itemize": "Ctrl-I"
   },
   "labels_anchors": false,
   "latex_user_defs": false,
   "report_style_numbering": false,
   "user_envs_cfg": false
  },
  "toc": {
   "base_numbering": 1,
   "nav_menu": {},
   "number_sections": true,
   "sideBar": true,
   "skip_h1_title": false,
   "title_cell": "Table of Contents",
   "title_sidebar": "Contents",
   "toc_cell": false,
   "toc_position": {},
   "toc_section_display": true,
   "toc_window_display": false
  },
  "varInspector": {
   "cols": {
    "lenName": 16,
    "lenType": 16,
    "lenVar": 40
   },
   "kernels_config": {
    "python": {
     "delete_cmd_postfix": "",
     "delete_cmd_prefix": "del ",
     "library": "var_list.py",
     "varRefreshCmd": "print(var_dic_list())"
    },
    "r": {
     "delete_cmd_postfix": ") ",
     "delete_cmd_prefix": "rm(",
     "library": "var_list.r",
     "varRefreshCmd": "cat(var_dic_list()) "
    }
   },
   "types_to_exclude": [
    "module",
    "function",
    "builtin_function_or_method",
    "instance",
    "_Feature"
   ],
   "window_display": false
  }
 },
 "nbformat": 4,
 "nbformat_minor": 4
}
