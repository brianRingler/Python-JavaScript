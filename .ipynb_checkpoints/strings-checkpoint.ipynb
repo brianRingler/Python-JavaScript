{
 "cells": [
  {
   "cell_type": "markdown",
   "metadata": {},
   "source": [
    "***\n",
    "# Python and JavaScript Strings \n",
    "***\n",
    "In this review we will begin to compare Python and JavaScript strings.  We will review how to slice strings, join strings and use variable names in strings. "
   ]
  },
  {
   "cell_type": "markdown",
   "metadata": {},
   "source": [
    "# Accessing Strings \n",
    "To access a strings in Python might be a little quicker. For the most part we can simply use brackets `[]` with a value or combination of vales and a colon to return the values we need. We can do the same with JavaScript but require the use of a helper function...**`substring(idxStart, idxEnd)`**.\n",
    "\n",
    "We will begin walking through examples of returning values from the string `thebluejays`. Notice, how Python is a little simpler if you want to extract the word `blue`."
   ]
  },
  {
   "cell_type": "code",
   "execution_count": 8,
   "metadata": {},
   "outputs": [
    {
     "data": {
      "application/javascript": [
       "let stringOne = 'thebluejays'\n",
       "element.text(stringOne.substring(0));\n"
      ],
      "text/plain": [
       "<IPython.core.display.Javascript object>"
      ]
     },
     "metadata": {},
     "output_type": "display_data"
    }
   ],
   "source": [
    "%%javascript\n",
    "let stringOne = 'thebluejays'\n",
    "element.text(stringOne.substring(0));"
   ]
  },
  {
   "cell_type": "code",
   "execution_count": 10,
   "metadata": {},
   "outputs": [
    {
     "data": {
      "application/javascript": [
       "let stringOne = 'thebluejays'\n",
       "element.text(stringOne[0]);\n"
      ],
      "text/plain": [
       "<IPython.core.display.Javascript object>"
      ]
     },
     "metadata": {},
     "output_type": "display_data"
    }
   ],
   "source": [
    "%%javascript\n",
    "let stringOne = 'thebluejays'\n",
    "element.text(stringOne[0]);"
   ]
  },
  {
   "cell_type": "code",
   "execution_count": 6,
   "metadata": {},
   "outputs": [
    {
     "data": {
      "application/javascript": [
       "let stringOne = 'thebluejays'\n",
       "element.text(stringOne.substring(3, 7));\n"
      ],
      "text/plain": [
       "<IPython.core.display.Javascript object>"
      ]
     },
     "metadata": {},
     "output_type": "display_data"
    }
   ],
   "source": [
    "%%javascript\n",
    "let stringOne = 'thebluejays'\n",
    "element.text(stringOne.substring(3, 7));"
   ]
  },
  {
   "cell_type": "code",
   "execution_count": 7,
   "metadata": {},
   "outputs": [
    {
     "name": "stdout",
     "output_type": "stream",
     "text": [
      "blue\n"
     ]
    }
   ],
   "source": [
    "string_one = 'thebluejays'\n",
    "print(string_one[3:7])"
   ]
  },
  {
   "cell_type": "markdown",
   "metadata": {},
   "source": [
    "Using a function in JS and Python to return the all the letters of the string `CoolCats` minus the first letter. "
   ]
  },
  {
   "cell_type": "code",
   "execution_count": 27,
   "metadata": {},
   "outputs": [
    {
     "data": {
      "application/javascript": [
       "function getThreeChars(name){\n",
       "    //start from the 2nd character\n",
       "    return name.substring(1,name.length);\n",
       "}\n",
       "element.text(getThreeChars('CoolCats'))\n"
      ],
      "text/plain": [
       "<IPython.core.display.Javascript object>"
      ]
     },
     "metadata": {},
     "output_type": "display_data"
    }
   ],
   "source": [
    "%%js\n",
    "function getThreeChars(name){\n",
    "    //start from the 2nd character\n",
    "    return name.substring(1,name.length);\n",
    "}\n",
    "element.text(getThreeChars('CoolCats'))"
   ]
  },
  {
   "cell_type": "code",
   "execution_count": 17,
   "metadata": {},
   "outputs": [
    {
     "name": "stdout",
     "output_type": "stream",
     "text": [
      "oolCats\n"
     ]
    }
   ],
   "source": [
    "def skip_first(name):\n",
    "    return name[1:len(name)]\n",
    "\n",
    "print(skip_first('CoolCats'))"
   ]
  },
  {
   "cell_type": "markdown",
   "metadata": {},
   "source": [
    "Using a function return the string **`olCat`**."
   ]
  },
  {
   "cell_type": "code",
   "execution_count": 22,
   "metadata": {},
   "outputs": [
    {
     "name": "stdout",
     "output_type": "stream",
     "text": [
      "olCat\n"
     ]
    }
   ],
   "source": [
    "# Python \n",
    "def another(name):\n",
    "    return name[2:7]\n",
    "\n",
    "print(another('CoolCats'))"
   ]
  },
  {
   "cell_type": "code",
   "execution_count": 32,
   "metadata": {},
   "outputs": [
    {
     "data": {
      "application/javascript": [
       "// JavaScript\n",
       "function another(name){\n",
       "    //start from the 2nd character\n",
       "    return name.substring(2,7);\n",
       "}\n",
       "element.text(another('CoolCats'))\n"
      ],
      "text/plain": [
       "<IPython.core.display.Javascript object>"
      ]
     },
     "metadata": {},
     "output_type": "display_data"
    }
   ],
   "source": [
    "%%js\n",
    "// JavaScript\n",
    "function another(name){\n",
    "    //start from the 2nd character\n",
    "    return name.substring(2,7);\n",
    "}\n",
    "element.text(another('CoolCats'))"
   ]
  },
  {
   "cell_type": "markdown",
   "metadata": {},
   "source": [
    "# Joing Strings \n",
    "In Python there are many ways to format and join strings. Here we are going to focus on the a few ways and version in Python 3.x.\n",
    "\n",
    "JavaScript introduced `template stings` with version ES6 and we will focus on that as it is very similar to `f-strings` which was releases in version 3.x of Python. "
   ]
  },
  {
   "cell_type": "code",
   "execution_count": 33,
   "metadata": {},
   "outputs": [
    {
     "name": "stdout",
     "output_type": "stream",
     "text": [
      "Hi, my name is Teddy and I am a programmer who enjoys Python and JS.\n"
     ]
    }
   ],
   "source": [
    "# Join two stings with '+' \n",
    "string_one = \"Hi, my name is Teddy and \"\n",
    "string_two = \"I am a programmer who enjoys Python and JS.\"\n",
    "\n",
    "print(string_one + string_two)"
   ]
  },
  {
   "cell_type": "code",
   "execution_count": 35,
   "metadata": {},
   "outputs": [
    {
     "data": {
      "application/javascript": [
       "// JavaScript\n",
       "const string_one = \"Hi, my name is Teddy and \"\n",
       "const string_two = \"I am a programmer who enjoys Python and JS.\"\n",
       "\n",
       "element.text(string_one + string_two)\n"
      ],
      "text/plain": [
       "<IPython.core.display.Javascript object>"
      ]
     },
     "metadata": {},
     "output_type": "display_data"
    }
   ],
   "source": [
    "%%js\n",
    "// JavaScript\n",
    "const string_one = \"Hi, my name is Teddy and \"\n",
    "const string_two = \"I am a programmer who enjoys Python and JS.\"\n",
    "\n",
    "element.text(string_one + string_two)"
   ]
  },
  {
   "cell_type": "markdown",
   "metadata": {},
   "source": [
    "## f-String and Template Strings\n",
    "**Python**\n",
    "* In python we can add variable to strings an `f` at the start of the string and enclosing the variable in curly brackets. I am still trying to figure out why this is called f-strings.\n",
    "\n",
    "In JS we have to use `backticks` which can be found to the left of the number 1. Then a dollar sign precedes curly brackets that contain the variable. "
   ]
  },
  {
   "cell_type": "code",
   "execution_count": 43,
   "metadata": {},
   "outputs": [
    {
     "name": "stdout",
     "output_type": "stream",
     "text": [
      "Hello, this is 1 way to combine and print a string.\n",
      "Hello, this is  1 way to combine and print a string.\n",
      "Another example of f-strings with PYTHON. Dont forget the f at the start.\n"
     ]
    }
   ],
   "source": [
    "var_one = 0.5 + 0.5\n",
    "var_two = \"Hello, this is \"\n",
    "var_three = \"way to combine and print a string.\"\n",
    "var_four = 'PYTHON'\n",
    "\n",
    "print(\"Hello, this is \" + \"1\" + \" way to combine and print a string.\")\n",
    "\n",
    "# using f-string in Python \n",
    "print(f'{var_two} {int(var_one)} {var_three}')\n",
    "print(f'Another example of f-strings with {var_four}. Dont forget the f at the start.')"
   ]
  },
  {
   "cell_type": "code",
   "execution_count": 46,
   "metadata": {},
   "outputs": [
    {
     "data": {
      "application/javascript": [
       "let var_one = 0.5 + 0.5\n",
       "let var_two = \"Hello, this is \"\n",
       "let var_three = \"way to combine and print a string.\"\n",
       "let var_four = 'JS'\n",
       "\n",
       "element.text(\"Hello, this is \" + \"1\" + \" way to combine and print a string.\")\n"
      ],
      "text/plain": [
       "<IPython.core.display.Javascript object>"
      ]
     },
     "metadata": {},
     "output_type": "display_data"
    }
   ],
   "source": [
    "%%js\n",
    "let var_one = 0.5 + 0.5\n",
    "let var_two = \"Hello, this is \"\n",
    "let var_three = \"way to combine and print a string.\"\n",
    "let var_four = 'JS'\n",
    "\n",
    "element.text(\"Hello, this is \" + \"1\" + \" way to combine and print a string.\")"
   ]
  },
  {
   "cell_type": "code",
   "execution_count": 50,
   "metadata": {},
   "outputs": [
    {
     "data": {
      "application/javascript": [
       "let var_one = 0.5 + 0.5\n",
       "let var_two = \"Hello, this is \"\n",
       "let var_three = \"way to combine and print a string.\"\n",
       "// Tempalte stings with JS\n",
       "element.text(`${var_two} ${var_one} ${var_three}`)\n"
      ],
      "text/plain": [
       "<IPython.core.display.Javascript object>"
      ]
     },
     "metadata": {},
     "output_type": "display_data"
    }
   ],
   "source": [
    "%%js\n",
    "let var_one = 0.5 + 0.5\n",
    "let var_two = \"Hello, this is \"\n",
    "let var_three = \"way to combine and print a string.\"\n",
    "// Tempalte stings with JS\n",
    "element.text(`${var_two} ${var_one} ${var_three}`)"
   ]
  },
  {
   "cell_type": "code",
   "execution_count": 51,
   "metadata": {},
   "outputs": [
    {
     "data": {
      "application/javascript": [
       "// Another example of template stings with JS\n",
       "let var_four = 'JS'\n",
       "element.text(`Another example of tempalte strings with ${var_four}. Dont forget the f at the start.`)\n"
      ],
      "text/plain": [
       "<IPython.core.display.Javascript object>"
      ]
     },
     "metadata": {},
     "output_type": "display_data"
    }
   ],
   "source": [
    "%%js\n",
    "// Another example of template stings with JS\n",
    "let var_four = 'JS'\n",
    "element.text(`Another example of tempalte strings with ${var_four}. Dont forget the f at the start.`)"
   ]
  },
  {
   "cell_type": "code",
   "execution_count": 54,
   "metadata": {},
   "outputs": [
    {
     "data": {
      "application/javascript": [
       "function fullName(firstName, lastName){\n",
       "    return `${firstName}, ${lastName}`\n",
       "}\n",
       "element.text(fullName(\"First\", \"Last\"))\n"
      ],
      "text/plain": [
       "<IPython.core.display.Javascript object>"
      ]
     },
     "metadata": {},
     "output_type": "display_data"
    }
   ],
   "source": [
    "%%js\n",
    "// JS \n",
    "function fullName(firstName, lastName){\n",
    "    return `${firstName}, ${lastName}`\n",
    "}\n",
    "element.text(fullName(\"First\", \"Last\"))"
   ]
  },
  {
   "cell_type": "markdown",
   "metadata": {},
   "source": [
    "# Multiple Lines in JavaScript and Python \n",
    "In JavaScript we can print to multiple lines using template stings. How the code looks is how it will print in the console. We can do the same using the new line character in Python. Using the backslash followed by the letter `n`.  "
   ]
  },
  {
   "cell_type": "code",
   "execution_count": 55,
   "metadata": {},
   "outputs": [
    {
     "data": {
      "application/javascript": [
       "// JS writing to multiple lines \n",
       "function multipleLines(firstName, lastName){\n",
       "    return `Template strings allows you\n",
       "            to print on multiple lines in JS.\n",
       "            This was difficult before ES6\n",
       "            Don't forget the backticks!!`\n",
       "}\n",
       "element.text(multipleLines())\n"
      ],
      "text/plain": [
       "<IPython.core.display.Javascript object>"
      ]
     },
     "metadata": {},
     "output_type": "display_data"
    }
   ],
   "source": [
    "%%js\n",
    "// NOTE: This will print on multiple lines in the cosole. Try it out. \n",
    "function multipleLines(){\n",
    "    return `Template strings allows you\n",
    "            to print on multiple lines in JS.\n",
    "            This was difficult before ES6\n",
    "            Don't forget the backticks!!`\n",
    "}\n",
    "element.text(multipleLines())"
   ]
  },
  {
   "cell_type": "code",
   "execution_count": 58,
   "metadata": {},
   "outputs": [
    {
     "name": "stdout",
     "output_type": "stream",
     "text": [
      "Template strings allows you\n",
      "to print on multiple lines in JS.\n",
      "This was difficult before ES6\n",
      "Don't forget the backticks!!\n"
     ]
    }
   ],
   "source": [
    "# Python using \\n\n",
    "def multipleLines():\n",
    "    return \"Template strings allows you\\nto print on multiple lines in JS.\\nThis was difficult before ES6\\nDon't forget the backticks!!\"\n",
    "\n",
    "print(multipleLines())"
   ]
  },
  {
   "cell_type": "code",
   "execution_count": null,
   "metadata": {},
   "outputs": [],
   "source": []
  },
  {
   "cell_type": "markdown",
   "metadata": {},
   "source": [
    "# Combining Tasks\n",
    "Capitalize the first letter of the following words: 'john', 'GINNY', 'PAt'.  Python is a little simpler because we can use the built-in function `capitalize()`.  "
   ]
  },
  {
   "cell_type": "code",
   "execution_count": 61,
   "metadata": {},
   "outputs": [
    {
     "data": {
      "application/javascript": [
       "function capitalize(word){\n",
       "    let last = word.substring(1,word.length).toLocaleLowerCase()\n",
       "    let first = word[0].toUpperCase()\n",
       "    return `${first}${last}`;\n",
       "}\n",
       "\n",
       "//sample usage\n",
       "element.text(capitalize(\"john\")); //John\n"
      ],
      "text/plain": [
       "<IPython.core.display.Javascript object>"
      ]
     },
     "metadata": {},
     "output_type": "display_data"
    }
   ],
   "source": [
    "%%javascript\n",
    "function capitalize(word){\n",
    "    let last = word.substring(1,word.length).toLocaleLowerCase()\n",
    "    let first = word[0].toUpperCase()\n",
    "    return `${first}${last}`;\n",
    "}\n",
    "\n",
    "//sample usage\n",
    "element.text(capitalize(\"ginny\")); //John"
   ]
  },
  {
   "cell_type": "code",
   "execution_count": 65,
   "metadata": {},
   "outputs": [
    {
     "name": "stdout",
     "output_type": "stream",
     "text": [
      "Ginny\n"
     ]
    }
   ],
   "source": [
    "# Python \n",
    "word = 'GINNY'\n",
    "print(word.capitalize())"
   ]
  },
  {
   "cell_type": "code",
   "execution_count": 66,
   "metadata": {},
   "outputs": [
    {
     "name": "stdout",
     "output_type": "stream",
     "text": [
      "John\n",
      "Ginny\n",
      "Pat\n"
     ]
    }
   ],
   "source": [
    "# wihtout using capitalize\n",
    "def custom(word):\n",
    "    last = word[1:].lower()\n",
    "    first = word[0].upper()\n",
    "    return f'{first}{last}'\n",
    "print(custom('john'))\n",
    "print(custom('GINNY'))\n",
    "print(custom('PAt'))"
   ]
  },
  {
   "cell_type": "code",
   "execution_count": null,
   "metadata": {},
   "outputs": [],
   "source": []
  },
  {
   "cell_type": "code",
   "execution_count": null,
   "metadata": {},
   "outputs": [],
   "source": []
  },
  {
   "cell_type": "code",
   "execution_count": null,
   "metadata": {},
   "outputs": [],
   "source": []
  },
  {
   "cell_type": "code",
   "execution_count": null,
   "metadata": {},
   "outputs": [],
   "source": []
  },
  {
   "cell_type": "code",
   "execution_count": null,
   "metadata": {},
   "outputs": [],
   "source": []
  },
  {
   "cell_type": "code",
   "execution_count": null,
   "metadata": {},
   "outputs": [],
   "source": []
  }
 ],
 "metadata": {
  "hide_input": false,
  "kernelspec": {
   "display_name": "Python 3",
   "language": "python",
   "name": "python3"
  },
  "language_info": {
   "codemirror_mode": {
    "name": "ipython",
    "version": 3
   },
   "file_extension": ".py",
   "mimetype": "text/x-python",
   "name": "python",
   "nbconvert_exporter": "python",
   "pygments_lexer": "ipython3",
   "version": "3.7.7"
  },
  "latex_envs": {
   "LaTeX_envs_menu_present": true,
   "autoclose": false,
   "autocomplete": true,
   "bibliofile": "biblio.bib",
   "cite_by": "apalike",
   "current_citInitial": 1,
   "eqLabelWithNumbers": true,
   "eqNumInitial": 1,
   "hotkeys": {
    "equation": "Ctrl-E",
    "itemize": "Ctrl-I"
   },
   "labels_anchors": false,
   "latex_user_defs": false,
   "report_style_numbering": false,
   "user_envs_cfg": false
  },
  "toc": {
   "base_numbering": 1,
   "nav_menu": {},
   "number_sections": true,
   "sideBar": true,
   "skip_h1_title": false,
   "title_cell": "Table of Contents",
   "title_sidebar": "Contents",
   "toc_cell": false,
   "toc_position": {},
   "toc_section_display": true,
   "toc_window_display": false
  },
  "varInspector": {
   "cols": {
    "lenName": 16,
    "lenType": 16,
    "lenVar": 40
   },
   "kernels_config": {
    "python": {
     "delete_cmd_postfix": "",
     "delete_cmd_prefix": "del ",
     "library": "var_list.py",
     "varRefreshCmd": "print(var_dic_list())"
    },
    "r": {
     "delete_cmd_postfix": ") ",
     "delete_cmd_prefix": "rm(",
     "library": "var_list.r",
     "varRefreshCmd": "cat(var_dic_list()) "
    }
   },
   "types_to_exclude": [
    "module",
    "function",
    "builtin_function_or_method",
    "instance",
    "_Feature"
   ],
   "window_display": false
  }
 },
 "nbformat": 4,
 "nbformat_minor": 4
}
