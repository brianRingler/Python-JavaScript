{
 "cells": [
  {
   "cell_type": "markdown",
   "metadata": {},
   "source": [
    "***\n",
    "# Functions \n",
    "***\n",
    "Functions are an important part of programming and truly help with keeping code readable and making it easy to quickly reuse in other modules.  \n",
    "\n",
    "**JavaScript**\n",
    "* In JS a function is defined with the keyword `function`\n",
    "* A function does not have to have a name `anonymous function`\n",
    "* The parameters listed between the (param1, param2)\n",
    "* Default parameters can be passed\n",
    "\n",
    "**Python**\n",
    "* In Python a function is defined with the keyword `def`\n",
    "* It must have a name and convention is to be lowercase\n",
    "* The parameters listed between the (param1, param2)\n",
    "* Default parameters can be passed"
   ]
  },
  {
   "cell_type": "markdown",
   "metadata": {},
   "source": [
    "# Simple Function \n",
    "Here we create two simple functions that do not have any parameters and return a string. Note, in Python the function must be created before you call it. For example, if you try an run `hello_function` for it is defined you will receive an error.  \n",
    "\n",
    "This is not the case with JS. **`Hoisting`** is JavaScript's default behavior of moving declarations to the top of the current scope. Hoisting applies to variable declarations and to function declarations. Because of this, JavaScript functions can be called before they are declared:"
   ]
  },
  {
   "cell_type": "code",
   "execution_count": 1,
   "metadata": {},
   "outputs": [
    {
     "name": "stdout",
     "output_type": "stream",
     "text": [
      "I am a Python functions\n"
     ]
    }
   ],
   "source": [
    "# A simple Python function \n",
    "def hello_function():\n",
    "    return 'I am a Python functions'\n",
    "\n",
    "print(hello_function())"
   ]
  },
  {
   "cell_type": "code",
   "execution_count": 1,
   "metadata": {},
   "outputs": [
    {
     "data": {
      "application/javascript": [
       "// A simple JS function\n",
       "function helloFunction(){\n",
       "    return 'I am a JS function'\n",
       "}\n",
       "\n",
       "element.text(helloFunction())\n"
      ],
      "text/plain": [
       "<IPython.core.display.Javascript object>"
      ]
     },
     "metadata": {},
     "output_type": "display_data"
    }
   ],
   "source": [
    "%%js\n",
    "// A simple JS function\n",
    "function helloFunction(){\n",
    "    return 'I am a JS function'\n",
    "}\n",
    "\n",
    "element.text(helloFunction())"
   ]
  },
  {
   "cell_type": "markdown",
   "metadata": {},
   "source": [
    "# Passing Parameters \n",
    "Here we are going to return the sum of two values: val1 and val2. When we call the function we pass two number values. If we do not pass two values Python raises the error: \n",
    "> TypeError: adding() missing 1 required positional argument: 'val2'\n",
    "\n",
    "Try running the Python function with only one value. Then try running the JS function with one value. Notice how it returns the value `NaN`. Your code will run and execute but probably not the results you want.  Basically, the error makes it easier to catch your mistakes...JS will hide them and it makes things a little more difficult. "
   ]
  },
  {
   "cell_type": "code",
   "execution_count": 8,
   "metadata": {},
   "outputs": [
    {
     "name": "stdout",
     "output_type": "stream",
     "text": [
      "20\n"
     ]
    }
   ],
   "source": [
    "# Simple addition \n",
    "def adding(val1, val2):\n",
    "    return val1 + val2\n",
    "\n",
    "# call the function  \n",
    "print(adding(10, 10))"
   ]
  },
  {
   "cell_type": "code",
   "execution_count": 2,
   "metadata": {},
   "outputs": [
    {
     "data": {
      "application/javascript": [
       "function adding(val1, val2){\n",
       "    return val1 + val2\n",
       "}\n",
       "\n",
       "element.text(adding(100,200))\n"
      ],
      "text/plain": [
       "<IPython.core.display.Javascript object>"
      ]
     },
     "metadata": {},
     "output_type": "display_data"
    }
   ],
   "source": [
    "%%js\n",
    "function adding(val1, val2){\n",
    "    return val1 + val2\n",
    "}\n",
    "\n",
    "element.text(adding(100,200))"
   ]
  },
  {
   "cell_type": "markdown",
   "metadata": {},
   "source": [
    "# Passing Parameters with Defaults \n",
    "Here we have created the same functions as above and called them but only passed one value. However, this time they both return a value. This is because we provide a default value of 0 to each parameter.  If the function is run without values 0 is returned and if only one value is provided then it adds zero to that value. "
   ]
  },
  {
   "cell_type": "code",
   "execution_count": 14,
   "metadata": {},
   "outputs": [
    {
     "name": "stdout",
     "output_type": "stream",
     "text": [
      "45\n"
     ]
    }
   ],
   "source": [
    "# with defaults \n",
    "def adding(val1 = 0, val2 = 0):\n",
    "    return val1 + val2\n",
    "\n",
    "# call the function  \n",
    "print(adding(45))"
   ]
  },
  {
   "cell_type": "code",
   "execution_count": 9,
   "metadata": {},
   "outputs": [
    {
     "data": {
      "application/javascript": [
       "// with defaults \n",
       "function adding(val1 = 0, val2 = 0){\n",
       "    return val1 + val2\n",
       "}\n",
       "\n",
       "console.log(adding(100, 200))\n"
      ],
      "text/plain": [
       "<IPython.core.display.Javascript object>"
      ]
     },
     "metadata": {},
     "output_type": "display_data"
    }
   ],
   "source": [
    "%%js\n",
    "// with defaults \n",
    "function adding(val1 = 0, val2 = 0){\n",
    "    return val1 + val2\n",
    "}\n",
    "\n",
    "element.text(adding(100, 200))"
   ]
  },
  {
   "cell_type": "markdown",
   "metadata": {},
   "source": [
    "**NOTE** Try adding 3 values to the Python function and the same to the JS function. Notice how Python returns and error and JS returns the sum of the first two values minus the last. JS allows for you to pass as many values and just ignores the other values. This can cause some issues with expected results of the code. I am a fan of the Python straight forward error message. "
   ]
  },
  {
   "cell_type": "markdown",
   "metadata": {},
   "source": [
    "# `*args` and`**kwrgs` \n",
    "Python allows the use of `*args` and `**kwargs` in functions and allows you to pass these in your functions.  They simply stand for **arguments** and **key word arguments**."
   ]
  },
  {
   "cell_type": "markdown",
   "metadata": {},
   "source": [
    "# Nameless Functions \n",
    "In JavaScript we do not have to provide a name for our function. Below we assign a function to a variable called `adding`. This function adds two numbers and returns the result.  We call `adding` passing it the values 10 and 20 which are assigned to `added`. Python does not allow you not name a function in the same way as JS. "
   ]
  },
  {
   "cell_type": "code",
   "execution_count": 4,
   "metadata": {},
   "outputs": [
    {
     "data": {
      "application/javascript": [
       "// nameless function in JS\n",
       "const adding = function(a, b){\n",
       "    return a + b;\n",
       "}\n",
       "let added = adding(10, 20)\n",
       "\n",
       "element.text(added)\n"
      ],
      "text/plain": [
       "<IPython.core.display.Javascript object>"
      ]
     },
     "metadata": {},
     "output_type": "display_data"
    }
   ],
   "source": [
    "%%js\n",
    "// nameless function in JS\n",
    "const adding = function(a, b){\n",
    "    return a + b;\n",
    "}\n",
    "let added = adding(10, 20)\n",
    "\n",
    "element.text(added)"
   ]
  },
  {
   "cell_type": "markdown",
   "metadata": {},
   "source": [
    "# Anonymous Functions Arrow & Lambda\n",
    "\n",
    "Another type of function in JS are **`Arrow`** functions...which can be spotted from a file by their trademark arrow **`=>`**.  Python has a similar function called **`lambda`** and it can be identified by the keyword **`lambda`**.\n",
    "\n",
    "\n",
    "**Arrow Function**\n",
    "> let varName = (arg1, arg2, ...argN) => {expression}\n",
    "\n",
    "> `const someVarName = function(parm1, parm2) {return something};`\n",
    "\n",
    "If there is only one argument the parentheses around parameters can be omitted.\n",
    "> let varName = **arg1** => {return arg1 * 2}\n",
    "\n",
    "Like lambda the arrow can handle default values.\n",
    "> const result = (x=10, y=20, z=30) => {return x + y + z}\n",
    "\n",
    "Note, this is the syntax for ES6 plus. Prior to ES6 one line arrow functions was not possible. \n",
    "\n",
    "\n",
    "**Lambda Function**\n",
    "> `lambda arguments: expression`\n",
    "\n",
    "> `lambda [arg1,arg2,..]:[expression]`\n",
    "\n",
    "As we’ve seen, the *expression* is what the Python3 lambda returns, so we must be curious about what qualifies as an expression. An expression here is what you would put in the return statement of a Python Lambda function. The following items qualify as expressions.\n",
    "\n",
    "\n",
    "* Arithmetic operations like `a+b` and `a**b`\n",
    "* Function calls like `sum(a,b)`\n",
    "* A print statement like `print(“Hello”)`"
   ]
  },
  {
   "cell_type": "markdown",
   "metadata": {},
   "source": [
    "Here we have created a simple arrow function on one line that takes two values and adds them together. Note, one line arrow functions is for JS ES6 and above. "
   ]
  },
  {
   "cell_type": "code",
   "execution_count": 26,
   "metadata": {},
   "outputs": [
    {
     "data": {
      "application/javascript": [
       "// arrow function below check it out\n",
       "const adding = (a, b) => {return a + b};\n",
       "let added = adding(10, 20)\n",
       "\n",
       "element.text(added)\n"
      ],
      "text/plain": [
       "<IPython.core.display.Javascript object>"
      ]
     },
     "metadata": {},
     "output_type": "display_data"
    }
   ],
   "source": [
    "%%js \n",
    "// arrow function below check it out\n",
    "const adding = (a, b) => {return a + b};\n",
    "\n",
    "let added = adding(10, 20)\n",
    "console.log(added)"
   ]
  },
  {
   "cell_type": "markdown",
   "metadata": {},
   "source": [
    "With the lambda function we are taking the value of x and raising it to the power of 2.  `exponent_2` now takes one parameter (a value) and returns it raised to the power of 2."
   ]
  },
  {
   "cell_type": "code",
   "execution_count": 24,
   "metadata": {},
   "outputs": [
    {
     "name": "stdout",
     "output_type": "stream",
     "text": [
      "100\n"
     ]
    }
   ],
   "source": [
    "# lambda single arguement function \n",
    "exponent_2 = lambda x: x ** 2\n",
    "print(exponent_2(10))"
   ]
  },
  {
   "cell_type": "markdown",
   "metadata": {},
   "source": [
    "Here we are creating and arrow function in JS that replicates the lambda function above. They are very similar and would be almost identical in length if the arrow function did not require `return`. "
   ]
  },
  {
   "cell_type": "code",
   "execution_count": 16,
   "metadata": {},
   "outputs": [
    {
     "data": {
      "application/javascript": [
       "// arrow function\n",
       "const exponent_2 = (x) => {return x ** 2};\n",
       "element.text(exponent_2(10))\n"
      ],
      "text/plain": [
       "<IPython.core.display.Javascript object>"
      ]
     },
     "metadata": {},
     "output_type": "display_data"
    }
   ],
   "source": [
    "%%js\n",
    "// arrow function\n",
    "const exponent_2 = (x) => {return x ** 2};\n",
    "element.text(exponent_2(10))"
   ]
  },
  {
   "cell_type": "markdown",
   "metadata": {},
   "source": [
    "Now lets try using the lambda function with multiple arguments.  We  are going to take two values (x and y) returning the sum of them.  Again, note the similarity between the arrow and lambda functions. "
   ]
  },
  {
   "cell_type": "code",
   "execution_count": 28,
   "metadata": {},
   "outputs": [
    {
     "name": "stdout",
     "output_type": "stream",
     "text": [
      "75\n"
     ]
    }
   ],
   "source": [
    "# lamda multiple argeument function \n",
    "adding = lambda x, y: x + y\n",
    "print(adding(50, 25))"
   ]
  },
  {
   "cell_type": "markdown",
   "metadata": {},
   "source": [
    "Using lambda with with default values set for multiple variables. If values are not passed in `results` then the default is used.  "
   ]
  },
  {
   "cell_type": "code",
   "execution_count": 5,
   "metadata": {},
   "outputs": [
    {
     "name": "stdout",
     "output_type": "stream",
     "text": [
      "Using lambda and passing three arguments 30\n",
      "Note the result is 30\n",
      "\n",
      "Using lambda and passing no arguments 60\n",
      "Note the result is 60\n",
      "\n"
     ]
    }
   ],
   "source": [
    "# lambda with default values same as: def result(x=10,y=20,z=30): return\n",
    "result = lambda x=10, y=20, z=30 : x + y + z\n",
    "\n",
    "print(f\"Using lambda and passing three arguments {result(10,10,10)}\\nNote the result is 30\\n\")\n",
    "\n",
    "print(f\"Using lambda and passing no arguments {result()}\\nNote the result is 60\\n\")"
   ]
  },
  {
   "cell_type": "code",
   "execution_count": 6,
   "metadata": {},
   "outputs": [
    {
     "data": {
      "application/javascript": [
       "\n",
       "const result = (x=10, y=20, z=30) => {return x + y + z};\n",
       "element.text(result())\n"
      ],
      "text/plain": [
       "<IPython.core.display.Javascript object>"
      ]
     },
     "metadata": {},
     "output_type": "display_data"
    }
   ],
   "source": [
    "%%js\n",
    "\n",
    "const result = (x=10, y=20, z=30) => {return x + y + z};\n",
    "element.text(result())"
   ]
  },
  {
   "cell_type": "markdown",
   "metadata": {},
   "source": [
    "**`Implicit Returns`** Wait, what about implicit returns...regular functions in JS don't have an implicit return, however arrow functions allow you to have an implicit return.  This means we can `omit the return` keyword when the arrow function has only **one statement**.   \n",
    "\n",
    "You can also remove the curly brackets, as below. Additionally, the parentheses around the `x` can be removed.  Now lets compare the arrow and lambda function. \n",
    "\n",
    "**JavaScript**\n",
    "```\n",
    "const exponent_2 = x => x ** 2\n",
    "console.log(exponent_2(10))\n",
    "```\n",
    "\n",
    "**Python**\n",
    "```\n",
    "exponent_2 = lambda x: x ** 2\n",
    "print(exponent_2(10))\n",
    "```"
   ]
  },
  {
   "cell_type": "code",
   "execution_count": 22,
   "metadata": {},
   "outputs": [
    {
     "data": {
      "application/javascript": [
       "// SAME arrow function above minus the keyword return\n",
       "const exponent_2 = x => x ** 2\n",
       "element.text(exponent_2(10))\n"
      ],
      "text/plain": [
       "<IPython.core.display.Javascript object>"
      ]
     },
     "metadata": {},
     "output_type": "display_data"
    }
   ],
   "source": [
    "%%js\n",
    "// SAME arrow function above minus the keyword return\n",
    "const exponent_2 = x => x ** 2\n",
    "element.text(exponent_2(10))"
   ]
  },
  {
   "cell_type": "markdown",
   "metadata": {},
   "source": [
    "Couple more examples using the math module. Note in Python we need to first import math before we can call pi."
   ]
  },
  {
   "cell_type": "code",
   "execution_count": 23,
   "metadata": {},
   "outputs": [
    {
     "data": {
      "application/javascript": [
       "// another implicit arrow function \n",
       "const multPI = (x, y) => x * y * Math.PI\n",
       "element.text(multPI(10, 25))\n"
      ],
      "text/plain": [
       "<IPython.core.display.Javascript object>"
      ]
     },
     "metadata": {},
     "output_type": "display_data"
    }
   ],
   "source": [
    "%%js\n",
    "// another implicit arrow function \n",
    "const multPI = (x, y) => x * y * Math.PI\n",
    "element.text(multPI(10, 25))"
   ]
  },
  {
   "cell_type": "code",
   "execution_count": 24,
   "metadata": {},
   "outputs": [
    {
     "name": "stdout",
     "output_type": "stream",
     "text": [
      "785.3981633974482\n"
     ]
    }
   ],
   "source": [
    "import math\n",
    "mult_pi = lambda x, y: x * y * math.pi\n",
    "print(mult_pi(10, 25))"
   ]
  },
  {
   "cell_type": "markdown",
   "metadata": {},
   "source": [
    "# Arrow Function & forEach"
   ]
  },
  {
   "cell_type": "markdown",
   "metadata": {},
   "source": [
    "Here we have used to methods to sum an array of points and return the total. Both return "
   ]
  },
  {
   "cell_type": "code",
   "execution_count": 5,
   "metadata": {},
   "outputs": [
    {
     "data": {
      "application/javascript": [
       "// loop through an array summing points\n",
       "\n",
       "let sum = 0;\n",
       "const sumPoints = (points) => {\n",
       "    points.forEach(function(point){sum += point});\n",
       "    return sum;\n",
       "}\n",
       "\n",
       "element.text(sumPoints([10, 10, 10, 10, 10]))\n"
      ],
      "text/plain": [
       "<IPython.core.display.Javascript object>"
      ]
     },
     "metadata": {},
     "output_type": "display_data"
    }
   ],
   "source": [
    "%%js\n",
    "// loop through an array summing points\n",
    "let sum = 0;\n",
    "const sumPoints = (points) => {\n",
    "    points.forEach(function(point){sum += point});\n",
    "    return sum;\n",
    "}\n",
    "\n",
    "console.log(sumPoints([10, 10, 10, 10, 10]))"
   ]
  },
  {
   "cell_type": "code",
   "execution_count": 1,
   "metadata": {},
   "outputs": [
    {
     "data": {
      "application/javascript": [
       "function sumPoints(points){\n",
       "    let sum = 0;\n",
       "    points.forEach(point => {sum += point});\n",
       "    return sum;\n",
       "}\n",
       "element.text(sumPoints([10, 10, 10, 10, 10]))\n"
      ],
      "text/plain": [
       "<IPython.core.display.Javascript object>"
      ]
     },
     "metadata": {},
     "output_type": "display_data"
    }
   ],
   "source": [
    "%%js\n",
    "// JS using a function to return sum of points\n",
    "function sumPoints(points){\n",
    "    let sum = 0;\n",
    "    points.forEach(point => {sum += point});\n",
    "    return sum;\n",
    "}\n",
    "console.log(sumPoints([10, 10, 10, 10, 10]))"
   ]
  },
  {
   "cell_type": "code",
   "execution_count": null,
   "metadata": {},
   "outputs": [],
   "source": []
  },
  {
   "cell_type": "code",
   "execution_count": null,
   "metadata": {},
   "outputs": [],
   "source": []
  },
  {
   "cell_type": "code",
   "execution_count": null,
   "metadata": {},
   "outputs": [],
   "source": []
  },
  {
   "cell_type": "code",
   "execution_count": null,
   "metadata": {},
   "outputs": [],
   "source": []
  },
  {
   "cell_type": "code",
   "execution_count": null,
   "metadata": {},
   "outputs": [],
   "source": []
  }
 ],
 "metadata": {
  "hide_input": false,
  "kernelspec": {
   "display_name": "Python 3",
   "language": "python",
   "name": "python3"
  },
  "language_info": {
   "codemirror_mode": {
    "name": "ipython",
    "version": 3
   },
   "file_extension": ".py",
   "mimetype": "text/x-python",
   "name": "python",
   "nbconvert_exporter": "python",
   "pygments_lexer": "ipython3",
   "version": "3.7.7"
  },
  "latex_envs": {
   "LaTeX_envs_menu_present": true,
   "autoclose": false,
   "autocomplete": true,
   "bibliofile": "biblio.bib",
   "cite_by": "apalike",
   "current_citInitial": 1,
   "eqLabelWithNumbers": true,
   "eqNumInitial": 1,
   "hotkeys": {
    "equation": "Ctrl-E",
    "itemize": "Ctrl-I"
   },
   "labels_anchors": false,
   "latex_user_defs": false,
   "report_style_numbering": false,
   "user_envs_cfg": false
  },
  "toc": {
   "base_numbering": 1,
   "nav_menu": {},
   "number_sections": true,
   "sideBar": true,
   "skip_h1_title": false,
   "title_cell": "Table of Contents",
   "title_sidebar": "Contents",
   "toc_cell": false,
   "toc_position": {},
   "toc_section_display": true,
   "toc_window_display": false
  },
  "varInspector": {
   "cols": {
    "lenName": 16,
    "lenType": 16,
    "lenVar": 40
   },
   "kernels_config": {
    "python": {
     "delete_cmd_postfix": "",
     "delete_cmd_prefix": "del ",
     "library": "var_list.py",
     "varRefreshCmd": "print(var_dic_list())"
    },
    "r": {
     "delete_cmd_postfix": ") ",
     "delete_cmd_prefix": "rm(",
     "library": "var_list.r",
     "varRefreshCmd": "cat(var_dic_list()) "
    }
   },
   "types_to_exclude": [
    "module",
    "function",
    "builtin_function_or_method",
    "instance",
    "_Feature"
   ],
   "window_display": false
  }
 },
 "nbformat": 4,
 "nbformat_minor": 4
}
