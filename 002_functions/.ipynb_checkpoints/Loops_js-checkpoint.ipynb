{
 "cells": [
  {
   "cell_type": "code",
   "execution_count": 1,
   "metadata": {},
   "outputs": [
    {
     "name": "stdout",
     "output_type": "stream",
     "text": [
      "1\n",
      "2\n",
      "Julia\n",
      "4\n",
      "James\n",
      "Julia\n",
      "7\n",
      "8\n",
      "Julia\n",
      "James\n",
      "11\n",
      "Julia\n",
      "13\n",
      "14\n",
      "JuliaJames\n",
      "16\n",
      "17\n",
      "Julia\n",
      "19\n",
      "James\n"
     ]
    },
    {
     "data": {
      "text/plain": [
       "21"
      ]
     },
     "execution_count": 1,
     "metadata": {},
     "output_type": "execute_result"
    }
   ],
   "source": [
    "let x = 1;\n",
    "while (x <= 20) {\n",
    "    if (x % 3 === 0 && x % 5 === 0) {\n",
    "        console.log(\"JuliaJames\");\n",
    "    } else if (x % 5 === 0) {\n",
    "        console.log(\"James\");\n",
    "    } else if (x % 3 === 0) {\n",
    "        console.log(\"Julia\");\n",
    "    } else {\n",
    "        console.log(x);\n",
    "    }\n",
    "    x += 1;\n",
    "}"
   ]
  },
  {
   "cell_type": "code",
   "execution_count": null,
   "metadata": {},
   "outputs": [],
   "source": []
  }
 ],
 "metadata": {
  "kernelspec": {
   "display_name": "Javascript (Node.js)",
   "language": "javascript",
   "name": "javascript"
  },
  "language_info": {
   "file_extension": ".js",
   "mimetype": "application/javascript",
   "name": "javascript",
   "version": "12.18.0"
  }
 },
 "nbformat": 4,
 "nbformat_minor": 4
}
