{
 "cells": [
  {
   "cell_type": "markdown",
   "metadata": {},
   "source": [
    "\n",
    "***\n",
    "# Popular Methods\n",
    "***"
   ]
  },
  {
   "cell_type": "code",
   "execution_count": 9,
   "metadata": {},
   "outputs": [],
   "source": [
    "# How to import NumPy \n",
    "import numpy as np"
   ]
  },
  {
   "cell_type": "markdown",
   "metadata": {},
   "source": [
    "# Popular Methods\n",
    "Note, when reading JS documentation you will see the word `callback`. I spent hours waiting by my phone until I finally learned the actual meaning. When you see callback it means the function will be called for every item. Thus, there should be a function in-place of callback.   \n",
    "\n",
    "**JavaScript**\n",
    "* `.filter(callback)` is used to filter an array based on a condition. It returns an array of elements\n",
    "* `.includes(element)` returns true when the array includes the element and false, if not\n",
    "* `.join()` will convert the array into a string, sticking the elements with the string provided\n",
    "* `.split(string)` will split a string into an array based on the string provided \n",
    "* `.map(callback)` allows you to transform an array into another one. For example you can double the numbers in an array. \n",
    "\n",
    "**Python**\n",
    "* `filter(function, sequence)` provide a function that tests each element of the sequence provided. The sequence can be a set, list...any iterator. Filter returns an iterator that is filtered. \n",
    "* `in` Using the Python keyword **`in`** allows us to check a list for an object returning True if there and False, otherwise \n",
    "* `.join(iterable)` the Python join method takes an iterable and returns a string concatenated with elements in the iterable. \n",
    "* `.split()` will convert a string into a list.\n",
    "* `.map(function, iterable)` takes a function and iterable applying the function to each element. "
   ]
  },
  {
   "cell_type": "markdown",
   "metadata": {},
   "source": [
    "## Filter"
   ]
  },
  {
   "cell_type": "markdown",
   "metadata": {},
   "source": [
    "**JavaScript Filter**\n",
    "\n",
    "In JS we will pass an arrow function as the required callback. We want to look at the array called `petsArr` and we are looking for any entry where the age is greater than or equal to 2.\n",
    "\n",
    "NOTE TRY IN CONSOLE"
   ]
  },
  {
   "cell_type": "code",
   "execution_count": 37,
   "metadata": {},
   "outputs": [
    {
     "data": {
      "application/javascript": [
       "const petsArr = [{name: 'Teddy', age: 3}, \n",
       "                   {name: 'Tucker', age: 1},\n",
       "                   {name: 'Shreds', age: 12},\n",
       "                   {name: 'Ginny', age: 4},\n",
       "                  ];\n",
       "\n",
       "element.text(petsArr.filter((petsArr) => petsArr.age >= 2))\n"
      ],
      "text/plain": [
       "<IPython.core.display.Javascript object>"
      ]
     },
     "metadata": {},
     "output_type": "display_data"
    }
   ],
   "source": [
    "%%js\n",
    "const petsArr = [{name: 'Teddy', age: 3}, \n",
    "                   {name: 'Tucker', age: 1},\n",
    "                   {name: 'Shreds', age: 12},\n",
    "                   {name: 'Ginny', age: 4},\n",
    "                  ];\n",
    "\n",
    "element.text(petsArr.filter((petsArr) => petsArr.age >= 2))"
   ]
  },
  {
   "cell_type": "markdown",
   "metadata": {},
   "source": [
    "**Python Filter** \n",
    "\n",
    "In Python we can use the filter function, too. First, notice that name and age must be enclosed in single or double quotes.  Next, we need to tell Python we want our filtered results in a `list()`. If you remove `list()` it will return `filter object`. \n",
    "\n",
    "Lastly, we pass a lambda function which is like the arrow function. Look at the list `petsArr` and check age `petsArr['age']` for anything greate than or equal to 2. "
   ]
  },
  {
   "cell_type": "code",
   "execution_count": 38,
   "metadata": {},
   "outputs": [
    {
     "name": "stdout",
     "output_type": "stream",
     "text": [
      "[{'name': 'Teddy', 'age': 3}, {'name': 'Shreds', 'age': 12}, {'name': 'Ginny', 'age': 4}]\n"
     ]
    }
   ],
   "source": [
    "petsArr = [{'name': 'Teddy', 'age': 3}, \n",
    "                   {'name': 'Tucker', 'age': 1},\n",
    "                   {'name': 'Shreds', 'age': 12},\n",
    "                   {'name': 'Ginny', 'age': 4},\n",
    "                  ];\n",
    "\n",
    "filt_list = list(filter(lambda petsArr: petsArr['age'] >= 2, petsArr))\n",
    "print(filt_list)"
   ]
  },
  {
   "cell_type": "markdown",
   "metadata": {},
   "source": [
    "Here we are going to create a function below zero that will return all of the temperatures below zero degrees. In both JS and Python we will use the `.filter()` method. Additionally, with JS we will take two approaches to building the same function.  "
   ]
  },
  {
   "cell_type": "code",
   "execution_count": 39,
   "metadata": {},
   "outputs": [
    {
     "data": {
      "application/javascript": [
       "// using arrow functions twice\n",
       "const belowZero = temps => { \n",
       "    return temps.filter(temp => temp < 0);\n",
       "}\n",
       "element.text(belowZero([25, 45, 5, 0, -25, -5, -6, 78]))\n"
      ],
      "text/plain": [
       "<IPython.core.display.Javascript object>"
      ]
     },
     "metadata": {},
     "output_type": "display_data"
    }
   ],
   "source": [
    "%%js\n",
    "// using arrow functions twice\n",
    "const belowZero = temps => { \n",
    "    return temps.filter(temp => temp < 0);\n",
    "}\n",
    "element.text(belowZero([25, 45, 5, 0, -25, -5, -6, 78]))"
   ]
  },
  {
   "cell_type": "code",
   "execution_count": 40,
   "metadata": {},
   "outputs": [
    {
     "data": {
      "application/javascript": [
       "// using function and arrow function\n",
       "function belowZero(temps){\n",
       "    return temps.filter(temp => temp < 0);\n",
       "}\n",
       "element.text(belowZero([25, 45, 5, 0, -25, -5, -6, 78]));\n"
      ],
      "text/plain": [
       "<IPython.core.display.Javascript object>"
      ]
     },
     "metadata": {},
     "output_type": "display_data"
    }
   ],
   "source": [
    "%%js\n",
    "// using function and arrow function\n",
    "function belowZero(temps){\n",
    "    return temps.filter(temp => temp < 0);\n",
    "}\n",
    "element.text(belowZero([25, 45, 5, 0, -25, -5, -6, 78]));"
   ]
  },
  {
   "cell_type": "code",
   "execution_count": 41,
   "metadata": {},
   "outputs": [
    {
     "name": "stdout",
     "output_type": "stream",
     "text": [
      "[-25, -5, -6]\n"
     ]
    }
   ],
   "source": [
    "# python using function and lambda\n",
    "# recall Python filter requires two arguments \n",
    "def below_zero(values):\n",
    "    return list(filter(lambda values: values < 0, values))\n",
    "print(below_zero([25, 45, 5, 0, -25, -5, -6, 78]))"
   ]
  },
  {
   "cell_type": "code",
   "execution_count": 8,
   "metadata": {},
   "outputs": [
    {
     "data": {
      "application/javascript": [
       "\n",
       "const inventors = [\n",
       "  { first: 'Albert', last: 'Einstein', year: 1879, passed: 1955 },\n",
       "  { first: 'Isaac', last: 'Newton', year: 1643, passed: 1727 },\n",
       "  { first: 'Galileo', last: 'Galilei', year: 1564, passed: 1642 },\n",
       "  { first: 'Marie', last: 'Curie', year: 1867, passed: 1934 },\n",
       "  { first: 'Johannes', last: 'Kepler', year: 1571, passed: 1630 },\n",
       "  { first: 'Nicolaus', last: 'Copernicus', year: 1473, passed: 1543 },\n",
       "  { first: 'Max', last: 'Planck', year: 1858, passed: 1947 },\n",
       "  { first: 'Katherine', last: 'Blodgett', year: 1898, passed: 1979 },\n",
       "  { first: 'Ada', last: 'Lovelace', year: 1815, passed: 1852 },\n",
       "  { first: 'Sarah E.', last: 'Goode', year: 1855, passed: 1905 },\n",
       "  { first: 'Lise', last: 'Meitner', year: 1878, passed: 1968 },\n",
       "  { first: 'Hanna', last: 'Hammarström', year: 1829, passed: 1909 }\n",
       "];\n",
       "\n",
       "const yearBorn = inventors.filter(inventor => inventor.year >= 1500 && inventor.year < 1600);\n",
       "element.text(yearBorn.length);\n"
      ],
      "text/plain": [
       "<IPython.core.display.Javascript object>"
      ]
     },
     "metadata": {},
     "output_type": "display_data"
    }
   ],
   "source": [
    "%%js\n",
    "\n",
    "const inventors = [\n",
    "  { first: 'Albert', last: 'Einstein', year: 1879, passed: 1955 },\n",
    "  { first: 'Isaac', last: 'Newton', year: 1643, passed: 1727 },\n",
    "  { first: 'Galileo', last: 'Galilei', year: 1564, passed: 1642 },\n",
    "  { first: 'Marie', last: 'Curie', year: 1867, passed: 1934 },\n",
    "  { first: 'Johannes', last: 'Kepler', year: 1571, passed: 1630 },\n",
    "  { first: 'Nicolaus', last: 'Copernicus', year: 1473, passed: 1543 },\n",
    "  { first: 'Max', last: 'Planck', year: 1858, passed: 1947 },\n",
    "  { first: 'Katherine', last: 'Blodgett', year: 1898, passed: 1979 },\n",
    "  { first: 'Ada', last: 'Lovelace', year: 1815, passed: 1852 },\n",
    "  { first: 'Sarah E.', last: 'Goode', year: 1855, passed: 1905 },\n",
    "  { first: 'Lise', last: 'Meitner', year: 1878, passed: 1968 },\n",
    "  { first: 'Hanna', last: 'Hammarström', year: 1829, passed: 1909 }\n",
    "];\n",
    "\n",
    "const yearBorn = inventors.filter(inventor => inventor.year >= 1500 && inventor.year < 1600);\n",
    "element.text(yearBorn.length);\n"
   ]
  },
  {
   "cell_type": "markdown",
   "metadata": {},
   "source": [
    "## Includes"
   ]
  },
  {
   "cell_type": "markdown",
   "metadata": {},
   "source": [
    "**JavaScript Includes** \n",
    "Check an array and return true or false if it contains the value. "
   ]
  },
  {
   "cell_type": "code",
   "execution_count": 42,
   "metadata": {},
   "outputs": [
    {
     "data": {
      "application/javascript": [
       "const names = ['ten', 'star', 'day', 'week', 'paint', 'list']\n",
       "element.text(names.includes('day'))\n"
      ],
      "text/plain": [
       "<IPython.core.display.Javascript object>"
      ]
     },
     "metadata": {},
     "output_type": "display_data"
    }
   ],
   "source": [
    "%%js\n",
    "const names = ['ten', 'star', 'day', 'week', 'paint', 'list'];\n",
    "element.text(names.includes('day'));"
   ]
  },
  {
   "cell_type": "markdown",
   "metadata": {},
   "source": [
    "**Python in** check if day is in the list, True. Check if hello is on the list, False."
   ]
  },
  {
   "cell_type": "code",
   "execution_count": 43,
   "metadata": {},
   "outputs": [
    {
     "name": "stdout",
     "output_type": "stream",
     "text": [
      "True\n",
      "False\n"
     ]
    }
   ],
   "source": [
    "# Python example using keyword 'in'\n",
    "names = ['ten', 'star', 'day', 'week', 'paint', 'list']\n",
    "print('day' in names)\n",
    "print('hello' in names)\n"
   ]
  },
  {
   "cell_type": "markdown",
   "metadata": {},
   "source": [
    "## Join"
   ]
  },
  {
   "cell_type": "markdown",
   "metadata": {},
   "source": [
    "**JavaScript Join** Why use join in an array in JS? Below we print the results of join and the name...they look identical but they are not.  Using `typeof` we can see that join returns a string and simply names is an object. \n"
   ]
  },
  {
   "cell_type": "code",
   "execution_count": 44,
   "metadata": {},
   "outputs": [
    {
     "data": {
      "application/javascript": [
       "const names = ['ten', 'star', 'day', 'week', 'paint', 'list']\n",
       "element.text(names.join(', '))\n"
      ],
      "text/plain": [
       "<IPython.core.display.Javascript object>"
      ]
     },
     "metadata": {},
     "output_type": "display_data"
    }
   ],
   "source": [
    "%%js\n",
    "const names = ['ten', 'star', 'day', 'week', 'paint', 'list']\n",
    "element.text(names.join(', '))"
   ]
  },
  {
   "cell_type": "code",
   "execution_count": 45,
   "metadata": {},
   "outputs": [
    {
     "data": {
      "application/javascript": [
       "// We can join using anything...\n",
       "const names = ['ten', 'star', 'day', 'week', 'paint', 'list']\n",
       "element.text(names.join(' *** '))\n"
      ],
      "text/plain": [
       "<IPython.core.display.Javascript object>"
      ]
     },
     "metadata": {},
     "output_type": "display_data"
    }
   ],
   "source": [
    "%%js\n",
    "// We can join using anything...\n",
    "const names = ['ten', 'star', 'day', 'week', 'paint', 'list']\n",
    "element.text(names.join(' *** '))"
   ]
  },
  {
   "cell_type": "code",
   "execution_count": 46,
   "metadata": {},
   "outputs": [
    {
     "data": {
      "application/javascript": [
       "// using and arrow function to create a string\n",
       "const makeString = string => {\n",
       "    return string.join(', ');\n",
       "}\n",
       "element.text(makeString(['ten', 'star', 'day', 'week', 'paint', 'list']))\n"
      ],
      "text/plain": [
       "<IPython.core.display.Javascript object>"
      ]
     },
     "metadata": {},
     "output_type": "display_data"
    }
   ],
   "source": [
    "%%js\n",
    "// using and arrow function to create a string\n",
    "const makeString = string => {\n",
    "    return string.join(', ');\n",
    "}\n",
    "element.text(makeString(['ten', 'star', 'day', 'week', 'paint', 'list']))"
   ]
  },
  {
   "cell_type": "code",
   "execution_count": 47,
   "metadata": {},
   "outputs": [
    {
     "data": {
      "application/javascript": [
       "// returns a string \n",
       "const names = ['ten', 'star', 'day', 'week', 'paint', 'list']\n",
       "element.text(names)\n"
      ],
      "text/plain": [
       "<IPython.core.display.Javascript object>"
      ]
     },
     "metadata": {},
     "output_type": "display_data"
    }
   ],
   "source": [
    "%%js\n",
    "// returns a string \n",
    "const names = ['ten', 'star', 'day', 'week', 'paint', 'list']\n",
    "element.text(names)"
   ]
  },
  {
   "cell_type": "code",
   "execution_count": 48,
   "metadata": {},
   "outputs": [
    {
     "data": {
      "application/javascript": [
       "// the returned result looks like the above..whye use join? \n",
       "const names = ['ten', 'star', 'day', 'week', 'paint', 'list']\n",
       "element.text(`Using join confirm typeof  >>  ${typeof names.join(',')}`)\n"
      ],
      "text/plain": [
       "<IPython.core.display.Javascript object>"
      ]
     },
     "metadata": {},
     "output_type": "display_data"
    }
   ],
   "source": [
    "%%js\n",
    "// the returned result looks like the above..whye use join? \n",
    "const names = ['ten', 'star', 'day', 'week', 'paint', 'list']\n",
    "element.text(`Using join confirm typeof  >>  ${typeof names.join(',')}`)"
   ]
  },
  {
   "cell_type": "code",
   "execution_count": 49,
   "metadata": {},
   "outputs": [
    {
     "data": {
      "application/javascript": [
       "// returns an object\n",
       "const names = ['ten', 'star', 'day', 'week', 'paint', 'list']\n",
       "element.text(`Using names confirm typeof  >>  ${typeof names}`)\n"
      ],
      "text/plain": [
       "<IPython.core.display.Javascript object>"
      ]
     },
     "metadata": {},
     "output_type": "display_data"
    }
   ],
   "source": [
    "%%js\n",
    "// returns an object\n",
    "const names = ['ten', 'star', 'day', 'week', 'paint', 'list']\n",
    "element.text(`Using names confirm typeof  >>  ${typeof names}`)"
   ]
  },
  {
   "cell_type": "markdown",
   "metadata": {},
   "source": [
    "With Python we can use the method `join`, too. We pass the iterable 'names' and then join the elements with a ','. This could be anything we want! & @...notice that the type returned is a **string**. "
   ]
  },
  {
   "cell_type": "code",
   "execution_count": 50,
   "metadata": {},
   "outputs": [
    {
     "name": "stdout",
     "output_type": "stream",
     "text": [
      "ten, star, day, week, paint, list\n",
      "ten & star & day & week & paint & list\n",
      "ten---star---day---week---paint---list\n",
      "confirm class type:\" <class 'str'>\n"
     ]
    }
   ],
   "source": [
    "names = ['ten', 'star', 'day', 'week', 'paint', 'list']\n",
    "str_names = ', '.join(names)\n",
    "str_names_2 = ' & '.join(names)\n",
    "str_names_3 = '---'.join(names)\n",
    "print(str_names)\n",
    "print(str_names_2)\n",
    "print(str_names_3)\n",
    "print(f'confirm class type:\" {type(str_names)}')"
   ]
  },
  {
   "cell_type": "markdown",
   "metadata": {},
   "source": [
    "**Terminology Reminder** in JavaScript an **array** is most like a regular Python **list**. However, the Python library NumPy has it own version of a list which is called an array. You will typically see it referenced as `np.array([])`. We will cover the NumPy array in more detail in another section. "
   ]
  },
  {
   "cell_type": "markdown",
   "metadata": {},
   "source": [
    "## Split"
   ]
  },
  {
   "cell_type": "markdown",
   "metadata": {},
   "source": [
    "**Split**\n",
    "\n",
    "Creating an array/list from a **string** in JS and Python can be done with **split**. Another quick option"
   ]
  },
  {
   "cell_type": "code",
   "execution_count": 51,
   "metadata": {},
   "outputs": [
    {
     "data": {
      "application/javascript": [
       "const names = 'ten,star,day,week,paint,list'\n",
       "element.text(names.split())\n"
      ],
      "text/plain": [
       "<IPython.core.display.Javascript object>"
      ]
     },
     "metadata": {},
     "output_type": "display_data"
    }
   ],
   "source": [
    "%%js\n",
    "const names = 'ten,star,day,week,paint,list'\n",
    "element.text(names.split())"
   ]
  },
  {
   "cell_type": "code",
   "execution_count": 52,
   "metadata": {},
   "outputs": [
    {
     "name": "stdout",
     "output_type": "stream",
     "text": [
      "['ten,star,day,week,paint,list']\n"
     ]
    }
   ],
   "source": [
    "# Python split method \n",
    "names = 'ten,star,day,week,paint,list'\n",
    "print(names.split())"
   ]
  },
  {
   "cell_type": "markdown",
   "metadata": {},
   "source": [
    "## Map"
   ]
  },
  {
   "cell_type": "markdown",
   "metadata": {},
   "source": [
    "**Map** \n",
    "\n",
    "Map is commonly used in Python and JaveScript. You will see it a lot working with arrays and list. A lot of times it will be combined with lambda in Python and arrow functions in JS. Let's check it out. \n",
    "\n",
    "* `.map(callback)` allows you to transform an array into another one. For example you can double the numbers in an array. \n",
    "\n",
    "* `.map(function, iterable)` takes a function and iterable applying the function to each element. \n",
    "\n",
    "We will use map to convert a list of annual spend to thousands. When using Python we will need to recruit `list()` to convert in a list format.  "
   ]
  },
  {
   "cell_type": "markdown",
   "metadata": {},
   "source": [
    "In JS we simply pass an arrow function into map and then it will divide each element by 1000 and return a list. "
   ]
  },
  {
   "cell_type": "code",
   "execution_count": 53,
   "metadata": {},
   "outputs": [
    {
     "data": {
      "application/javascript": [
       "const annualSpend = [250000, 350000, 400000, 888000, 999999, 454123]\n",
       "const annualSpendCon = annualSpend.map(annualSpend => annualSpend / 1000)\n",
       "element.text(annualSpendCon)\n"
      ],
      "text/plain": [
       "<IPython.core.display.Javascript object>"
      ]
     },
     "metadata": {},
     "output_type": "display_data"
    }
   ],
   "source": [
    "%%js\n",
    "const annualSpend = [250000, 350000, 400000, 888000, 999999, 454123]\n",
    "const annualSpendCon = annualSpend.map(annualSpend => annualSpend / 1000)\n",
    "element.text(annualSpendCon)"
   ]
  },
  {
   "cell_type": "markdown",
   "metadata": {},
   "source": [
    "Python is similar...we pass a function and here we use a lambda function and then pass tell map what the name of the iterable is. We have to wrap everything in a `list()` or Python returns an object.  "
   ]
  },
  {
   "cell_type": "code",
   "execution_count": 54,
   "metadata": {},
   "outputs": [
    {
     "name": "stdout",
     "output_type": "stream",
     "text": [
      "[250.0, 350.0, 400.0, 888.0, 999.999, 454.123]\n"
     ]
    }
   ],
   "source": [
    "annual_spend = [250000, 350000, 400000, 888000, 999999, 454123]\n",
    "annual_spend_con = list(map(lambda x: x / 1000, annual_spend))\n",
    "print(annual_spend_con)"
   ]
  },
  {
   "cell_type": "code",
   "execution_count": 55,
   "metadata": {},
   "outputs": [
    {
     "data": {
      "application/javascript": [
       "// convert names to upper case \n",
       "function convertNames(names){\n",
       "    return names.map(names => names.toUpperCase());\n",
       "}\n",
       "element.text(convertNames(['Teddy', 'Tucker', 'Ginny', 'Jose']))\n"
      ],
      "text/plain": [
       "<IPython.core.display.Javascript object>"
      ]
     },
     "metadata": {},
     "output_type": "display_data"
    }
   ],
   "source": [
    "%%js\n",
    "// convert names to upper case \n",
    "function convertNames(names){\n",
    "    return names.map(names => names.toUpperCase());\n",
    "}\n",
    "element.text(convertNames(['Teddy', 'Tucker', 'Ginny', 'Jose']))"
   ]
  },
  {
   "cell_type": "code",
   "execution_count": 56,
   "metadata": {},
   "outputs": [
    {
     "name": "stdout",
     "output_type": "stream",
     "text": [
      "['TEDDY', 'TUCKER', 'GINNY', 'JOSE']\n"
     ]
    }
   ],
   "source": [
    "def convert_names(names):\n",
    "    return list(map(lambda n: n.upper(), names))\n",
    "print( convert_names(['Teddy', 'Tucker', 'Ginny', 'Jose']) )"
   ]
  },
  {
   "cell_type": "markdown",
   "metadata": {},
   "source": [
    "## Emptying and Deleting Arrays/Lists\n",
    "With JS you can empty an array by setting its length to 0.  \n",
    "\n",
    "> const items = [\"pan\", \"paper\"]\n",
    "> items.length = 0;\n",
    "\n",
    "In Python you can use the method **`clear()`**."
   ]
  },
  {
   "cell_type": "code",
   "execution_count": 57,
   "metadata": {},
   "outputs": [
    {
     "data": {
      "application/javascript": [
       "//Empty an array\n",
       "const items = [\"Pen\", \"Paper\"];\n",
       "items.length = 0;\n",
       "element.text(items);\n"
      ],
      "text/plain": [
       "<IPython.core.display.Javascript object>"
      ]
     },
     "metadata": {},
     "output_type": "display_data"
    }
   ],
   "source": [
    "%%js\n",
    "//Empty an array\n",
    "const items = [\"Pen\", \"Paper\"];\n",
    "items.length = 0;\n",
    "element.text(items);"
   ]
  },
  {
   "cell_type": "markdown",
   "metadata": {},
   "source": [
    "**`SPLICE`**\n",
    "In JS we can use splice to remove item(s) from a list. With Python we simply use a bracket. "
   ]
  },
  {
   "cell_type": "code",
   "execution_count": 58,
   "metadata": {},
   "outputs": [
    {
     "data": {
      "application/javascript": [
       "const items = [\"Pen\", \"Paper\", \"Staples\"];\n",
       "const deletedItem = items.splice(0, 1); // removes one element at index 0\n",
       "element.text(deletedItem); // [\"Pen\"]\n"
      ],
      "text/plain": [
       "<IPython.core.display.Javascript object>"
      ]
     },
     "metadata": {},
     "output_type": "display_data"
    }
   ],
   "source": [
    "%%js\n",
    "const items = [\"Pen\", \"Paper\", \"Staples\"];\n",
    "const deletedItem = items.splice(0, 1); // removes one element at index 0\n",
    "element.text(deletedItem); // [\"Pen\"]"
   ]
  },
  {
   "cell_type": "code",
   "execution_count": 59,
   "metadata": {},
   "outputs": [
    {
     "name": "stdout",
     "output_type": "stream",
     "text": [
      "['Pen']\n"
     ]
    }
   ],
   "source": [
    "# Python \n",
    "items = [\"Pen\", \"Paper\", \"Staples\"]\n",
    "print(items[0:1])"
   ]
  },
  {
   "cell_type": "markdown",
   "metadata": {},
   "source": [
    "## Concatenate Arrays/Lists "
   ]
  },
  {
   "cell_type": "code",
   "execution_count": 60,
   "metadata": {},
   "outputs": [
    {
     "data": {
      "application/javascript": [
       "\n",
       "const concatTwoArrays = (first_half_2018, second_half_2018) => {\n",
       "    const cat = [...first_half_2018, ...second_half_2018]\n",
       "    return cat ;\n",
       "}\n",
       "\n",
       "\n",
       "element.text(concatTwoArrays([\"Calculator\", \"Whatsapp\"], [\"Chrome\", \"Firefox\"]));\n"
      ],
      "text/plain": [
       "<IPython.core.display.Javascript object>"
      ]
     },
     "metadata": {},
     "output_type": "display_data"
    }
   ],
   "source": [
    "%%js\n",
    "\n",
    "const concatTwoArrays = (first_half_2018, second_half_2018) => {\n",
    "    const cat = [...first_half_2018, ...second_half_2018]\n",
    "    return cat ;\n",
    "}\n",
    "\n",
    "\n",
    "element.text(concatTwoArrays([\"Calculator\", \"Whatsapp\"], [\"Chrome\", \"Firefox\"]));"
   ]
  },
  {
   "cell_type": "code",
   "execution_count": 61,
   "metadata": {},
   "outputs": [
    {
     "name": "stdout",
     "output_type": "stream",
     "text": [
      "['hello', 'teddy', 'ready', 'penny']\n"
     ]
    }
   ],
   "source": [
    "# Python \n",
    "list_1 = ['hello', 'teddy']\n",
    "list_2 = ['ready', 'penny']\n",
    "\n",
    "def join_lists(l_1, l_2):\n",
    "    new_list = l_1 + l_2\n",
    "    return new_list\n",
    "print(join_lists(list_1, list_2))"
   ]
  },
  {
   "cell_type": "markdown",
   "metadata": {},
   "source": [
    "# Create an Array/List from String\n",
    "In JS we can uee the split property and with Python list()."
   ]
  },
  {
   "cell_type": "code",
   "execution_count": 62,
   "metadata": {},
   "outputs": [
    {
     "data": {
      "application/javascript": [
       "const splitStringIntoChars = string => {\n",
       "    let splitString = string.split(\"\")\n",
       "    return splitString;\n",
       "}\n",
       "\n",
       "\n",
       "element.text(splitStringIntoChars(\"Hello World!\"));\n"
      ],
      "text/plain": [
       "<IPython.core.display.Javascript object>"
      ]
     },
     "metadata": {},
     "output_type": "display_data"
    }
   ],
   "source": [
    "%%js\n",
    "const splitStringIntoChars = string => {\n",
    "    let splitString = string.split(\"\")\n",
    "    return splitString;\n",
    "}\n",
    "\n",
    "\n",
    "element.text(splitStringIntoChars(\"Hello World!\"));"
   ]
  },
  {
   "cell_type": "code",
   "execution_count": 63,
   "metadata": {},
   "outputs": [
    {
     "name": "stdout",
     "output_type": "stream",
     "text": [
      "['H', 'e', 'l', 'l', 'o', ' ', 'W', 'o', 'r', 'l', 'd']\n"
     ]
    }
   ],
   "source": [
    "# Python \n",
    "the_string = \"Hello World\"\n",
    "print(list(the_string))"
   ]
  },
  {
   "cell_type": "markdown",
   "metadata": {},
   "source": [
    "## The Map Method JavaScript\n",
    "\n",
    "Using forEach() will not be useful if you want to `permanently modify` the `original array`. forEach() always returns undefined. However, creating a new array from an existing array is simple with the `powerful map()` method.\n",
    "\n",
    "The map() method in JavaScript creates an array by calling a specific function on each element present in the parent array. It is a non-mutating method. Generally map() method is used to iterate over an array and calling function on every element of array.\n",
    "* `array.map(function(currentValue, index, arr), thisValue)`\n",
    "\n",
    "Parameters: This method accepts two parameters as mentioned above and described below:\n",
    "\n",
    "* function(currentValue, index, arr): It is required parameter and it runs on each element of array. It contains three parameters which are listed below:\n",
    "  * currentValue: It is required parameter and it holds the value of current element.\n",
    "  * index: It is optional parameter and it holds the index of current element.\n",
    "  * arr: It is optional parameter and it holds the array.\n",
    "* thisValue: It is optional parameter and used to hold the value of passed to the function.\n",
    "\n",
    "**Return Value**: It returns a new array and elements of arrays are result of callback function.\n",
    "\n",
    "Below we use a `function expression` assigning a function to the variable improvedDonuts. The function called `myFunction` takes an array and iterates over each indexed value converting to upper case and adding 'hole' at the end.  Returning a new array. "
   ]
  },
  {
   "cell_type": "code",
   "execution_count": 68,
   "metadata": {},
   "outputs": [
    {
     "data": {
      "application/javascript": [
       "let donuts = [\"jelly donut\", \"chocolate donut\", \"glazed donut\"];\n",
       "let improvedDonuts = donuts.map(myFunction)\n",
       "\n",
       "function myFunction(donut) {\n",
       "  donut += \" hole\";\n",
       "  donut = donut.toUpperCase();\n",
       "  return donut;\n",
       "};\n",
       "\n",
       "element.text(improvedDonuts)\n"
      ],
      "text/plain": [
       "<IPython.core.display.Javascript object>"
      ]
     },
     "metadata": {},
     "output_type": "display_data"
    }
   ],
   "source": [
    "%%js\n",
    "let donuts = [\"jelly donut\", \"chocolate donut\", \"glazed donut\"];\n",
    "\n",
    "// Here we are storing the function in a variable\n",
    "// This is called a Function Expression\n",
    "// Apply the map() method to the array donuts\n",
    "let improvedDonuts = donuts.map(myFunction);\n",
    "\n",
    "function myFunction(donut) {\n",
    "  donut += \" hole\";\n",
    "  donut = donut.toUpperCase();\n",
    "  return donut;\n",
    "};\n",
    "\n",
    "element.text(improvedDonuts)"
   ]
  },
  {
   "cell_type": "code",
   "execution_count": 104,
   "metadata": {},
   "outputs": [
    {
     "data": {
      "application/javascript": [
       "// Take the array bills and add 15% to each value and return a new array callled total\n",
       "\n",
       "const bills = [50.23, 19.12, 34.01, 100.11, 12.15, 9.90, \n",
       "               29.11, 12.99, 10.00, 99.22, 102.20, 100.10, \n",
       "               6.77, 2.22];\n",
       "//  map function addTip to each value in the bills array and return new array\n",
       "let totals = bills.map(addTip);\n",
       "\n",
       "// parseFloat will convert string to float\n",
       "function addTip(price){\n",
       "    price * 1.15;\n",
       "    price = parseFloat(price.toFixed(2));\n",
       "    return price\n",
       "};\n",
       "\n",
       "element.text(totals);\n"
      ],
      "text/plain": [
       "<IPython.core.display.Javascript object>"
      ]
     },
     "metadata": {},
     "output_type": "display_data"
    }
   ],
   "source": [
    "%%js\n",
    "// Take the array bills and add 15% to each value and return a new array callled total\n",
    "\n",
    "const bills = [50.23, 19.12, 34.01, 100.11, 12.15, 9.90, \n",
    "               29.11, 12.99, 10.00, 99.22, 102.20, 100.10, \n",
    "               6.77, 2.22];\n",
    "//  map function addTip to each value in the bills array and return new array\n",
    "let totals = bills.map(addTip);\n",
    "\n",
    "// parseFloat will convert string to float\n",
    "function addTip(price){\n",
    "    price * 1.15;\n",
    "    price = parseFloat(price.toFixed(2));\n",
    "    return price\n",
    "};\n",
    "\n",
    "element.text(totals);"
   ]
  },
  {
   "cell_type": "markdown",
   "metadata": {},
   "source": [
    "### Using the Fat Arrow & Map"
   ]
  },
  {
   "cell_type": "code",
   "execution_count": 103,
   "metadata": {},
   "outputs": [
    {
     "data": {
      "application/javascript": [
       "// We can try doing the same but use the fat arrow =>\n",
       "\n",
       "const bills = [50.23, 19.12, 34.01, 100.11, 12.15, 9.90, \n",
       "               29.11, 12.99, 10.00, 99.22, 102.20, 100.10, \n",
       "               6.77, 2.22];\n",
       "\n",
       "let totals = bills.map(price => {\n",
       "    price * 1.15;\n",
       "    price = parseFloat(price.toFixed(2));\n",
       "    return price\n",
       "});\n",
       "\n",
       "element.text(totals);\n"
      ],
      "text/plain": [
       "<IPython.core.display.Javascript object>"
      ]
     },
     "metadata": {},
     "output_type": "display_data"
    }
   ],
   "source": [
    "%%js\n",
    "// We can try doing the same but use the fat arrow =>\n",
    "\n",
    "const bills = [50.23, 19.12, 34.01, 100.11, 12.15, 9.90, \n",
    "               29.11, 12.99, 10.00, 99.22, 102.20, 100.10, \n",
    "               6.77, 2.22];\n",
    "\n",
    "let totals = bills.map(price => {\n",
    "    price * 1.15;\n",
    "    price = parseFloat(price.toFixed(2));\n",
    "    return price\n",
    "});\n",
    "\n",
    "element.text(totals);"
   ]
  },
  {
   "cell_type": "markdown",
   "metadata": {},
   "source": [
    "## The Map Method Python \n",
    "* `map(function, sequence)` where:\n",
    "  * *function* can be lambda or def\n",
    "  * *sequence* can be a list, dictionary, tuple, set\n",
    "* Map will take the function and apply it to each element of the sequence"
   ]
  },
  {
   "cell_type": "code",
   "execution_count": 105,
   "metadata": {},
   "outputs": [
    {
     "name": "stdout",
     "output_type": "stream",
     "text": [
      "[50.23, 19.12, 34.01, 100.11, 12.15, 9.9, 29.11, 12.99, 10.0, 99.22, 102.2, 100.1, 6.77, 2.22]\n"
     ]
    }
   ],
   "source": [
    "bills = [50.23, 19.12, 34.01, 100.11, 12.15, 9.90, \n",
    "        29.11, 12.99, 10.00, 99.22, 102.20, 100.10, \n",
    "        6.77, 2.22]\n",
    "\n",
    "def add_tip(bill):\n",
    "    bill * 1.15\n",
    "    return round(bill,2)\n",
    "\n",
    "totals = list(map(add_tip, bills))\n",
    "print(totals)"
   ]
  },
  {
   "cell_type": "markdown",
   "metadata": {},
   "source": [
    "### Using Lambda & Map\n",
    "To make the above shorter we can replace the `def` with `lambda`. Lets breakdown what is going on below. \n",
    "\n",
    "There is a list of values that will be passed into the map method as the second parameter. Map knows it needs to take the given function and apply it to each element within the list. \n",
    "\n",
    "Lambda is the function passed as the first argument. `x` represents the element within the list and we are adding 15% and rounding the result. Then everything is wrapped within `list()` indicating we want a list of new values returned. "
   ]
  },
  {
   "cell_type": "code",
   "execution_count": 106,
   "metadata": {},
   "outputs": [
    {
     "name": "stdout",
     "output_type": "stream",
     "text": [
      "[57.76, 21.99, 39.11, 115.13, 13.97, 11.38, 33.48, 14.94, 11.5, 114.1, 117.53, 115.11, 7.79, 2.55]\n"
     ]
    }
   ],
   "source": [
    "bills = [50.23, 19.12, 34.01, 100.11, 12.15, 9.90, \n",
    "        29.11, 12.99, 10.00, 99.22, 102.20, 100.10, \n",
    "        6.77, 2.22]\n",
    "totals = list(map(lambda x: round(x * 1.15,2),bills))\n",
    "print(totals)"
   ]
  },
  {
   "cell_type": "markdown",
   "metadata": {},
   "source": []
  },
  {
   "cell_type": "code",
   "execution_count": null,
   "metadata": {},
   "outputs": [],
   "source": []
  },
  {
   "cell_type": "code",
   "execution_count": null,
   "metadata": {},
   "outputs": [],
   "source": []
  },
  {
   "cell_type": "code",
   "execution_count": null,
   "metadata": {},
   "outputs": [],
   "source": []
  }
 ],
 "metadata": {
  "hide_input": false,
  "kernelspec": {
   "display_name": "Python 3",
   "language": "python",
   "name": "python3"
  },
  "language_info": {
   "codemirror_mode": {
    "name": "ipython",
    "version": 3
   },
   "file_extension": ".py",
   "mimetype": "text/x-python",
   "name": "python",
   "nbconvert_exporter": "python",
   "pygments_lexer": "ipython3",
   "version": "3.7.7"
  },
  "latex_envs": {
   "LaTeX_envs_menu_present": true,
   "autoclose": false,
   "autocomplete": true,
   "bibliofile": "biblio.bib",
   "cite_by": "apalike",
   "current_citInitial": 1,
   "eqLabelWithNumbers": true,
   "eqNumInitial": 1,
   "hotkeys": {
    "equation": "Ctrl-E",
    "itemize": "Ctrl-I"
   },
   "labels_anchors": false,
   "latex_user_defs": false,
   "report_style_numbering": false,
   "user_envs_cfg": false
  },
  "toc": {
   "base_numbering": 1,
   "nav_menu": {},
   "number_sections": true,
   "sideBar": true,
   "skip_h1_title": false,
   "title_cell": "Table of Contents",
   "title_sidebar": "Contents",
   "toc_cell": false,
   "toc_position": {},
   "toc_section_display": true,
   "toc_window_display": false
  },
  "varInspector": {
   "cols": {
    "lenName": 16,
    "lenType": 16,
    "lenVar": 40
   },
   "kernels_config": {
    "python": {
     "delete_cmd_postfix": "",
     "delete_cmd_prefix": "del ",
     "library": "var_list.py",
     "varRefreshCmd": "print(var_dic_list())"
    },
    "r": {
     "delete_cmd_postfix": ") ",
     "delete_cmd_prefix": "rm(",
     "library": "var_list.r",
     "varRefreshCmd": "cat(var_dic_list()) "
    }
   },
   "types_to_exclude": [
    "module",
    "function",
    "builtin_function_or_method",
    "instance",
    "_Feature"
   ],
   "window_display": false
  }
 },
 "nbformat": 4,
 "nbformat_minor": 4
}
