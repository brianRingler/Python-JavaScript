{
 "cells": [
  {
   "cell_type": "markdown",
   "metadata": {},
   "source": [
    "# More Popular Methods\n",
    "Note, when reading JS documentation you will see the word `callback`. I spent hours waiting by my phone until I finally learned the actual meaning. When you see callback it means the function will be called for every item. Thus, there should be a function in-place of callback.   \n",
    "\n",
    "**JavaScript**\n",
    "* `.sort([compareFunction])` The sort() method sorts the elements of a typed array numerically in place and returns the typed array. This method has the same algorithm as Array.prototype.sort(), except that sorts the values numerically instead of as strings. \n",
    "\n",
    "* `.reduce(callback[, initialValue])`The reduce() method applies a function against an accumulator and each value of the typed array (from left-to-right) has to reduce it to a single value.\n",
    "\n",
    "**Python**\n",
    "* `sort(function, sequence)`  "
   ]
  },
  {
   "cell_type": "markdown",
   "metadata": {},
   "source": [
    "## Sort"
   ]
  },
  {
   "cell_type": "code",
   "execution_count": 15,
   "metadata": {},
   "outputs": [
    {
     "data": {
      "application/javascript": [
       "const inventors = [\n",
       "  { first: 'Albert', last: 'Einstein', year: 1879, passed: 1955 },\n",
       "  { first: 'Isaac', last: 'Newton', year: 1643, passed: 1727 },\n",
       "  { first: 'Galileo', last: 'Galilei', year: 1564, passed: 1642 },\n",
       "  { first: 'Marie', last: 'Curie', year: 1867, passed: 1934 },\n",
       "  { first: 'Johannes', last: 'Kepler', year: 1571, passed: 1630 },\n",
       "  { first: 'Nicolaus', last: 'Copernicus', year: 1473, passed: 1543 },\n",
       "  { first: 'Max', last: 'Planck', year: 1858, passed: 1947 },\n",
       "  { first: 'Katherine', last: 'Blodgett', year: 1898, passed: 1979 },\n",
       "  { first: 'Ada', last: 'Lovelace', year: 1815, passed: 1852 },\n",
       "  { first: 'Sarah E.', last: 'Goode', year: 1855, passed: 1905 },\n",
       "  { first: 'Lise', last: 'Meitner', year: 1878, passed: 1968 },\n",
       "  { first: 'Hanna', last: 'Hammarström', year: 1829, passed: 1909 }\n",
       "];\n",
       "\n",
       "const oldToYoung = inventors.sort((a, b) => a.year > b.year ? 1 : -1);\n",
       "element.text(oldToYoung[0]['year']);\n",
       "// element.text(oldToYoung[11]['year']);\n"
      ],
      "text/plain": [
       "<IPython.core.display.Javascript object>"
      ]
     },
     "metadata": {},
     "output_type": "display_data"
    }
   ],
   "source": [
    "%%js\n",
    "const inventors = [\n",
    "  { first: 'Albert', last: 'Einstein', year: 1879, passed: 1955 },\n",
    "  { first: 'Isaac', last: 'Newton', year: 1643, passed: 1727 },\n",
    "  { first: 'Galileo', last: 'Galilei', year: 1564, passed: 1642 },\n",
    "  { first: 'Marie', last: 'Curie', year: 1867, passed: 1934 },\n",
    "  { first: 'Johannes', last: 'Kepler', year: 1571, passed: 1630 },\n",
    "  { first: 'Nicolaus', last: 'Copernicus', year: 1473, passed: 1543 },\n",
    "  { first: 'Max', last: 'Planck', year: 1858, passed: 1947 },\n",
    "  { first: 'Katherine', last: 'Blodgett', year: 1898, passed: 1979 },\n",
    "  { first: 'Ada', last: 'Lovelace', year: 1815, passed: 1852 },\n",
    "  { first: 'Sarah E.', last: 'Goode', year: 1855, passed: 1905 },\n",
    "  { first: 'Lise', last: 'Meitner', year: 1878, passed: 1968 },\n",
    "  { first: 'Hanna', last: 'Hammarström', year: 1829, passed: 1909 }\n",
    "];\n",
    "\n",
    "const oldToYoung = inventors.sort((a, b) => a.year > b.year ? 1 : -1);\n",
    "element.text(oldToYoung[0]['year']);\n",
    "// element.text(oldToYoung[11]['year']);"
   ]
  },
  {
   "cell_type": "code",
   "execution_count": null,
   "metadata": {},
   "outputs": [],
   "source": [
    "# add python example sort "
   ]
  },
  {
   "cell_type": "code",
   "execution_count": null,
   "metadata": {},
   "outputs": [],
   "source": []
  },
  {
   "cell_type": "markdown",
   "metadata": {},
   "source": [
    "## Reduce "
   ]
  },
  {
   "cell_type": "markdown",
   "metadata": {},
   "source": [
    "### JavaScript Reduce Details \n",
    "The reduce method executes the callback function once for each element present in the typed array, excluding holes in the typed array, receiving four arguments: the initial value (or value from the previous callback call), the value of the current element, the current index, and the typed array over which iteration is occurring.\n",
    "\n",
    "The first time the callback is called, `previousValue` and `currentValue` can be one of two values. If `initialValue` is provided in the call to reduce, then `previousValue` will be equal to `initialValue` and `currentValue` will be equal to the first value in the typed array. If no `initialValue` was provided, then `previousValue` will be equal to the first value in the typed array and `currentValue` will be equal to the second.\n",
    "\n",
    "If the typed array is empty and no `initialValue` was provided, `TypeError` would be thrown. If the typed array has only one element (regardless of position) and no `initialValue` was provided, or if `initialValue` is provided but the typed array is empty, the solo value would be returned without calling callback."
   ]
  },
  {
   "cell_type": "code",
   "execution_count": null,
   "metadata": {},
   "outputs": [],
   "source": [
    "%%js\n",
    "\n",
    "const inventors = [\n",
    "  { first: 'Albert', last: 'Einstein', year: 1879, passed: 1955 },\n",
    "  { first: 'Isaac', last: 'Newton', year: 1643, passed: 1727 },\n",
    "  { first: 'Galileo', last: 'Galilei', year: 1564, passed: 1642 },\n",
    "  { first: 'Marie', last: 'Curie', year: 1867, passed: 1934 },\n",
    "  { first: 'Johannes', last: 'Kepler', year: 1571, passed: 1630 },\n",
    "  { first: 'Nicolaus', last: 'Copernicus', year: 1473, passed: 1543 },\n",
    "  { first: 'Max', last: 'Planck', year: 1858, passed: 1947 },\n",
    "  { first: 'Katherine', last: 'Blodgett', year: 1898, passed: 1979 },\n",
    "  { first: 'Ada', last: 'Lovelace', year: 1815, passed: 1852 },\n",
    "  { first: 'Sarah E.', last: 'Goode', year: 1855, passed: 1905 },\n",
    "  { first: 'Lise', last: 'Meitner', year: 1878, passed: 1968 },\n",
    "  { first: 'Hanna', last: 'Hammarström', year: 1829, passed: 1909 }\n",
    "];\n",
    "\n",
    "const totalYears = inventors.reduce((total, inventor) => {\n",
    "    return total + (inventor.passed - inventor.year);\n",
    "}, 0);\n",
    "\n",
    "element.text(`Total Years Living: ${totalYears}`);"
   ]
  },
  {
   "cell_type": "code",
   "execution_count": null,
   "metadata": {},
   "outputs": [],
   "source": [
    "# add python reduce example "
   ]
  },
  {
   "cell_type": "code",
   "execution_count": null,
   "metadata": {},
   "outputs": [],
   "source": []
  },
  {
   "cell_type": "code",
   "execution_count": null,
   "metadata": {},
   "outputs": [],
   "source": []
  },
  {
   "cell_type": "code",
   "execution_count": null,
   "metadata": {},
   "outputs": [],
   "source": []
  },
  {
   "cell_type": "code",
   "execution_count": null,
   "metadata": {},
   "outputs": [],
   "source": []
  },
  {
   "cell_type": "code",
   "execution_count": null,
   "metadata": {},
   "outputs": [],
   "source": []
  },
  {
   "cell_type": "code",
   "execution_count": null,
   "metadata": {},
   "outputs": [],
   "source": []
  },
  {
   "cell_type": "code",
   "execution_count": null,
   "metadata": {},
   "outputs": [],
   "source": []
  },
  {
   "cell_type": "code",
   "execution_count": null,
   "metadata": {},
   "outputs": [],
   "source": []
  }
 ],
 "metadata": {
  "hide_input": false,
  "kernelspec": {
   "display_name": "Python 3",
   "language": "python",
   "name": "python3"
  },
  "language_info": {
   "codemirror_mode": {
    "name": "ipython",
    "version": 3
   },
   "file_extension": ".py",
   "mimetype": "text/x-python",
   "name": "python",
   "nbconvert_exporter": "python",
   "pygments_lexer": "ipython3",
   "version": "3.7.7"
  },
  "latex_envs": {
   "LaTeX_envs_menu_present": true,
   "autoclose": false,
   "autocomplete": true,
   "bibliofile": "biblio.bib",
   "cite_by": "apalike",
   "current_citInitial": 1,
   "eqLabelWithNumbers": true,
   "eqNumInitial": 1,
   "hotkeys": {
    "equation": "Ctrl-E",
    "itemize": "Ctrl-I"
   },
   "labels_anchors": false,
   "latex_user_defs": false,
   "report_style_numbering": false,
   "user_envs_cfg": false
  },
  "toc": {
   "base_numbering": 1,
   "nav_menu": {},
   "number_sections": true,
   "sideBar": true,
   "skip_h1_title": false,
   "title_cell": "Table of Contents",
   "title_sidebar": "Contents",
   "toc_cell": false,
   "toc_position": {},
   "toc_section_display": true,
   "toc_window_display": false
  },
  "varInspector": {
   "cols": {
    "lenName": 16,
    "lenType": 16,
    "lenVar": 40
   },
   "kernels_config": {
    "python": {
     "delete_cmd_postfix": "",
     "delete_cmd_prefix": "del ",
     "library": "var_list.py",
     "varRefreshCmd": "print(var_dic_list())"
    },
    "r": {
     "delete_cmd_postfix": ") ",
     "delete_cmd_prefix": "rm(",
     "library": "var_list.r",
     "varRefreshCmd": "cat(var_dic_list()) "
    }
   },
   "types_to_exclude": [
    "module",
    "function",
    "builtin_function_or_method",
    "instance",
    "_Feature"
   ],
   "window_display": false
  }
 },
 "nbformat": 4,
 "nbformat_minor": 4
}
