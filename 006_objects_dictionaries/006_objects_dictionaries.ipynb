{
 "cells": [
  {
   "cell_type": "markdown",
   "metadata": {},
   "source": [
    "***\n",
    "# Objects and Dictionaries \n",
    "***\n",
    "In Python a Dictionary is equivalent to a Object in JavaScript. However, the word Object can be used to describe more than an Object that has the **`key:value`** pair structure.  \n",
    "\n",
    "## What are Dictionaries / Objects?\n",
    "* Dictionaries are made up of a `Key` and `Value`\n",
    "  * __Dictionary Key:__ A value then, when passed into a dictionary, returns a corresponding value, like a word and its definition. Similar to a variable.\n",
    "  * __Dictionary Value:__ A value returned in response to a key in a dictionary. Similar to a value of a variable outside a dictionary.\n",
    "  \n",
    "* Dictionaries can give names to the values it has been assigned.\n",
    "* Dictionaries **DO NOT** guarantee the order of items within it like a list.\n",
    "* Dictionaries use **KEYS** not a numeric index like a list or tuple.\n"
   ]
  },
  {
   "cell_type": "markdown",
   "metadata": {},
   "source": [
    "**JavaScript** \n",
    "\n",
    "A simple Object in JS. Note that the keys of the object do not have to be enclosed in single or double quotes. This does determine how they can be accessed...which we discuss later. Also, notice the boolean in value `true` and compare that with Python.\n",
    "\n",
    "```    \n",
    "const language =    {\n",
    "                    user: 'Steve'\n",
    "                    language: 'JavaScript',\n",
    "                    release: 1995,\n",
    "                    popular: true,\n",
    "                    }\n",
    "```"
   ]
  },
  {
   "cell_type": "markdown",
   "metadata": {},
   "source": [
    "**Python** \n",
    "\n",
    "A simple Dictionary in Python. Note that in Python the keys need to be enclosed in `' '` or `\" \"`.  The keys are user, language, release, popular and the values are Steve, Python, 1989 and True. ALso, note the value for popular is a boolean. In JS it is all lower case and Python the `T` is uppercase. \n",
    "\n",
    "```    \n",
    "user =          {\n",
    "                    'user': 'Monty'\n",
    "                    'language': 'Python',\n",
    "                    'release': 1989,\n",
    "                    'popular': True,\n",
    "                    }\n",
    "```"
   ]
  },
  {
   "cell_type": "markdown",
   "metadata": {},
   "source": [
    "Here we will create an object called `user` and return the users name and language they like best for programming.  Using **.** notation allows us to access the value of each key.  Note, the use of dot notation only works if the `key` is NOT enclosed in single or double quotes. \n",
    "* `user.name`\n",
    "* `user.language`\n",
    "\n",
    "You can also use brackets to access the value through the key.  This requires the key to be enclosed in single or double brackets.  \n",
    "* `user['name']`\n",
    "* `user[\"language\"]`"
   ]
  },
  {
   "cell_type": "code",
   "execution_count": 1,
   "metadata": {},
   "outputs": [
    {
     "data": {
      "application/javascript": [
       "const user =  {\n",
       "                    name: 'Steve',\n",
       "                    language: 'JavaScript',\n",
       "                    release: 1995,\n",
       "                    popular: true,\n",
       "                    }\n",
       "element.text(`${user.name}\\'s language of choice is ${user.language}`);\n"
      ],
      "text/plain": [
       "<IPython.core.display.Javascript object>"
      ]
     },
     "metadata": {},
     "output_type": "display_data"
    }
   ],
   "source": [
    "%%js\n",
    "const user =  {\n",
    "                    name: 'Steve',\n",
    "                    language: 'JavaScript',\n",
    "                    release: 1995,\n",
    "                    popular: true,\n",
    "                    }\n",
    "element.text(`${user.name}\\'s language of choice is ${user.language}`);"
   ]
  },
  {
   "cell_type": "code",
   "execution_count": 2,
   "metadata": {},
   "outputs": [
    {
     "data": {
      "application/javascript": [
       "const user =  {\n",
       "                    name: 'Steve',\n",
       "                    language: 'JavaScript',\n",
       "                    release: 1995,\n",
       "                    popular: true,\n",
       "                    }\n",
       "element.text(`${user['name']}\\'s language of choice is ${user['language']}`);\n"
      ],
      "text/plain": [
       "<IPython.core.display.Javascript object>"
      ]
     },
     "metadata": {},
     "output_type": "display_data"
    }
   ],
   "source": [
    "%%js\n",
    "const user =  {\n",
    "                    name: 'Steve',\n",
    "                    language: 'JavaScript',\n",
    "                    release: 1995,\n",
    "                    popular: true,\n",
    "                    }\n",
    "element.text(`${user['name']}\\'s language of choice is ${user['language']}`);"
   ]
  },
  {
   "cell_type": "markdown",
   "metadata": {},
   "source": [
    "Now with Python we need to make a few modifications. First we need to remove `const` when creating the dictionary. Then enclose each key within single or double quotes. Lastly, we access the `key:value` using brackets `['key']` with the key wrapped in single or double quotes. "
   ]
  },
  {
   "cell_type": "code",
   "execution_count": 15,
   "metadata": {},
   "outputs": [
    {
     "name": "stdout",
     "output_type": "stream",
     "text": [
      "Steve's language of choice is Python\n"
     ]
    }
   ],
   "source": [
    "user =  {\n",
    "            'name': 'Steve',\n",
    "            'language': 'Python',\n",
    "            'release': 1989,\n",
    "            'popular': True,\n",
    "            }\n",
    "print(f\"{user['name']}\\'s language of choice is {user['language']}\")"
   ]
  },
  {
   "cell_type": "markdown",
   "metadata": {},
   "source": [
    "## Keys and Values \n",
    "Now that we understand what the keys and values are lets take a look at how we can access all of the keys and values.  In JavaScript you will use the keyword **Object** then the keyword keys or values. In Python is is just the name of the dictionary followed by keys or values.  Note, that both languages return an object. Thus, if you want to access the values additional work is required.    \n",
    "\n",
    "**JavaScript**\n",
    "* `Object.keys(objectName)`\n",
    "* `Object.values(obectName)`\n",
    "\n",
    "**Python**\n",
    "* `dictionary_name.keys()`\n",
    "* `dictionary_name.values()`"
   ]
  },
  {
   "cell_type": "code",
   "execution_count": 3,
   "metadata": {},
   "outputs": [
    {
     "data": {
      "application/javascript": [
       "// return all of the keys of the object user\n",
       "const user =  {\n",
       "                    name: 'Steve',\n",
       "                    language: 'JavaScript',\n",
       "                    release: 1995,\n",
       "                    popular: true,\n",
       "                    }\n",
       "element.text(Object.keys(user));\n"
      ],
      "text/plain": [
       "<IPython.core.display.Javascript object>"
      ]
     },
     "metadata": {},
     "output_type": "display_data"
    }
   ],
   "source": [
    "%%js\n",
    "// return all of the keys of the object user\n",
    "const user =  {\n",
    "                    name: 'Steve',\n",
    "                    language: 'JavaScript',\n",
    "                    release: 1995,\n",
    "                    popular: true,\n",
    "                    }\n",
    "element.text(Object.keys(user));"
   ]
  },
  {
   "cell_type": "code",
   "execution_count": 4,
   "metadata": {},
   "outputs": [
    {
     "data": {
      "application/javascript": [
       "// retrun all the values of the object user\n",
       "const user =  {\n",
       "                    name: 'Steve',\n",
       "                    language: 'JavaScript',\n",
       "                    release: 1995,\n",
       "                    popular: true,\n",
       "                    }\n",
       "element.text(Object.values(user));\n"
      ],
      "text/plain": [
       "<IPython.core.display.Javascript object>"
      ]
     },
     "metadata": {},
     "output_type": "display_data"
    }
   ],
   "source": [
    "%%js\n",
    "// retrun all the values of the object user\n",
    "const user =  {\n",
    "                    name: 'Steve',\n",
    "                    language: 'JavaScript',\n",
    "                    release: 1995,\n",
    "                    popular: true,\n",
    "                    }\n",
    "element.text(Object.values(user));"
   ]
  },
  {
   "cell_type": "code",
   "execution_count": 31,
   "metadata": {},
   "outputs": [
    {
     "name": "stdout",
     "output_type": "stream",
     "text": [
      "dict_keys(['name', 'language', 'release', 'popular'])\n",
      "------------------------------------------------------------------------------------------\n",
      "dict_values(['Steve', 'Python', 1989, True])\n"
     ]
    }
   ],
   "source": [
    "# Python return all of the keys and values \n",
    "user =  {\n",
    "            'name': 'Steve',\n",
    "            'language': 'Python',\n",
    "            'release': 1989,\n",
    "            'popular': True,\n",
    "            }\n",
    "\n",
    "print(user.keys())\n",
    "print('--'*45)\n",
    "print(user.values())"
   ]
  },
  {
   "cell_type": "markdown",
   "metadata": {},
   "source": [
    "Here we are going to assign all of the keys to the variable keyValues and access them using bracket indexing to return `name` and `popular`. "
   ]
  },
  {
   "cell_type": "code",
   "execution_count": 5,
   "metadata": {},
   "outputs": [
    {
     "data": {
      "application/javascript": [
       "// return all if the keys of the object user\n",
       "const user =  {\n",
       "                    name: 'Steve',\n",
       "                    language: 'JavaScript',\n",
       "                    release: 1995,\n",
       "                    popular: true,\n",
       "                    }\n",
       "const keyValues = Object.keys(user)\n",
       "element.text(`${keyValues[0]}, ${keyValues[3]}`);\n"
      ],
      "text/plain": [
       "<IPython.core.display.Javascript object>"
      ]
     },
     "metadata": {},
     "output_type": "display_data"
    }
   ],
   "source": [
    "%%js\n",
    "// return all if the keys of the object user\n",
    "const user =  {\n",
    "                    name: 'Steve',\n",
    "                    language: 'JavaScript',\n",
    "                    release: 1995,\n",
    "                    popular: true,\n",
    "                    }\n",
    "const keyValues = Object.keys(user)\n",
    "element.text(`${keyValues[0]}, ${keyValues[3]}`);"
   ]
  },
  {
   "cell_type": "markdown",
   "metadata": {},
   "source": [
    "Note, with Python we convert to a `list` then access the values using the brackets like we did in JS. "
   ]
  },
  {
   "cell_type": "code",
   "execution_count": 38,
   "metadata": {},
   "outputs": [
    {
     "name": "stdout",
     "output_type": "stream",
     "text": [
      "name, popular\n"
     ]
    }
   ],
   "source": [
    "user =  {\n",
    "            'name': 'Steve',\n",
    "            'language': 'Python',\n",
    "            'release': 1989,\n",
    "            'popular': True,\n",
    "            }\n",
    "key_values = list(user.keys())\n",
    "print(f\"{key_values[0]}, {key_values[3]}\")"
   ]
  },
  {
   "cell_type": "markdown",
   "metadata": {},
   "source": [
    "## More with Objects / Dictionaries "
   ]
  },
  {
   "cell_type": "markdown",
   "metadata": {},
   "source": [
    "Here we will use a **function** with objects/dictionaries to return required values. First, we will create a `function` called **personAge** that will take two arguments: person, key. The first input is the object and the second is the key of that desired value."
   ]
  },
  {
   "cell_type": "code",
   "execution_count": 11,
   "metadata": {},
   "outputs": [
    {
     "data": {
      "application/javascript": [
       "const person = {\n",
       "    age: 18,\n",
       "    first_name: \"Jennifer\",\n",
       "    last_name: \"Doe\"\n",
       "}\n",
       "\n",
       "//Here we are using the brackets to access the key \"age\"\n",
       "function personAge(person, k){\n",
       "    return person[k]\n",
       "}\n",
       "\n",
       "element.text(personAge(person, \"age\"));\n"
      ],
      "text/plain": [
       "<IPython.core.display.Javascript object>"
      ]
     },
     "metadata": {},
     "output_type": "display_data"
    }
   ],
   "source": [
    "%%js\n",
    "const person = {\n",
    "    age: 18,\n",
    "    first_name: \"Jennifer\",\n",
    "    last_name: \"Doe\"\n",
    "}\n",
    "\n",
    "//Here we are using the brackets to access the key \"age\"\n",
    "function personAge(person, k){\n",
    "    return person[k]\n",
    "}\n",
    "\n",
    "element.text(personAge(person, \"age\"));"
   ]
  },
  {
   "cell_type": "code",
   "execution_count": 13,
   "metadata": {},
   "outputs": [
    {
     "name": "stdout",
     "output_type": "stream",
     "text": [
      "18\n"
     ]
    }
   ],
   "source": [
    "# With Python. Recall the keys in the dictionary must be in single our double quotes\n",
    "person = {\n",
    "    'age': 18,\n",
    "    'first_name': \"Jennifer\",\n",
    "    'last_name': \"Doe\"\n",
    "}\n",
    "\n",
    "def person_age(person, k):\n",
    "    return person[k]\n",
    "\n",
    "print(person_age(person, \"age\"))"
   ]
  },
  {
   "cell_type": "markdown",
   "metadata": {},
   "source": [
    "**`Concatenate`** \n",
    "What if we want to join 2 objects/dictionaries together? We can do this a couple different ways.\n",
    "\n",
    "**JS**\n",
    "* Use the spread operator `{...object1 ...object2}`. Note, that order matters. The object on the left will be updated by the key, values of object on the right. \n",
    "\n",
    "**Python**\n",
    "* update() - With Python we can use `update()`. Like JS order matters as the dictionary in the parenthesis will be applied to the first dictionary.  "
   ]
  },
  {
   "cell_type": "markdown",
   "metadata": {},
   "source": [
    "Below the result shows  [object object]. You can run this in the console and it will return the below. \n",
    "```\n",
    "{\n",
    "    name:\"John\",\n",
    "    age: 25,\n",
    "}"
   ]
  },
  {
   "cell_type": "code",
   "execution_count": 14,
   "metadata": {},
   "outputs": [
    {
     "data": {
      "application/javascript": [
       "\n",
       "const firstPerson = {\n",
       "    name: \"John\",\n",
       "    age: 18\n",
       "}\n",
       "\n",
       "const secondPerson = {\n",
       "    age: 25\n",
       "}\n",
       "\n",
       "const mergedObjects = {...firstPerson, ...secondPerson};\n",
       "\n",
       "element.text(mergedObjects)\n"
      ],
      "text/plain": [
       "<IPython.core.display.Javascript object>"
      ]
     },
     "metadata": {},
     "output_type": "display_data"
    }
   ],
   "source": [
    "%%js\n",
    "\n",
    "const firstPerson = {\n",
    "    name: \"John\",\n",
    "    age: 18\n",
    "}\n",
    "\n",
    "const secondPerson = {\n",
    "    age: 25\n",
    "}\n",
    "\n",
    "const mergedObjects = {...firstPerson, ...secondPerson};\n",
    "\n",
    "element.text(mergedObjects)"
   ]
  },
  {
   "cell_type": "code",
   "execution_count": 22,
   "metadata": {},
   "outputs": [
    {
     "name": "stdout",
     "output_type": "stream",
     "text": [
      "{'name': 'John', 'age': 25}\n"
     ]
    }
   ],
   "source": [
    "firstPerson = {\n",
    "    'name': \"John\",\n",
    "    'age': 18\n",
    "}\n",
    "\n",
    "secondPerson = {\n",
    "    'age': 25\n",
    "}\n",
    "\n",
    "firstPerson.update(secondPerson)\n",
    "print(firstPerson)"
   ]
  },
  {
   "cell_type": "markdown",
   "metadata": {},
   "source": [
    "Another example using **JS**. "
   ]
  },
  {
   "cell_type": "code",
   "execution_count": 39,
   "metadata": {},
   "outputs": [
    {
     "data": {
      "application/javascript": [
       "\n",
       "const mergeOptions = (options, defaultOptions) => {\n",
       "    return {...defaultOptions, ...options};\n",
       "}\n",
       "\n",
       "//sample usage\n",
       "const options = {\n",
       "    tabSize: 4,\n",
       "};\n",
       "\n",
       "const defaultOptions = {\n",
       "    indentation: 'tab',\n",
       "    tabSize: 2,\n",
       "    language: 'javascript',\n",
       "};\n",
       "\n",
       "element.text(mergeOptions(options, defaultOptions));\n",
       "\n",
       "// should return: {indentation: tab, tabSize: 4, language: javascript}\n",
       "// Note that order matters right will replace the left if they match\n"
      ],
      "text/plain": [
       "<IPython.core.display.Javascript object>"
      ]
     },
     "metadata": {},
     "output_type": "display_data"
    }
   ],
   "source": [
    "%%js\n",
    "\n",
    "const mergeOptions = (options, defaultOptions) => {\n",
    "    return {...defaultOptions, ...options};\n",
    "}\n",
    "\n",
    "//sample usage\n",
    "const options = {\n",
    "    tabSize: 4,\n",
    "};\n",
    "\n",
    "const defaultOptions = {\n",
    "    indentation: 'tab',\n",
    "    tabSize: 2,\n",
    "    language: 'javascript',\n",
    "};\n",
    "\n",
    "element.text(mergeOptions(options, defaultOptions));\n",
    "\n",
    "// should return: {indentation: tab, tabSize: 4, language: javascript}\n",
    "// Note that order matters right will replace the left if they match"
   ]
  },
  {
   "cell_type": "markdown",
   "metadata": {},
   "source": [
    "**`Destructuring`**\n",
    "This is a nicer syntax that lets you extract multiple properties from an object. If we want to create two variables `first_name` and `last_name` we could do it as follows."
   ]
  },
  {
   "cell_type": "code",
   "execution_count": 30,
   "metadata": {},
   "outputs": [
    {
     "data": {
      "application/javascript": [
       "\n",
       "const person = {\n",
       "    'first':'Tucker',\n",
       "    'last': 'Smith',\n",
       "    'age': 10\n",
       "}\n",
       "\n",
       "const first_name = person.first;\n",
       "const last_name = person.last;\n",
       "\n",
       "element.text(`${first_name}, ${last_name}`);\n",
       "\n"
      ],
      "text/plain": [
       "<IPython.core.display.Javascript object>"
      ]
     },
     "metadata": {},
     "output_type": "display_data"
    }
   ],
   "source": [
    "%%js\n",
    "\n",
    "const person = {\n",
    "    'first':'Tucker',\n",
    "    'last': 'Smith',\n",
    "    'age': 10\n",
    "}\n",
    "\n",
    "const first_name = person.first;\n",
    "const last_name = person.last;\n",
    "\n",
    "element.text(`${first_name}, ${last_name}`);"
   ]
  },
  {
   "cell_type": "code",
   "execution_count": 35,
   "metadata": {},
   "outputs": [
    {
     "data": {
      "application/javascript": [
       "\n",
       "//Using a single line DESTRUCTURING \n",
       "\n",
       "const person = {\n",
       "    'first':'Tucker',\n",
       "    'last': 'Smith',\n",
       "    'age': 10\n",
       "}\n",
       "\n",
       "\n",
       "const {first, last}  = person;\n",
       "\n",
       "\n",
       "element.text(`${first}, ${last}`);\n"
      ],
      "text/plain": [
       "<IPython.core.display.Javascript object>"
      ]
     },
     "metadata": {},
     "output_type": "display_data"
    }
   ],
   "source": [
    "%%js\n",
    "\n",
    "//Using a single line DESTRUCTURING \n",
    "\n",
    "const person = {\n",
    "    'first':'Tucker',\n",
    "    'last': 'Smith',\n",
    "    'age': 10\n",
    "}\n",
    "\n",
    "\n",
    "const {first, last}  = person;\n",
    "\n",
    "\n",
    "element.text(`${first}, ${last}`);"
   ]
  },
  {
   "cell_type": "code",
   "execution_count": 6,
   "metadata": {},
   "outputs": [
    {
     "data": {
      "application/javascript": [
       "const users =  { \n",
       "                id: 0,\n",
       "                { name: 'Steve',\n",
       "                  language: 'Python',\n",
       "                  release: 1989,\n",
       "                  popular: True,\n",
       "                }\n",
       "    \n",
       "                id:1,\n",
       "                { name: 'Steve',\n",
       "                  language: 'JavaScript',\n",
       "                  release: 1995,\n",
       "                  popular: true,\n",
       "                }\n",
       "                }\n",
       "element.text(users.id[1])\n"
      ],
      "text/plain": [
       "<IPython.core.display.Javascript object>"
      ]
     },
     "metadata": {},
     "output_type": "display_data"
    }
   ],
   "source": [
    "%%js\n",
    "const users =  { \n",
    "                id: 0,\n",
    "                { name: 'Steve',\n",
    "                  language: 'Python',\n",
    "                  release: 1989,\n",
    "                  popular: True,\n",
    "                }\n",
    "    \n",
    "                id:1,\n",
    "                { name: 'Steve',\n",
    "                  language: 'JavaScript',\n",
    "                  release: 1995,\n",
    "                  popular: true,\n",
    "                }\n",
    "                }\n",
    "element.text(users.id[1])"
   ]
  },
  {
   "cell_type": "markdown",
   "metadata": {},
   "source": [
    "## Object Examples"
   ]
  },
  {
   "cell_type": "markdown",
   "metadata": {},
   "source": [
    "For one `key` we want to work with all of the `values` in that key. In this example we want to sum the grades for the student. The first approach will be using **`reduce`** then **`forEach`**.   "
   ]
  },
  {
   "cell_type": "code",
   "execution_count": 46,
   "metadata": {},
   "outputs": [
    {
     "data": {
      "application/javascript": [
       "\n",
       "// SUM all of the grades\n",
       "const getTotalOfGrades = student => {\n",
       "    const adding = (num, total) => {return num + total};\n",
       "    return student['grades'].reduce(adding);\n",
       "}\n",
       "\n",
       "//sample usage\n",
       "const student = {\n",
       "    name: \"Jennifer\",\n",
       "    grades: [10, 6, 14, 3, 18],\n",
       "    age: 17\n",
       "};\n",
       "element.text(getTotalOfGrades(student));\n"
      ],
      "text/plain": [
       "<IPython.core.display.Javascript object>"
      ]
     },
     "metadata": {},
     "output_type": "display_data"
    }
   ],
   "source": [
    "%%js\n",
    "\n",
    "// SUM all of the grades\n",
    "const getTotalOfGrades = student => {\n",
    "    const adding = (num, total) => {return num + total};\n",
    "    return student['grades'].reduce(adding);\n",
    "}\n",
    "\n",
    "//sample usage\n",
    "const student = {\n",
    "    name: \"Jennifer\",\n",
    "    grades: [10, 6, 14, 3, 18],\n",
    "    age: 17\n",
    "};\n",
    "element.text(getTotalOfGrades(student));"
   ]
  },
  {
   "cell_type": "code",
   "execution_count": 47,
   "metadata": {},
   "outputs": [
    {
     "data": {
      "application/javascript": [
       "\n",
       "// SUM all of the grades\n",
       "const getTotalOfGrades = student => {\n",
       "    let sum = 0;\n",
       "    student.grades.forEach(grade => sum += grade);\n",
       "    return sum;\n",
       "}\n",
       "\n",
       "//sample usage\n",
       "const student = {\n",
       "    name: \"Jennifer\",\n",
       "    grades: [10, 6, 14, 3, 18],\n",
       "    age: 17\n",
       "};\n",
       "element.text(getTotalOfGrades(student));\n"
      ],
      "text/plain": [
       "<IPython.core.display.Javascript object>"
      ]
     },
     "metadata": {},
     "output_type": "display_data"
    }
   ],
   "source": [
    "%%js\n",
    "\n",
    "// SUM all of the grades\n",
    "const getTotalOfGrades = student => {\n",
    "    let sum = 0;\n",
    "    student.grades.forEach(grade => sum += grade);\n",
    "    return sum;\n",
    "}\n",
    "\n",
    "//sample usage\n",
    "const student = {\n",
    "    name: \"Jennifer\",\n",
    "    grades: [10, 6, 14, 3, 18],\n",
    "    age: 17\n",
    "};\n",
    "element.text(getTotalOfGrades(student));"
   ]
  },
  {
   "cell_type": "markdown",
   "metadata": {},
   "source": [
    "Now we can try the same thing with Python which is a little simpler. We can use `sum` on the returned list of values and we are done. "
   ]
  },
  {
   "cell_type": "code",
   "execution_count": 50,
   "metadata": {},
   "outputs": [
    {
     "name": "stdout",
     "output_type": "stream",
     "text": [
      "51\n"
     ]
    }
   ],
   "source": [
    "# Python \n",
    "student = {\n",
    "    'name': \"Jennifer\",\n",
    "    'grades': [10, 6, 14, 3, 18],\n",
    "    'age': 17\n",
    "}\n",
    "\n",
    "print(sum(student['grades']))"
   ]
  },
  {
   "cell_type": "markdown",
   "metadata": {},
   "source": [
    "Return the first and last name. "
   ]
  },
  {
   "cell_type": "code",
   "execution_count": 7,
   "metadata": {},
   "outputs": [
    {
     "data": {
      "application/javascript": [
       "const person = {\n",
       "    first_name: \"Jennifer\",\n",
       "    grades: [10, 6, 14, 3, 18],\n",
       "    age: 17,\n",
       "    parents: {\n",
       "        father: {\n",
       "            last_name: \"Doe\"\n",
       "        },\n",
       "        mother: {\n",
       "            last_name: \"Doe\"\n",
       "        }\n",
       "    }\n",
       "};\n",
       "\n",
       "const getFullName = person => {\n",
       "    const parents = person['parents']\n",
       "    const last = parents['father'].last_name    \n",
       "    return person['first_name'] + \" \" + last;\n",
       "}\n",
       "\n",
       "element.text(getFullName(person));\n"
      ],
      "text/plain": [
       "<IPython.core.display.Javascript object>"
      ]
     },
     "metadata": {},
     "output_type": "display_data"
    }
   ],
   "source": [
    "%%js\n",
    "const person = {\n",
    "    first_name: \"Jennifer\",\n",
    "    grades: [10, 6, 14, 3, 18],\n",
    "    age: 17,\n",
    "    parents: {\n",
    "        father: {\n",
    "            last_name: \"Doe\"\n",
    "        },\n",
    "        mother: {\n",
    "            last_name: \"Doe\"\n",
    "        }\n",
    "    }\n",
    "};\n",
    "\n",
    "//With JS using an arrow function \n",
    "const getFullName = person => {\n",
    "    const parents = person['parents']\n",
    "    const last = parents['father'].last_name    \n",
    "    return person['first_name'] + \" \" + last;\n",
    "}\n",
    "\n",
    "element.text(getFullName(person));"
   ]
  },
  {
   "cell_type": "code",
   "execution_count": 14,
   "metadata": {},
   "outputs": [
    {
     "name": "stdout",
     "output_type": "stream",
     "text": [
      "Jennifer Doe\n"
     ]
    }
   ],
   "source": [
    "# Same with Python \n",
    "person = {\n",
    "    'first_name': \"Jennifer\",\n",
    "    'grades': [10, 6, 14, 3, 18],\n",
    "    'age': 17,\n",
    "    'parents': {\n",
    "        'father': {\n",
    "            'last_name': \"Doe\"\n",
    "        },\n",
    "        'mother': {\n",
    "            'last_name': \"Doe\"\n",
    "        }\n",
    "    }\n",
    "};\n",
    "\n",
    "print(person['first_name'] + \" \" + person['parents']['father']['last_name'])"
   ]
  },
  {
   "cell_type": "markdown",
   "metadata": {},
   "source": [
    "## Arrays of Objects / List of Dictionaries "
   ]
  },
  {
   "cell_type": "markdown",
   "metadata": {},
   "source": [
    "Checking the length with JS and Python is very similar.  "
   ]
  },
  {
   "cell_type": "code",
   "execution_count": 21,
   "metadata": {},
   "outputs": [
    {
     "data": {
      "application/javascript": [
       "\n",
       "const grades = [{\n",
       "    date: \"2018-12-13\",\n",
       "    grade: 14\n",
       "}, {\n",
       "    date: \"2018-12-15\",\n",
       "    grade: 18\n",
       "}]\n",
       "\n",
       "element.text(grades.length)\n"
      ],
      "text/plain": [
       "<IPython.core.display.Javascript object>"
      ]
     },
     "metadata": {},
     "output_type": "display_data"
    }
   ],
   "source": [
    "%%js\n",
    "\n",
    "const grades = [{\n",
    "    date: \"2018-12-13\",\n",
    "    grade: 14\n",
    "}, {\n",
    "    date: \"2018-12-15\",\n",
    "    grade: 18\n",
    "}]\n",
    "\n",
    "element.text(grades.length)"
   ]
  },
  {
   "cell_type": "code",
   "execution_count": 18,
   "metadata": {},
   "outputs": [
    {
     "name": "stdout",
     "output_type": "stream",
     "text": [
      "2\n"
     ]
    }
   ],
   "source": [
    "# Python \n",
    "grades = [{\n",
    "    'date': \"2018-12-13\",\n",
    "    'grade': 14\n",
    "}, {\n",
    "    'date': \"2018-12-15\",\n",
    "    'grade': 18\n",
    "}]\n",
    "\n",
    "print(len(grades))"
   ]
  },
  {
   "cell_type": "code",
   "execution_count": 24,
   "metadata": {},
   "outputs": [
    {
     "data": {
      "application/javascript": [
       "\n",
       "const grades = [{\n",
       "    date: \"2018-12-13\",\n",
       "    grade: 14\n",
       "}, {\n",
       "    date: \"2018-12-15\",\n",
       "    grade: 18\n",
       "}]\n",
       "\n",
       "const getSumOfGrades = results => {\n",
       "    let total = 0;\n",
       "    for (let i = 0; i < results.length; i++){\n",
       "        let value = results[i].grade;\n",
       "        total += value\n",
       "    }\n",
       "    return total;\n",
       "};\n",
       "\n",
       "element.text(getSumOfGrades(results));\n"
      ],
      "text/plain": [
       "<IPython.core.display.Javascript object>"
      ]
     },
     "metadata": {},
     "output_type": "display_data"
    }
   ],
   "source": [
    "%%js\n",
    "\n",
    "const grades = [{\n",
    "    date: \"2018-12-13\",\n",
    "    grade: 14\n",
    "}, {\n",
    "    date: \"2018-12-15\",\n",
    "    grade: 18\n",
    "}]\n",
    "\n",
    "const getSumOfGrades = results => {\n",
    "    let total = 0;\n",
    "    for (let i = 0; i < results.length; i++){\n",
    "        let value = results[i].grade;\n",
    "        total += value\n",
    "    }\n",
    "    return total;\n",
    "};\n",
    "\n",
    "// run in console this code does work\n",
    "element.text(getSumOfGrades(results));"
   ]
  },
  {
   "cell_type": "code",
   "execution_count": 43,
   "metadata": {},
   "outputs": [
    {
     "name": "stdout",
     "output_type": "stream",
     "text": [
      "32\n"
     ]
    }
   ],
   "source": [
    "# Python \n",
    "\n",
    "grades = [{\n",
    "    'date': \"2018-12-13\",\n",
    "    'grade': 14\n",
    "}, {\n",
    "    'date': \"2018-12-15\",\n",
    "    'grade': 18\n",
    "}]\n",
    "\n",
    "def get_sum_of_grades(sum_grades):\n",
    "    total = 0\n",
    "    for g in range(len(sum_grades)):\n",
    "        total += sum_grades[g]['grade']\n",
    "    return total\n",
    "    \n",
    "print(get_sum_of_grades(grades))"
   ]
  },
  {
   "cell_type": "code",
   "execution_count": 35,
   "metadata": {},
   "outputs": [
    {
     "name": "stdout",
     "output_type": "stream",
     "text": [
      "2\n"
     ]
    }
   ],
   "source": [
    "grades = [{\n",
    "    'date': \"2018-12-13\",\n",
    "    'grade': 14\n",
    "}, {\n",
    "    'date': \"2018-12-15\",\n",
    "    'grade': 18\n",
    "}]\n",
    "\n",
    "print(len(grades))"
   ]
  },
  {
   "cell_type": "markdown",
   "metadata": {},
   "source": [
    "**Python Dictionary of Lists**\n",
    "\n",
    "```\n",
    "classes = {\"Math\" : [\"David\", \"Lucy\", \"Dana\"],\n",
    "           \"Physics\" : [\"Addison\", \"Vrushali\", \"Bilbo\"],\n",
    "           \"Chemistry\" : [\"Sara\", \"Lugos\", \"Mireia\", \"Perle\"],\n",
    "           \"Computing\" : [\"Partha\", \"Venijamin\", \"Terra\", \"Sofia\"],\n",
    "           \"History\" : [\"Tryphon\", \"Gevorg\", \"Raza\", \"Rein\"]}\n",
    "\n",
    "```\n",
    "\n",
    "**JavaScript Object of Arrays**\n",
    "\n",
    "```\n",
    "classes = {Math : [\"David\", \"Lucy\", \"Dana\"],\n",
    "           Physics : [\"Addison\", \"Vrushali\", \"Bilbo\"],\n",
    "           Chemistry : [\"Sara\", \"Lugos\", \"Mireia\", \"Perle\"],\n",
    "           Computing : [\"Partha\", \"Venijamin\", \"Terra\", \"Sofia\"],\n",
    "           History : [\"Tryphon\", \"Gevorg\", \"Raza\", \"Rein\"]}\n",
    "\n",
    "```"
   ]
  },
  {
   "cell_type": "code",
   "execution_count": 45,
   "metadata": {},
   "outputs": [
    {
     "data": {
      "application/javascript": [
       "\n",
       "let values = [10, 20, 30, 40]\n",
       "const adding = (num, total) => {return num + total};\n",
       "\n",
       "let result = values.reduce(adding)\n",
       "\n",
       "element.text(result)\n"
      ],
      "text/plain": [
       "<IPython.core.display.Javascript object>"
      ]
     },
     "metadata": {},
     "output_type": "display_data"
    }
   ],
   "source": [
    "%%js\n",
    "\n",
    "let values = [10, 20, 30, 40]\n",
    "const adding = (num, total) => {return num + total};\n",
    "\n",
    "let result = values.reduce(adding)\n",
    "\n",
    "element.text(result)"
   ]
  },
  {
   "cell_type": "code",
   "execution_count": null,
   "metadata": {},
   "outputs": [],
   "source": []
  },
  {
   "cell_type": "code",
   "execution_count": null,
   "metadata": {},
   "outputs": [],
   "source": []
  },
  {
   "cell_type": "code",
   "execution_count": null,
   "metadata": {},
   "outputs": [],
   "source": []
  },
  {
   "cell_type": "code",
   "execution_count": null,
   "metadata": {},
   "outputs": [],
   "source": []
  },
  {
   "cell_type": "code",
   "execution_count": null,
   "metadata": {},
   "outputs": [],
   "source": []
  },
  {
   "cell_type": "code",
   "execution_count": null,
   "metadata": {},
   "outputs": [],
   "source": []
  },
  {
   "cell_type": "code",
   "execution_count": null,
   "metadata": {},
   "outputs": [],
   "source": []
  }
 ],
 "metadata": {
  "hide_input": false,
  "kernelspec": {
   "display_name": "Python 3",
   "language": "python",
   "name": "python3"
  },
  "language_info": {
   "codemirror_mode": {
    "name": "ipython",
    "version": 3
   },
   "file_extension": ".py",
   "mimetype": "text/x-python",
   "name": "python",
   "nbconvert_exporter": "python",
   "pygments_lexer": "ipython3",
   "version": "3.7.7"
  },
  "latex_envs": {
   "LaTeX_envs_menu_present": true,
   "autoclose": false,
   "autocomplete": true,
   "bibliofile": "biblio.bib",
   "cite_by": "apalike",
   "current_citInitial": 1,
   "eqLabelWithNumbers": true,
   "eqNumInitial": 1,
   "hotkeys": {
    "equation": "Ctrl-E",
    "itemize": "Ctrl-I"
   },
   "labels_anchors": false,
   "latex_user_defs": false,
   "report_style_numbering": false,
   "user_envs_cfg": false
  },
  "toc": {
   "base_numbering": 1,
   "nav_menu": {},
   "number_sections": true,
   "sideBar": true,
   "skip_h1_title": false,
   "title_cell": "Table of Contents",
   "title_sidebar": "Contents",
   "toc_cell": false,
   "toc_position": {},
   "toc_section_display": true,
   "toc_window_display": false
  },
  "varInspector": {
   "cols": {
    "lenName": 16,
    "lenType": 16,
    "lenVar": 40
   },
   "kernels_config": {
    "python": {
     "delete_cmd_postfix": "",
     "delete_cmd_prefix": "del ",
     "library": "var_list.py",
     "varRefreshCmd": "print(var_dic_list())"
    },
    "r": {
     "delete_cmd_postfix": ") ",
     "delete_cmd_prefix": "rm(",
     "library": "var_list.r",
     "varRefreshCmd": "cat(var_dic_list()) "
    }
   },
   "types_to_exclude": [
    "module",
    "function",
    "builtin_function_or_method",
    "instance",
    "_Feature"
   ],
   "window_display": false
  }
 },
 "nbformat": 4,
 "nbformat_minor": 4
}
